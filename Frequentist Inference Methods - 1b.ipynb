{
 "cells": [
  {
   "cell_type": "code",
   "execution_count": 4,
   "metadata": {},
   "outputs": [
    {
     "name": "stdout",
     "output_type": "stream",
     "text": [
      "(1338, 8)\n"
     ]
    },
    {
     "data": {
      "text/html": [
       "<div>\n",
       "<style scoped>\n",
       "    .dataframe tbody tr th:only-of-type {\n",
       "        vertical-align: middle;\n",
       "    }\n",
       "\n",
       "    .dataframe tbody tr th {\n",
       "        vertical-align: top;\n",
       "    }\n",
       "\n",
       "    .dataframe thead th {\n",
       "        text-align: right;\n",
       "    }\n",
       "</style>\n",
       "<table border=\"1\" class=\"dataframe\">\n",
       "  <thead>\n",
       "    <tr style=\"text-align: right;\">\n",
       "      <th></th>\n",
       "      <th>age</th>\n",
       "      <th>sex</th>\n",
       "      <th>bmi</th>\n",
       "      <th>children</th>\n",
       "      <th>smoker</th>\n",
       "      <th>region</th>\n",
       "      <th>charges</th>\n",
       "      <th>insuranceclaim</th>\n",
       "    </tr>\n",
       "  </thead>\n",
       "  <tbody>\n",
       "    <tr>\n",
       "      <th>0</th>\n",
       "      <td>19</td>\n",
       "      <td>0</td>\n",
       "      <td>27.900</td>\n",
       "      <td>0</td>\n",
       "      <td>1</td>\n",
       "      <td>3</td>\n",
       "      <td>16884.92400</td>\n",
       "      <td>1</td>\n",
       "    </tr>\n",
       "    <tr>\n",
       "      <th>1</th>\n",
       "      <td>18</td>\n",
       "      <td>1</td>\n",
       "      <td>33.770</td>\n",
       "      <td>1</td>\n",
       "      <td>0</td>\n",
       "      <td>2</td>\n",
       "      <td>1725.55230</td>\n",
       "      <td>1</td>\n",
       "    </tr>\n",
       "    <tr>\n",
       "      <th>2</th>\n",
       "      <td>28</td>\n",
       "      <td>1</td>\n",
       "      <td>33.000</td>\n",
       "      <td>3</td>\n",
       "      <td>0</td>\n",
       "      <td>2</td>\n",
       "      <td>4449.46200</td>\n",
       "      <td>0</td>\n",
       "    </tr>\n",
       "    <tr>\n",
       "      <th>3</th>\n",
       "      <td>33</td>\n",
       "      <td>1</td>\n",
       "      <td>22.705</td>\n",
       "      <td>0</td>\n",
       "      <td>0</td>\n",
       "      <td>1</td>\n",
       "      <td>21984.47061</td>\n",
       "      <td>0</td>\n",
       "    </tr>\n",
       "    <tr>\n",
       "      <th>4</th>\n",
       "      <td>32</td>\n",
       "      <td>1</td>\n",
       "      <td>28.880</td>\n",
       "      <td>0</td>\n",
       "      <td>0</td>\n",
       "      <td>1</td>\n",
       "      <td>3866.85520</td>\n",
       "      <td>1</td>\n",
       "    </tr>\n",
       "  </tbody>\n",
       "</table>\n",
       "</div>"
      ],
      "text/plain": [
       "   age  sex     bmi  children  smoker  region      charges  insuranceclaim\n",
       "0   19    0  27.900         0       1       3  16884.92400               1\n",
       "1   18    1  33.770         1       0       2   1725.55230               1\n",
       "2   28    1  33.000         3       0       2   4449.46200               0\n",
       "3   33    1  22.705         0       0       1  21984.47061               0\n",
       "4   32    1  28.880         0       0       1   3866.85520               1"
      ]
     },
     "execution_count": 4,
     "metadata": {},
     "output_type": "execute_result"
    }
   ],
   "source": [
    "import pandas as pd\n",
    "import numpy as np\n",
    "import matplotlib.pyplot as plt\n",
    "import seaborn as sns\n",
    "from scipy.stats import t\n",
    "from numpy.random import seed\n",
    "medical = pd.read_csv('data/insurance2.csv')\n",
    "\n",
    "print(medical.shape)\n",
    "\n",
    "medical.head()"
   ]
  },
  {
   "cell_type": "code",
   "execution_count": 25,
   "metadata": {
    "scrolled": false
   },
   "outputs": [
    {
     "name": "stdout",
     "output_type": "stream",
     "text": [
      "count     1338.000000\n",
      "mean     13270.422265\n",
      "std      12110.011237\n",
      "min       1121.873900\n",
      "25%       4740.287150\n",
      "50%       9382.033000\n",
      "75%      16639.912515\n",
      "max      63770.428010\n",
      "Name: charges, dtype: float64\n"
     ]
    }
   ],
   "source": [
    "print(medical['charges'].describe())"
   ]
  },
  {
   "cell_type": "markdown",
   "metadata": {},
   "source": [
    "Above, we calculated the mean and standard deviation, as well as several other summary statistics that we can use to begin to understand our data. In this mini-project I will be focusing on the medical charges. Focusing on the charges I will simulate a real-world business problem and how it would be dealt with as if you had recently been hired by hospital administration as a consultant to assist in developing business strategy and insight regarding some important questions needing to be answered. Below I will plot \"charges\", in a multitude of different looks, beginning with simple histograms and kernel densities, then I will plot the charge data using a swarm plot which will depict a better understanding of distribution characteristics opposed to histograms as well as visualize charges with a couple boxplots which would be give more insight than all of the above."
   ]
  },
  {
   "cell_type": "code",
   "execution_count": 26,
   "metadata": {},
   "outputs": [
    {
     "data": {
      "image/png": "[encoded data removed]",
      "text/plain": [
       "<Figure size 432x288 with 1 Axes>"
      ]
     },
     "metadata": {
      "needs_background": "light"
     },
     "output_type": "display_data"
    },
    {
     "data": {
      "image/png": "[encoded data removed]",
      "text/plain": [
       "<Figure size 432x288 with 1 Axes>"
      ]
     },
     "metadata": {
      "needs_background": "light"
     },
     "output_type": "display_data"
    }
   ],
   "source": [
    "plt.hist(medical['charges'])\n",
    "plt.title('Charge sample data')\n",
    "plt.axvline(13270, c='red')\n",
    "plt.annotate('mean'.format(avg_charge), xy=(13570, 450), xytext=(20500, 400),\n",
    "            arrowprops=dict(facecolor='white', shrink=0.05))\n",
    "plt.show()\n",
    "\n",
    "#kde\n",
    "sns.kdeplot(medical['charges'])\n",
    "plt.title('Kernel Density Estimation: Charges')\n",
    "plt.axvline(12000, c='red')\n",
    "plt.tight_layout()"
   ]
  },
  {
   "cell_type": "markdown",
   "metadata": {},
   "source": [
    "We see we have an exponential distribution. Exponential distributions are always skewed, right-skewed to be exact. This tells us we have some extremely large and peculiar charges relative to the average charge (shown by solid vertical line) which is disrupting what we'd expect to be a normal standard distribution. Because this is a skewed set, the median would be a better value opposed to the mean if looking for centrality. Looking at the standard deviation also indicates the presence of these outliers. These can be seen clearly in the boxplot."
   ]
  },
  {
   "cell_type": "code",
   "execution_count": 42,
   "metadata": {},
   "outputs": [
    {
     "name": "stdout",
     "output_type": "stream",
     "text": [
      "Average charge: 13270.42\n",
      "Charge standard deviation: 12110.01\n",
      "median: 9382.033\n"
     ]
    },
    {
     "data": {
      "image/png": "[encoded data removed]",
      "text/plain": [
       "<Figure size 432x288 with 1 Axes>"
      ]
     },
     "metadata": {
      "needs_background": "light"
     },
     "output_type": "display_data"
    }
   ],
   "source": [
    "mean_charge = round(np.mean(medical['charges']), 2)\n",
    "print('Average charge: {}'.format(mean_charge))\n",
    "\n",
    "charge_std = round(np.std(medical['charges'], ddof=1), 2)\n",
    "print('Charge standard deviation: {}'.format(charge_std))\n",
    "\n",
    "plt.hist(medical['charges'])#, bins=50)\n",
    "\n",
    "# median\n",
    "median_val = np.percentile(medical.charges, 50)\n",
    "print('median: {}'.format(median_val))\n",
    "plt.axvline(median_val, c='red', lw=2)\n",
    "plt.annotate('median'.format(avg_charge), xy=(10570, 520), xytext=(17000, 520),arrowprops=dict(facecolor='red', shrink=0.05))\n",
    "\n",
    "#mean\n",
    "plt.axvline(13270, c='black', lw=2)\n",
    "plt.annotate('mean'.format(avg_charge), xy=(15070, 350), xytext=(25500, 350), arrowprops=dict(facecolor='black', shrink=0.05))\n",
    "\n",
    "# hypothesis\n",
    "plt.axvline(12000, c='darkgrey', ls='--', lw=2)\n",
    "SUB = str.maketrans(\"0\", \"₀\")\n",
    "string = \"H0: < 12000\"\n",
    "plt.annotate(string.translate(SUB), xy=(-1, 425), xytext=(14000, 425),\n",
    "             arrowprops=dict(arrowstyle='<->',color='darkgrey',linewidth=2, shrinkA=6, shrinkB=2))\n",
    "\n",
    "plt.tight_layout()"
   ]
  },
  {
   "cell_type": "markdown",
   "metadata": {},
   "source": [
    "Sample statistics like the sample mean computed from only a sample (such as the data we have here to work with, just a sample of the data provided by the hospital the analysis is being done for) will be expected to vary from one draw to another. If we were to perform additional random sampling of n (size) observations and calculate the mean of each, we get the sampling distribution of the mean. The Central Limit Theorem (CLT) tells us that the distribution of these means across samples will approach a normal distribution as the number of observations (𝑛) increases. For the sampling distribution of the mean, we get the standard deviation for the sampling distribution of the mean (𝜎𝑚𝑒𝑎𝑛) in this way:\n",
    "- 𝜎𝑚𝑒𝑎𝑛 = 𝜎/√𝑛\n",
    "    - 𝜎: population standard deviation\n",
    "\n",
    "Since all we have is a sample of the population data, we can calculate the mean and std of this sample using these as estimates of our population mean and std. We sample many times and look at how they vary across the samples. Below I will do (compute many samples) for both mean and std of the sample "
   ]
  },
  {
   "cell_type": "code",
   "execution_count": 39,
   "metadata": {},
   "outputs": [
    {
     "data": {
      "image/png": "[encoded data removed]",
      "text/plain": [
       "<Figure size 432x288 with 1 Axes>"
      ]
     },
     "metadata": {
      "needs_background": "light"
     },
     "output_type": "display_data"
    },
    {
     "data": {
      "image/png": "[encoded data removed]",
      "text/plain": [
       "<Figure size 432x288 with 1 Axes>"
      ]
     },
     "metadata": {
      "needs_background": "light"
     },
     "output_type": "display_data"
    }
   ],
   "source": [
    "# standard box-plot\n",
    "plt.boxplot(medical['charges'])\n",
    "plt.title('Charges')\n",
    "plt.show()\n",
    "\n",
    "#boxenplot for large numbers\n",
    "ax = sns.boxenplot(x=medical['charges'])\n",
    "ax = sns.swarmplot(x=medical['insuranceclaim'], hue=medical['smoker'])\n",
    "plt.title('BoxenPlot with overlay of all observations')\n",
    "plt.tight_layout()"
   ]
  },
  {
   "cell_type": "markdown",
   "metadata": {},
   "source": [
    "__Q:__ The administrator is concerned that the actual average charge has fallen below 12000, threatening the hospital's operational model. On the assumption that these data represent a random sample of charges, how would you justify that these data allow you to answer that question? And what would be the most appropriate frequentist test, of the ones discussed so far, to apply?"
   ]
  },
  {
   "cell_type": "markdown",
   "metadata": {},
   "source": [
    "__A:__ Based on the CLT, as n increases we can expect distribtuion to approach normal distribution. This allows us to estimate the population mean from the sampling distribution of the sample means. Bootstrap sampling is a good candidate considering the data is non-normal in its distribution. The most appropriate test would be the single sample t-test."
   ]
  },
  {
   "cell_type": "markdown",
   "metadata": {},
   "source": [
    "__Q:__ Given the nature of the administrator's concern, what is the appropriate confidence interval in this case? A one-sided or two-sided interval? Calculate the critical value and the relevant 95% confidence interval for the mean and comment on whether the administrator should be concerned?"
   ]
  },
  {
   "cell_type": "markdown",
   "metadata": {},
   "source": [
    "__A:__ Typically a confidence level of 95% is common confidence level to estimate a confidence interval from. In this case, given the H_o_ (null hypothesis) of average charge less than 12000, this would call for a single tail test since the concern is a fear that the average charge has falling below (to the left tail) 12000. We choose one-tail interval test because this will test for whether the mean is less than or if mean is greater than null, but not both. In this specific case we are concerned with less than null (12000)."
   ]
  },
  {
   "cell_type": "code",
   "execution_count": 58,
   "metadata": {},
   "outputs": [
    {
     "name": "stdout",
     "output_type": "stream",
     "text": [
      "Mean charge from bootstrap sample: 14021.0\n",
      "Median charge from bootstrap sample: 9415.0\n",
      "\n",
      "Mean charge of entire sample data: 13270\n",
      "Median charge of entire sample data: 9382.0\n"
     ]
    }
   ],
   "source": [
    "np.random.seed(77)\n",
    "for _ in range(50):\n",
    "    # Generate bootstrap sample\n",
    "    bs_sample = np.random.choice(medical.charges, size=len(medical.charges))\n",
    "\n",
    "bs_sample_mean = np.mean(bs_sample)\n",
    "print('Mean charge from bootstrap sample: {}'.format(round(bs_sample_mean),3))\n",
    "bs_sample_median = np.median(bs_sample)\n",
    "print('Median charge from bootstrap sample: {}\\n'.format(round(bs_sample_median),3))\n",
    "\n",
    "sample_mean = np.mean(medical.charges)\n",
    "print('Mean charge of entire sample data: {}'.format(round(sample_mean),3))\n",
    "sample_median = np.median(medical.charges)\n",
    "print('Median charge of entire sample data: {}'.format(round(sample_median),3))"
   ]
  },
  {
   "cell_type": "markdown",
   "metadata": {},
   "source": [
    "The numbers show (above), as sample size (n) increases, distribution gradually becomes more normally distributed which means, the more samples taken the better are our ability to replicate an estimated parameter from sample for the population our sample derived from.\n",
    "***********\n",
    "Next, \n",
    "I will calculate the critical value for confidence interval at 95 percent confidence level but to begin with:\n",
    "\n",
    "- Build out the sampling distribution of the mean from many samples to estimate our population parameter which will be needed to answer the following question since we dont know anything about the population, I'll begin with plotting a cdf of an individual bootstrap sample and calculate a boostrap replicate for the sample mean then compare it to an ecdf of the original data (for charges). \n",
    "\n",
    "    - ECDF: An empirical cumulative density function (ecdf) is a distribution of the probabilities you would get if you sampled from your sample, instead of the population. Since all we have is a sample, this makes sense to do here,  especially to show the difference of means from a single bootstrap sample and the sampling distribution of means."
   ]
  },
  {
   "cell_type": "code",
   "execution_count": 69,
   "metadata": {},
   "outputs": [
    {
     "data": {
      "image/png": "[encoded data removed]",
      "text/plain": [
       "<Figure size 432x288 with 1 Axes>"
      ]
     },
     "metadata": {
      "needs_background": "light"
     },
     "output_type": "display_data"
    },
    {
     "data": {
      "image/png": "[encoded data removed]",
      "text/plain": [
       "<Figure size 432x288 with 1 Axes>"
      ]
     },
     "metadata": {
      "needs_background": "light"
     },
     "output_type": "display_data"
    }
   ],
   "source": [
    "np.random.seed(77)\n",
    "x = np.sort(bs_sample)# medical.charges\n",
    "n = x.size\n",
    "norm_cdf = np.arange(1, n+1) / n\n",
    "\n",
    "chart = sns.lineplot(x=x, y=norm_cdf)\n",
    "chart.axvline(12000, c='darkgrey', lw=2, ls='--')\n",
    "chart.set_title('CDF')\n",
    "chart.set_xlabel('Charge ($)')\n",
    "chart.set_ylabel('Percent')\n",
    "plt.show()\n",
    "\n",
    "# Plot PPf\n",
    "x = np.sort(bs_sample)\n",
    "norm_ppf = np.arange(1, n+1) / n\n",
    "chart1 = sns.lineplot(norm_ppf, x)\n",
    "chart1.axhline(12000, c='darkgrey', lw=2, ls='--')\n",
    "\n",
    "chart1.set_title('PPF')\n",
    "chart1.set_xlabel('Percent')\n",
    "chart1.set_ylabel('Total Charge ($)')\n",
    "plt.tight_layout()"
   ]
  },
  {
   "cell_type": "markdown",
   "metadata": {},
   "source": [
    "Given the nature of the administrator's concern, we'd need to determine an appropriate confidence interval. Below I calculate the critical value and the relevant 95% confidence interval for the mean. With this infromation we can begin to suggest whether there should be reason for concern regarding the likelihood for the mean charge falling below 12000."
   ]
  },
  {
   "cell_type": "markdown",
   "metadata": {},
   "source": [
    "The administrator then wants to know whether people with insurance really are charged a different amount to those without.\n",
    "\n",
    "__Q:__ State the null and alternative hypothesis here. Use the _t_-test for the difference between means where the pooled standard deviation of the two groups is given by\n",
    "\\begin{equation}\n",
    "s_p = \\sqrt{\\frac{(n_0 - 1)s^2_0 + (n_1 - 1)s^2_1}{n_0 + n_1 - 2}}\n",
    "\\end{equation}\n",
    "\n",
    "and the *t* test statistic is then given by\n",
    "\n",
    "\\begin{equation}\n",
    "t = \\frac{\\bar{x}_0 - \\bar{x}_1}{s_p \\sqrt{1/n_0 + 1/n_1}}.\n",
    "\\end{equation}\n",
    "\n",
    "What assumption about the variances of the two groups are we making here?"
   ]
  },
  {
   "cell_type": "code",
   "execution_count": 76,
   "metadata": {},
   "outputs": [
    {
     "name": "stdout",
     "output_type": "stream",
     "text": [
      "Average charge for people without claims: 8821.42\n",
      "Average charge for people with claims: 16423.93\n"
     ]
    }
   ],
   "source": [
    "charges_without_claim = medical.loc[medical.insuranceclaim == 0, 'charges']\n",
    "print('Average charge for people without claims: {}'.format(round(np.mean(charges_without_claim),2)))\n",
    "\n",
    "charges_with_claim = medical.loc[medical.insuranceclaim == 1, 'charges']\n",
    "print('Average charge for people with claims: {}'.format(round(np.mean(charges_with_claim),2)))"
   ]
  },
  {
   "cell_type": "code",
   "execution_count": 77,
   "metadata": {},
   "outputs": [
    {
     "name": "stdout",
     "output_type": "stream",
     "text": [
      "t: -65813.27822149995\n",
      "dof: 1336\n"
     ]
    }
   ],
   "source": [
    "# t manually\n",
    "# means of both groups\n",
    "a = charges_without_claim\n",
    "b = charges_with_claim\n",
    "\n",
    "mean_a = np.mean(a)\n",
    "mean_b = np.mean(b)\n",
    "\n",
    "\n",
    "# sum the two groups\n",
    "sum_a = np.sum(a)\n",
    "sum_b = np.sum(b)\n",
    "# square the sums\n",
    "sum_squared_a = np.sqrt(sum_a)\n",
    "sum_squared_b = np.sqrt(sum_b)\n",
    "\n",
    "#square individual scores\n",
    "sum_individual_scores_a = [np.sum(np.sqrt(charge)) for charge in a]\n",
    "sum_individ_scores_b = [np.sum(np.sqrt(charge)) for charge in b]\n",
    "\n",
    "left = sum_squared_a - sum_squared_a/len(a)\n",
    "\n",
    "right = sum_squared_b - sum_squared_b/len(b)\n",
    "\n",
    "sum_squared_mimus_len_ab = left + right\n",
    "\n",
    "denom1 = (len(a)+len(b)) - 2\n",
    "denom2 = (1/len(a)) + (1/len(b))\n",
    "\n",
    "denom3 = (sum_squared_mimus_len_ab / denom1) * denom2\n",
    "\n",
    "mean_diff_ab = mean_a - mean_b\n",
    "t = mean_diff_ab / np.sqrt(denom3)\n",
    "\n",
    "print('t: {}'.format(t))\n",
    "dof = (len(a) - 1) + (len(b) - 1)\n",
    "print('dof: {}'.format(dof))"
   ]
  },
  {
   "cell_type": "markdown",
   "metadata": {},
   "source": [
    "As we can see, a bootstrap replicate of the mean computed from a single sample is not very telling for estimating the mean of the population, let alone the individual sample data itself. Therefore, as opposed to a single sample, below I will sample many times from our sample data in effort to build out a sampling distribution of means. This allows for a more accurate estimate of what an average charge would look like for an entire population."
   ]
  },
  {
   "cell_type": "code",
   "execution_count": 78,
   "metadata": {},
   "outputs": [
    {
     "name": "stdout",
     "output_type": "stream",
     "text": [
      "Sampling distribution mean charge: 13270.56\n",
      "Standard Deviation of sampling distribution of means: 330.73\n"
     ]
    },
    {
     "data": {
      "image/png": "[encoded data removed]",
      "text/plain": [
       "<Figure size 720x360 with 1 Axes>"
      ]
     },
     "metadata": {
      "needs_background": "light"
     },
     "output_type": "display_data"
    }
   ],
   "source": [
    "# estimating the mean charge from sampling distribution of means manually\n",
    "np.random.seed(1)\n",
    "\n",
    "# function for building sammpling distribution\n",
    "def population_sampler(n):\n",
    "    return np.random.choice(medical.charges, n)  \n",
    "\n",
    "# Establish sampling distribution of mean from 50,000 bootstrap samples \n",
    "n = len(medical.charges)\n",
    "sampling_dist  = [np.mean(population_sampler(n)) for _ in range(50000)]\n",
    "\n",
    "sampling_dist_mean = round(np.mean(sampling_dist),2)\n",
    "print('Sampling distribution mean charge: {}'.format(sampling_dist_mean))\n",
    "\n",
    "sampling_dist_std = round(np.std(sampling_dist, ddof=1), 2)\n",
    "string = 'Standard Deviation of sampling distribution of means: {}'\n",
    "print(string.format(sampling_dist_std)) \n",
    "\n",
    "# plot sampling distribution of mean\n",
    "fig, ax = plt.subplots(1, figsize=(10,5))\n",
    "plt.hist(sampling_dist, bins=85)\n",
    "plt.tight_layout()\n",
    "\n",
    "#mean indicator and annotation\n",
    "plt.axvline(13270.56, c='black', lw=2)\n",
    "plt.annotate('mean: $13,270'.format(sampling_dist_mean), xy=(13270, 2000), xytext=(14050, 2000),\n",
    "             arrowprops=dict(arrowstyle='->', color='black'))#, linewidth=1, shrinkA=6, shrinkB=2))\n",
    "\n",
    "# hypothesis indicator and annotation\n",
    "plt.axvline(12000, c='darkgrey', ls='--', lw=1)\n",
    "hypothesis = 12000\n",
    "plt.annotate(\"Ho: < $12,000\".format(hypothesis), xy=(12000, 2000), xytext=(12150, 2000), \n",
    "             arrowprops=dict(arrowstyle='->', color='darkgrey'))#, linewidth=1, shrinkA=4, shrinkB=1))\n",
    "\n",
    "plus_one_std = sampling_dist_mean + sampling_dist_std\n",
    "minus_one_std = sampling_dist_mean - sampling_dist_std\n",
    "plt.axvline(plus_one_std, c='red', ls='--', lw=1)\n",
    "plt.annotate(\"+ 1 std\".format(plus_one_std), xy=(13600, 1700), xytext=(14200, 1700), \n",
    "             arrowprops=dict(arrowstyle='->', color='red'))#, linewidth=1, shrinkA=6, shrinkB=2))\n",
    "\n",
    "plt.axvline(minus_one_std, c='red', ls='--', lw=1)\n",
    "plt.annotate(\"- 1 std\".format(minus_one_std), xy=(12940, 1750), xytext=(12100, 1700), \n",
    "             arrowprops=dict(arrowstyle='->', color='red'))#, linewidth=1, shrinkA=6, shrinkB=2))\n",
    "\n",
    "plus_two_std = plus_one_std + sampling_dist_std\n",
    "minus_two_std = minus_one_std - sampling_dist_std\n",
    "plt.axvline(plus_two_std, c='red', ls='--', lw=1)\n",
    "plt.annotate(\"+ 2 std\".format(plus_two_std), xy=(13930, 1250), xytext=(14200, 1250), \n",
    "             arrowprops=dict(arrowstyle='->', color='red'))#, linewidth=1, shrinkA=6, shrinkB=2))\n",
    "\n",
    "plt.axvline(minus_two_std, c='red', ls='--', lw=1)\n",
    "plt.annotate(\"- 2 std\".format(minus_two_std), xy=(12610, 1250), xytext=(12100, 1250), \n",
    "             arrowprops=dict(arrowstyle='->', color='red'))#, linewidth=1, shrinkA=2, shrinkB=2))\n",
    "\n",
    "plt.title('Sampling Distribution of Mean Charge')\n",
    "plt.xlabel('Charge')\n",
    "plt.ylabel('Count')\n",
    "plt.tight_layout()"
   ]
  },
  {
   "cell_type": "markdown",
   "metadata": {},
   "source": [
    "Above, we see the sampling distribution of means with a mean charge of 13270.56. This is light-years away from the assumption of a mean charge of 12000 that was a concern to the hospital administration. \n",
    "*****\n",
    "__Question continued:__ Calculate the critical value and the relevant 95% confidence interval for the mean and comment on whether the administrator should be concerned?"
   ]
  },
  {
   "cell_type": "markdown",
   "metadata": {},
   "source": [
    "__Answer continued:__\n",
    "\n",
    "Below I will calculate the critical value and the confidence interval at 95% confidence level."
   ]
  },
  {
   "cell_type": "code",
   "execution_count": 79,
   "metadata": {},
   "outputs": [
    {
     "name": "stdout",
     "output_type": "stream",
     "text": [
      "Critical Value for 95% confidence level: -1.64\n",
      "-------------------------------------------------\n",
      "Confirm alpha: True\n",
      "Confirm confidence level at critical val -1.64: 0.95\n"
     ]
    }
   ],
   "source": [
    "from scipy.stats import norm\n",
    "\n",
    "# Critical value at 95% confidence level\n",
    "a = 0.05\n",
    "critical_val = round(norm.ppf(a),2)\n",
    "print('Critical Value for 95% confidence level: {}'.format(critical_val))\n",
    "print('-------------------------------------------------')\n",
    "# check alpha\n",
    "print('Confirm alpha: {}'.format(round(norm.cdf(-1.64),2) == a))\n",
    "# check confidence level\n",
    "print('Confirm confidence level at critical val -1.64: {}'.format(1 - round(norm.cdf(-1.64),2)))"
   ]
  },
  {
   "cell_type": "code",
   "execution_count": 75,
   "metadata": {},
   "outputs": [
    {
     "data": {
      "text/plain": [
       "1338"
      ]
     },
     "execution_count": 75,
     "metadata": {},
     "output_type": "execute_result"
    }
   ],
   "source": [
    "from scipy.stats import norm\n",
    "sample = np.random.choice(medical.charges, size=len(medical.charges))\n",
    "sample_mean = np.mean(sample)\n",
    "sample_std = np.std(sample, ddof=1)\n",
    "\n",
    "#The 95% confidence interval for population mean\n",
    "conf_level = .95\n",
    "alpha = 1-conf_level\n",
    "low_p = alpha / 2\n",
    "upp_p = conf_level + low_p  #  .975 = .95 + .025\n",
    "upper_v = norm.ppf(upp_p)\n",
    "lower_v = norm.ppf(low_p)"
   ]
  },
  {
   "cell_type": "code",
   "execution_count": 83,
   "metadata": {},
   "outputs": [
    {
     "name": "stdout",
     "output_type": "stream",
     "text": [
      "Minimum charge (at 2.5th percentile): 12628.94\n",
      "Maximum charge (at 97.5th percentile): 13919.45\n",
      "Confidence Interval (range) at 95% confidence: 12628.94 - 13919.45\n"
     ]
    }
   ],
   "source": [
    "# 95% Confidence interval (another method)\n",
    "# Lower percentile (2.5)\n",
    "lower_p = alpha / 2.0\n",
    "\n",
    "# Minimum charge at lower percentile (2.5) \n",
    "min_charge = round(min(sampling_dist),2)\n",
    "lower = max(min_charge, np.percentile(sampling_dist, lower_p))\n",
    "print('Minimum charge (at %.1fth percentile): %.2f' % (lower_p, lower))\n",
    "\n",
    "# upper percentile (97.5)\n",
    "upper_p = (100 - alpha) + (alpha / 2.0)\n",
    "\n",
    "# Maximum charge at upper percentile (97.5) \n",
    "max_charge = round(max(sampling_dist),2)\n",
    "upper = min(max_charge, np.percentile(sampling_dist, upper_p))\n",
    "print('Maximum charge (at %.1fth percentile): %.2f' % (upper_p, upper))\n",
    "print('Confidence Interval (range) at 95% confidence: {} - {}'.format(round(lower,2), round(upper,2)))"
   ]
  },
  {
   "cell_type": "markdown",
   "metadata": {},
   "source": [
    "- Plot critical value and z-scores for sampling distribution of means"
   ]
  },
  {
   "cell_type": "code",
   "execution_count": 80,
   "metadata": {},
   "outputs": [
    {
     "data": {
      "image/png": "[encoded data removed]",
      "text/plain": [
       "<Figure size 720x360 with 1 Axes>"
      ]
     },
     "metadata": {
      "needs_background": "light"
     },
     "output_type": "display_data"
    }
   ],
   "source": [
    "from scipy.stats import zscore\n",
    "fig, ax = plt.subplots(figsize=(10,5))\n",
    "\n",
    "# Plot critical value vs null on z-score sampling distribution\n",
    "sampling_dist = round(pd.Series(np.sort(sampling_dist)), 2)\n",
    "zscores = round(pd.Series(zscore(sampling_dist)), 2)\n",
    "zscore_df = pd.concat([sampling_dist, zscores], axis=1)\n",
    "zscore_df.rename(columns={0:'charge', 1:'z_score'}, inplace=True)\n",
    "\n",
    "ax.hist(zscore_df.z_score, bins=85)\n",
    "ax.grid(axis='x', lw=1.5)\n",
    "\n",
    "plt.axvline(-1, c='lightgrey', ls='-', lw=1.5)\n",
    "plt.axvline(-2, c='lightgrey', ls='-', lw=1.5)\n",
    "plt.axvline(+1, c='lightgrey', ls='-', lw=1.5)\n",
    "plt.axvline(+2, c='lightgrey', ls='-', lw=1.5)\n",
    "plt.axvline(-3, c='lightgrey', ls='-', lw=1.5)\n",
    "plt.axvline(+3, c='lightgrey', ls='-', lw=1.5)\n",
    "\n",
    "# critical value\n",
    "plt.axvline(critical_val, c='red', ls='-', lw=2.5)\n",
    "plt.annotate(\"Critical Value\\n     -1.64\".format(critical_val), xy=(-1.64, 1450), xytext=(-3.65, 1350), \n",
    "             arrowprops=dict(arrowstyle='->', color='red'))\n",
    "\n",
    "# Rejection Region\n",
    "plt.axhline(2000, c='red', ls='-', lw=1, xmax=-1.64)\n",
    "\n",
    "\n",
    "plt.title('Z-score for Sampling Distribution of means')\n",
    "plt.xlabel('z-score')\n",
    "plt.show()"
   ]
  },
  {
   "cell_type": "markdown",
   "metadata": {},
   "source": [
    "**Hypothesis Test**\n",
    "\n",
    "In our case considering a null hypothesis (Ho): <12000, this calls for a one-tail (left) hypothesis test where if null falls in rejection region which is everything to the left of critical value -1.64 (shown above) or all values < observed value of 12370 at crit -1.64 (shown below), then we reject null. We would accept null hypothesis if it fell anywhere to the right of our critical value or > observation. Below, I will plot observed value at critical level (-1.64) vs null hypothesis"
   ]
  },
  {
   "cell_type": "code",
   "execution_count": 81,
   "metadata": {},
   "outputs": [
    {
     "name": "stdout",
     "output_type": "stream",
     "text": [
      "Observation at 95% confidence level: 12730.46\n",
      "null hypothesis (Ho): 12000\n",
      "Reject null hypothesis\n"
     ]
    },
    {
     "data": {
      "image/png": "[encoded data removed]",
      "text/plain": [
       "<Figure size 720x360 with 1 Axes>"
      ]
     },
     "metadata": {
      "needs_background": "light"
     },
     "output_type": "display_data"
    }
   ],
   "source": [
    "\n",
    "alpha = 5\n",
    "conf_level = 100 - alpha\n",
    "min_observation = round(min(sampling_dist),2)\n",
    "observation = max(min_observation, np.percentile(sampling_dist, alpha))\n",
    "print('Observation at {}% confidence level: {}'.format(conf_level, round(observation,2)))\n",
    "\n",
    "# Plot null hypothesis vs critical value\n",
    "fig, ax = plt.subplots(figsize=(10, 5))\n",
    "plt.hist(sampling_dist, bins=85)\n",
    "plt.axvline(observation, label='observation: 12370.46', c='red', ls='-', lw=2.5)\n",
    "plt.annotate(\"$12370.46\\n(at crit -1.64)\".format(critical_val), xy=(12730, 1250), xytext=(12100, 1250), \n",
    "             arrowprops=dict(arrowstyle='->', color='red'))#, linewidth=1, shrinkA=2, shrinkB=2))\n",
    "\n",
    "# hypothesis indicator and annotation\n",
    "null = 12000\n",
    "print('null hypothesis (Ho): {}'.format(null))\n",
    "plt.axvline(null, label='null hypothesis: < 12000', c='darkgrey', ls='--', lw=2.5)\n",
    "plt.annotate(\"Ho: < $12,000\".format(null), xy=(12000, 2000), xytext=(12000, 1850),\n",
    "             arrowprops=dict(arrowstyle='->', color='darkgrey'))\n",
    "plt.title('Visualizing Hypothesis Test (null vs observed value)')\n",
    "plt.xlabel('Charge')\n",
    "plt.ylabel('Frequency')\n",
    "    \n",
    "# Run hypothesis test\n",
    "def left_tail_hypothesis_test(null, observation):\n",
    "    if null < observation:\n",
    "        print('Reject null hypothesis')\n",
    "    else:\n",
    "        print('Accept null hypothesis')\n",
    "left_tail_hypothesis_test(null=null, observation=observation)\n",
    "        \n",
    "#outcome = str(left_tail_hypothesis_test(null, observation))\n",
    "ax.annotate('Ho < $12370, reject null', xy=(13750,1625))\n",
    "plt.tight_layout()"
   ]
  },
  {
   "cell_type": "markdown",
   "metadata": {},
   "source": [
    "- 95% confidence interval (100 - alpha)"
   ]
  },
  {
   "cell_type": "code",
   "execution_count": 82,
   "metadata": {},
   "outputs": [
    {
     "name": "stdout",
     "output_type": "stream",
     "text": [
      "Minimum charge (at 2.5th percentile): 12628.94\n",
      "Maximum charge (at 97.5th percentile): 13919.45\n",
      "Confidence Interval (range) at 95% confidence: 12628.94 - 13919.45\n"
     ]
    }
   ],
   "source": [
    "# Lower percentile (2.5)\n",
    "lower_p = alpha / 2.0\n",
    "\n",
    "# Minimum charge at lower percentile (2.5) \n",
    "min_charge = round(min(sampling_dist),2)\n",
    "lower = max(min_charge, np.percentile(sampling_dist, lower_p))\n",
    "print('Minimum charge (at %.1fth percentile): %.2f' % (lower_p, lower))\n",
    "\n",
    "# upper percentile (97.5)\n",
    "upper_p = (100 - alpha) + (alpha / 2.0)\n",
    "\n",
    "# Maximum charge at upper percentile (97.5) \n",
    "max_charge = round(max(sampling_dist),2)\n",
    "upper = min(max_charge, np.percentile(sampling_dist, upper_p))\n",
    "print('Maximum charge (at %.1fth percentile): %.2f' % (upper_p, upper))\n",
    "print('Confidence Interval (range) at 95% confidence: {} - {}'.format(round(lower,2), round(upper,2)))"
   ]
  },
  {
   "cell_type": "markdown",
   "metadata": {},
   "source": [
    "CLT facts: The sampling distribution (of the mean) becomes narrower and narrower with the square root of the sample size. We remind ourselves that another result from the CLT is that even if the underlying population distribution is not normal (which is the case here), the sampling distribution will tend to become normal with sufficiently large sample size. This is the key driver for us 'requiring' a certain sample size. It is common to see a minimum sample size of 30 stated in many places. In reality this is simply a rule of thumb; if the underlying distribution is approximately normal then your sampling distribution will already be pretty normal, but **_if the underlying distribution is heavily skewed then you'd want to increase your sample size._**\n",
    "\n",
    "*************\n",
    "\n",
    "Use the t distribution for inference on a single mean or for comparing two means when the population standard deviations are unknown (which is the case in medical charges example here, as it is with real data, in the real world). With the t-distribution , we calculate the t-statistic in the same way as the z-statistic like so:\n",
    "\n",
    "**T-STATISTIC CALCULATION**\n",
    "- t-statistic = sample mean - null value / standard error of the sample mean.\n",
    "    - standard error: Is the standard deviation of its sampling distribution or an estimate of that standard deviation. If the parameter or the statistic is the mean, it is called the standard error of the mean"
   ]
  },
  {
   "cell_type": "code",
   "execution_count": 85,
   "metadata": {},
   "outputs": [
    {
     "name": "stdout",
     "output_type": "stream",
     "text": [
      "t-statistic: 3.841305507035002\n"
     ]
    }
   ],
   "source": [
    "sample_mean = np.mean(medical.charges)\n",
    "mean_hypothesis = 12000\n",
    "t_statistic = (sample_mean - null) / np.std(sampling_dist, ddof=1)\n",
    "print('t-statistic: {}'.format(t_statistic))"
   ]
  },
  {
   "cell_type": "code",
   "execution_count": 88,
   "metadata": {},
   "outputs": [
    {
     "name": "stdout",
     "output_type": "stream",
     "text": [
      "alpha for t at 3.84: 0.0002594233123130651\n",
      "Confidence level for t = 3.84: 0.9999356046682549\n",
      "t for 99.9% confidence level: 3.84\n"
     ]
    }
   ],
   "source": [
    "from scipy.stats import t\n",
    "dof = len(medical.charges) - 1\n",
    "print('alpha for t at 3.84: {}'.format(t.pdf(3.84, dof)))\n",
    "print('Confidence level for t = 3.84: {}'.format(t.cdf(3.84, dof)))\n",
    "print('t for 99.9% confidence level: {}'.format(round(t.ppf(0.9999356046682549, dof),2)))\n",
    "#print('t-score at 95% confidence level: {}\\n'.format(round(t.ppf(t_statistic, dof), 2)))\n",
    "#print('A t-score of -1.25 equals observation of {}'.format(12000 + (mean_of_samples_std * (round(t.ppf(t_statistic, dof), 2)))))\n",
    "\n",
    "#sns.distplot(medical.charges)\n",
    "#plt.axvline(181.53291933388113, ls='-', color='r')\n",
    "#plt.tight_layout()"
   ]
  },
  {
   "cell_type": "markdown",
   "metadata": {},
   "source": [
    "  > \"When you perform a t-test, you're usually trying to find evidence of a significant difference between population means (2-sample t) or between the population mean and a hypothesized value (1-sample t). The t-value measures the size of the difference relative to the variation in your sample data. Put another way, T is the difference (represented in units) between the standard errors. The greater the magnitude of T, the greater the evidence against the null hypothesis. This means there is greater evidence that there is a significant difference. The closer T is to 0, the more likely there isn't a significant difference.\n",
    "... Remember, the t-value in your output is calculated from only one sample from the entire population. How different could you expect the t-values from many random samples from the same population to be? And how does the t-value from your sample data compare to those expected t-values? You can use a t-distribution to find out.\" - [blog.minitab.com](https://blog.minitab.com/blog/statistics-and-quality-data-analysis/what-are-t-values-and-p-values-in-statistics)"
   ]
  },
  {
   "cell_type": "markdown",
   "metadata": {},
   "source": [
    "The administrator then wants to know whether people with insurance really are charged a different amount to those without."
   ]
  },
  {
   "cell_type": "code",
   "execution_count": 1,
   "metadata": {},
   "outputs": [
    {
     "ename": "NameError",
     "evalue": "name 'medical' is not defined",
     "output_type": "error",
     "traceback": [
      "\u001b[1;31m---------------------------------------------------------------------------\u001b[0m",
      "\u001b[1;31mNameError\u001b[0m                                 Traceback (most recent call last)",
      "\u001b[1;32m<ipython-input-1-0cd1acd0d849>\u001b[0m in \u001b[0;36m<module>\u001b[1;34m()\u001b[0m\n\u001b[1;32m----> 1\u001b[1;33m \u001b[0mcharges_without_claim\u001b[0m \u001b[1;33m=\u001b[0m \u001b[0mmedical\u001b[0m\u001b[1;33m.\u001b[0m\u001b[0mloc\u001b[0m\u001b[1;33m[\u001b[0m\u001b[0mmedical\u001b[0m\u001b[1;33m.\u001b[0m\u001b[0minsuranceclaim\u001b[0m \u001b[1;33m==\u001b[0m \u001b[1;36m0\u001b[0m\u001b[1;33m,\u001b[0m \u001b[1;34m'charges'\u001b[0m\u001b[1;33m]\u001b[0m\u001b[1;33m\u001b[0m\u001b[0m\n\u001b[0m\u001b[0;32m      2\u001b[0m \u001b[0mprint\u001b[0m\u001b[1;33m(\u001b[0m\u001b[1;34m'Average charge for people without claims: {}'\u001b[0m\u001b[1;33m.\u001b[0m\u001b[0mformat\u001b[0m\u001b[1;33m(\u001b[0m\u001b[0mround\u001b[0m\u001b[1;33m(\u001b[0m\u001b[0mnp\u001b[0m\u001b[1;33m.\u001b[0m\u001b[0mmean\u001b[0m\u001b[1;33m(\u001b[0m\u001b[0mcharges_without_claim\u001b[0m\u001b[1;33m)\u001b[0m\u001b[1;33m,\u001b[0m\u001b[1;36m2\u001b[0m\u001b[1;33m)\u001b[0m\u001b[1;33m)\u001b[0m\u001b[1;33m)\u001b[0m\u001b[1;33m\u001b[0m\u001b[0m\n\u001b[0;32m      3\u001b[0m \u001b[1;33m\u001b[0m\u001b[0m\n\u001b[0;32m      4\u001b[0m \u001b[0mcharges_with_claim\u001b[0m \u001b[1;33m=\u001b[0m \u001b[0mmedical\u001b[0m\u001b[1;33m.\u001b[0m\u001b[0mloc\u001b[0m\u001b[1;33m[\u001b[0m\u001b[0mmedical\u001b[0m\u001b[1;33m.\u001b[0m\u001b[0minsuranceclaim\u001b[0m \u001b[1;33m==\u001b[0m \u001b[1;36m1\u001b[0m\u001b[1;33m,\u001b[0m \u001b[1;34m'charges'\u001b[0m\u001b[1;33m]\u001b[0m\u001b[1;33m\u001b[0m\u001b[0m\n\u001b[0;32m      5\u001b[0m \u001b[0mprint\u001b[0m\u001b[1;33m(\u001b[0m\u001b[1;34m'Average charge for people with claims: {}\\n'\u001b[0m\u001b[1;33m.\u001b[0m\u001b[0mformat\u001b[0m\u001b[1;33m(\u001b[0m\u001b[0mround\u001b[0m\u001b[1;33m(\u001b[0m\u001b[0mnp\u001b[0m\u001b[1;33m.\u001b[0m\u001b[0mmean\u001b[0m\u001b[1;33m(\u001b[0m\u001b[0mcharges_with_claim\u001b[0m\u001b[1;33m)\u001b[0m\u001b[1;33m,\u001b[0m\u001b[1;36m2\u001b[0m\u001b[1;33m)\u001b[0m\u001b[1;33m)\u001b[0m\u001b[1;33m)\u001b[0m\u001b[1;33m\u001b[0m\u001b[0m\n",
      "\u001b[1;31mNameError\u001b[0m: name 'medical' is not defined"
     ]
    }
   ],
   "source": [
    "charges_without_claim = medical.loc[medical.insuranceclaim == 0, 'charges']\n",
    "print('Average charge for people without claims: {}'.format(round(np.mean(charges_without_claim),2)))\n",
    "\n",
    "charges_with_claim = medical.loc[medical.insuranceclaim == 1, 'charges']\n",
    "print('Average charge for people with claims: {}\\n'.format(round(np.mean(charges_with_claim),2)))\n",
    "Print('These averages are only from our sample data...\\nThe question is then:\\nWould these be representative of the entire population?')"
   ]
  },
  {
   "cell_type": "markdown",
   "metadata": {},
   "source": [
    "__Q:__ State the null and alternative hypothesis here.\n",
    "        \n",
    "        It is said generally that the null hypothesis is, no difference between groups. Therefore in this case:\n",
    "          - Ho = No difference between mean charges of groups (with and w/o claims)\n",
    "          - Ha != Significant statistical diffference between groups (with and w/o claims)\n",
    "\n",
    "__Q:__ What assumption about the variances of the two groups are we making here?\n",
    "       \n",
    "        We are assuming groups have equal variance."
   ]
  },
  {
   "cell_type": "markdown",
   "metadata": {},
   "source": [
    "Use the _t_-test for the difference between means where the pooled standard deviation of the two groups is given by\n",
    "\\begin{equation}\n",
    "s_p = \\sqrt{\\frac{(n_0 - 1)s^2_0 + (n_1 - 1)s^2_1}{n_0 + n_1 - 2}}\n",
    "\\end{equation}\n",
    "\n",
    "and the *t* test statistic is then given by\n",
    "\n",
    "\\begin{equation}\n",
    "t = \\frac{\\bar{x}_0 - \\bar{x}_1}{s_p \\sqrt{1/n_0 + 1/n_1}}.\n",
    "\\end{equation}"
   ]
  },
  {
   "cell_type": "markdown",
   "metadata": {},
   "source": [
    "__Q:__ Perform this hypothesis test both manually, using the above formulae, and then using the appropriate function from [scipy.stats](https://docs.scipy.org/doc/scipy/reference/stats.html#statistical-tests) (hint, you're looking for a function to perform a _t_-test on two independent samples). For the manual approach, calculate the value of the test statistic and then its probability (the p-value). Verify you get the same results from both.\n",
    "\n",
    "*********************"
   ]
  },
  {
   "cell_type": "markdown",
   "metadata": {},
   "source": [
    "Calculate T- with scipy.stats\n"
   ]
  },
  {
   "cell_type": "code",
   "execution_count": 95,
   "metadata": {},
   "outputs": [
    {
     "name": "stdout",
     "output_type": "stream",
     "text": [
      "T-Statistic: 11.893299030876712\n",
      "P-Val: 4.461230231620717e-31\n"
     ]
    }
   ],
   "source": [
    "# check manual work with scipy function\n",
    "t_stat, p_val = ss.ttest_ind(charges_with_claim, charges_without_claim)\n",
    "print('Independant T-Test from Scipy:\\n   - T-Statistic: {}\\n'.format(t_stat))\n",
    "print('   - P-Val: {}'.format(str(p_val)))\n",
    "\n",
    "# Or, same Independant t-test from statsmodels\n",
    "from statsmodels.stats.weightstats import ttest_ind\n",
    "\n",
    "t_stat, p_val, d_f = ttest_ind(charges_with_claim, charges_without_claim)\n",
    "print('Independant t-test from statsmodels:\\n   - t-statistic {}\\n   - p-value {}\\n   - dof {}'.format(t_stat, p_val, d_f))"
   ]
  },
  {
   "cell_type": "markdown",
   "metadata": {},
   "source": [
    "If we were to assume unequal variance:"
   ]
  },
  {
   "cell_type": "code",
   "execution_count": 98,
   "metadata": {},
   "outputs": [
    {
     "name": "stdout",
     "output_type": "stream",
     "text": [
      "T-Statistic: 13.298031957975649\n",
      "P-Val: 1.1105103216309125e-37\n"
     ]
    }
   ],
   "source": [
    "# equal_var=False for assuming unequal variances (by default, a two sample ttest or independant assumes equal variance)\n",
    "t_, p_ = ss.ttest_ind(charges_with_claim, charges_without_claim, equal_var=False)\n",
    "print('If we were to assume unequal variance:')\n",
    "print('    - T-Statistic: {}'.format(t_))\n",
    "print('    - P-Val: {}'.format(str(p_)))"
   ]
  },
  {
   "cell_type": "markdown",
   "metadata": {},
   "source": [
    "__A:__  An equivilent for the t-test above where we were comparing means of groups with unequal variances, for z-test, is CompareMeans.ztest_ind which compares group means that do not have the same sd.\n",
    "[CompareMeans.ztest_ind](https://www.statsmodels.org/devel/generated/statsmodels.stats.weightstats.CompareMeans.ztest_ind.html)\n",
    "\n",
    "To compare means for equal variance/sd, one could use the ztest() function from statsmodels. Along with equivilant sd's, independance is also assumed.\n",
    "[statsmodels.stats.weightstats.ztest()](https://www.statsmodels.org/stable/generated/statsmodels.stats.weightstats.ztest.html#statsmodels.stats.weightstats.ztest)\n",
    "\n",
    "Another possible option would be to use Cohen's D, which is expresses the the size of effect in standard deivations, therefore comparing means of two groups. This is a similiar process to z-score."
   ]
  },
  {
   "cell_type": "code",
   "execution_count": 100,
   "metadata": {},
   "outputs": [
    {
     "name": "stdout",
     "output_type": "stream",
     "text": [
      "Z-score: [  1.45834691   6.22406573  -1.82544939  -5.0550804    0.7913646\n",
      "   8.00532775   3.41745439   1.69908555  10.98751599  -1.98910483\n",
      "  -2.26753737  -4.08269897  -5.77102399   3.56559542   3.23052227\n",
      "  -5.5989734    7.45941891   0.42202229   4.60940384 -11.93143836\n",
      "  11.96608818 -16.90559615  -8.07639211   8.88337352   1.66677721\n",
      "  -0.65292928   1.88043964  -0.57976948  -6.85084498  -4.67996347]\n",
      "P-value: [1.44744946e-01 4.84434048e-10 6.79332424e-02 4.30209493e-07\n",
      " 4.28731259e-01 1.11022302e-15 6.32096839e-04 8.93030660e-02\n",
      " 0.00000000e+00 4.66896334e-02 2.33574190e-02 4.45156700e-05\n",
      " 7.87912535e-09 3.63031049e-04 1.23564280e-03 2.15624871e-08\n",
      " 8.68194405e-14 6.73008744e-01 4.03825255e-06 0.00000000e+00\n",
      " 0.00000000e+00 0.00000000e+00 6.66133815e-16 0.00000000e+00\n",
      " 9.55587137e-02 5.13801869e-01 6.00481855e-02 5.62070084e-01\n",
      " 7.34146077e-12 2.86926042e-06]\n"
     ]
    }
   ],
   "source": [
    "#manual function for comparing the difference of means between two groups using z\n",
    "\n",
    "x1 = norm.rvs(loc=10, scale=5, size=100)\n",
    "sample1 = np.random.choice(x1, 30)\n",
    "mean1 = np.mean(sample1)\n",
    "x2 = norm.rvs(loc=12, scale=3, size=200)\n",
    "sample2 = np.random.choice(x1, 30)\n",
    "mean2 = np.mean(sample2)\n",
    "diff = np.mean(sample1) - np.mean(sample2)\n",
    "samp1_sd = np.std(sample1, ddof=1)\n",
    "samp2_sd = np.std(sample2, ddof=1)\n",
    "n1 = len(sample1)\n",
    "n2 = len(sample2)\n",
    "\n",
    "def ztt2_ind(X1, X2, mean_diff, std1, std2, n1, n2):\n",
    "    SE_pool = np.sqrt(std1**2/n1 + std2**2/n2)\n",
    "    z = ((X1 - X2) - mean_diff)/SE_pool\n",
    "    p = 2*(1 - norm.cdf(abs(z)))\n",
    "    np.round(z, 3), np.round(p, 4)\n",
    "    return print('Z-score: {}\\nP-value: {}'.format(z, p))\n",
    "\n",
    "ztt2_ind(X1=sample1, X2=sample2, mean_diff=diff, std1=samp1_sd, std2=samp1_sd, n1=n1, n2=n2)"
   ]
  },
  {
   "cell_type": "markdown",
   "metadata": {},
   "source": [
    "**Summary** (1.4 Learning Outcomes)\n",
    "\n",
    "Having completed this project notebook, you now have good hands-on experience:\n",
    "* using the central limit theorem to help you apply frequentist techniques to answer questions that pertain to very non-normally distributed data from the real world\n",
    "* performing inference using such data to answer business questions\n",
    "* forming a hypothesis and framing the null and alternative hypotheses\n",
    "* testing this using a _t_-test"
   ]
  }
 ],
 "metadata": {
  "hide_input": false,
  "kernelspec": {
   "display_name": "Python 3",
   "language": "python",
   "name": "python3"
  },
  "language_info": {
   "codemirror_mode": {
    "name": "ipython",
    "version": 3
   },
   "file_extension": ".py",
   "mimetype": "text/x-python",
   "name": "python",
   "nbconvert_exporter": "python",
   "pygments_lexer": "ipython3",
   "version": "3.6.6"
  },
  "toc": {
   "base_numbering": 1,
   "nav_menu": {},
   "number_sections": true,
   "sideBar": true,
   "skip_h1_title": false,
   "title_cell": "Table of Contents",
   "title_sidebar": "Contents",
   "toc_cell": false,
   "toc_position": {},
   "toc_section_display": true,
   "toc_window_display": false
  },
  "varInspector": {
   "cols": {
    "lenName": 16,
    "lenType": 16,
    "lenVar": 40
   },
   "kernels_config": {
    "python": {
     "delete_cmd_postfix": "",
     "delete_cmd_prefix": "del ",
     "library": "var_list.py",
     "varRefreshCmd": "print(var_dic_list())"
    },
    "r": {
     "delete_cmd_postfix": ") ",
     "delete_cmd_prefix": "rm(",
     "library": "var_list.r",
     "varRefreshCmd": "cat(var_dic_list()) "
    }
   },
   "types_to_exclude": [
    "module",
    "function",
    "builtin_function_or_method",
    "instance",
    "_Feature"
   ],
   "window_display": false
  }
 },
 "nbformat": 4,
 "nbformat_minor": 2
}
