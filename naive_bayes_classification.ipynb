{
 "cells": [
  {
   "cell_type": "markdown",
   "metadata": {},
   "source": [
    "## Text Classification with Naive Bayes\n",
    "***\n",
    "In the mini-project, you'll learn the basics of text analysis using a subset of movie reviews from the rotten tomatoes database. You'll also use a fundamental technique in Bayesian inference, called Naive Bayes. This mini-project is based on [Lab 10 of Harvard's CS109](https://github.com/cs109/2015lab10) class.  Please free to go to the original lab for additional exercises and solutions.\n",
    "***\n",
    "\n",
    "**__Table of Contents__**\n",
    "\n",
    "* [Rotten Tomatoes Dataset](#Rotten-Tomatoes-Dataset)\n",
    "    * [Explore](#Explore)\n",
    "* [The Vector Space Model and a Search Engine](#The-Vector-Space-Model-and-a-Search-Engine)\n",
    "    * [In Code](#In-Code)\n",
    "* [Naive Bayes](#Naive-Bayes)\n",
    "    * [Multinomial Naive Bayes and Other Likelihood Functions](#Multinomial-Naive-Bayes-and-Other-Likelihood-Functions)\n",
    "    * [Picking Hyperparameters for Naive Bayes and Text Maintenance](#Picking-Hyperparameters-for-Naive-Bayes-and-Text-Maintenance)\n",
    "* [Interpretation](#Interpretation)"
   ]
  },
  {
   "cell_type": "code",
   "execution_count": 1,
   "metadata": {},
   "outputs": [],
   "source": [
    "%matplotlib inline\n",
    "import numpy as np\n",
    "import scipy as sp\n",
    "import matplotlib as mpl\n",
    "import matplotlib.cm as cm\n",
    "import matplotlib.pyplot as plt\n",
    "import pandas as pd\n",
    "import seaborn as sns\n",
    "from six.moves import range\n",
    "\n",
    "# Setup Pandas\n",
    "pd.set_option('display.width', 500)\n",
    "pd.set_option('display.max_columns', 100)\n",
    "#pd.set_option('display.max_rows', 500)\n",
    "pd.set_option('display.notebook_repr_html', True)\n",
    "\n",
    "# Setup Seaborn\n",
    "sns.set_style(\"whitegrid\")\n",
    "sns.set_context(\"poster\")"
   ]
  },
  {
   "cell_type": "code",
   "execution_count": 2,
   "metadata": {},
   "outputs": [
    {
     "data": {
      "text/html": [
       "<div>\n",
       "<style scoped>\n",
       "    .dataframe tbody tr th:only-of-type {\n",
       "        vertical-align: middle;\n",
       "    }\n",
       "\n",
       "    .dataframe tbody tr th {\n",
       "        vertical-align: top;\n",
       "    }\n",
       "\n",
       "    .dataframe thead th {\n",
       "        text-align: right;\n",
       "    }\n",
       "</style>\n",
       "<table border=\"1\" class=\"dataframe\">\n",
       "  <thead>\n",
       "    <tr style=\"text-align: right;\">\n",
       "      <th></th>\n",
       "      <th>critic</th>\n",
       "      <th>fresh</th>\n",
       "      <th>imdb</th>\n",
       "      <th>publication</th>\n",
       "      <th>quote</th>\n",
       "      <th>review_date</th>\n",
       "      <th>rtid</th>\n",
       "      <th>title</th>\n",
       "    </tr>\n",
       "  </thead>\n",
       "  <tbody>\n",
       "    <tr>\n",
       "      <th>1</th>\n",
       "      <td>Derek Adams</td>\n",
       "      <td>fresh</td>\n",
       "      <td>114709</td>\n",
       "      <td>Time Out</td>\n",
       "      <td>So ingenious in concept, design and execution ...</td>\n",
       "      <td>2009-10-04</td>\n",
       "      <td>9559</td>\n",
       "      <td>Toy story</td>\n",
       "    </tr>\n",
       "    <tr>\n",
       "      <th>2</th>\n",
       "      <td>Richard Corliss</td>\n",
       "      <td>fresh</td>\n",
       "      <td>114709</td>\n",
       "      <td>TIME Magazine</td>\n",
       "      <td>The year's most inventive comedy.</td>\n",
       "      <td>2008-08-31</td>\n",
       "      <td>9559</td>\n",
       "      <td>Toy story</td>\n",
       "    </tr>\n",
       "    <tr>\n",
       "      <th>3</th>\n",
       "      <td>David Ansen</td>\n",
       "      <td>fresh</td>\n",
       "      <td>114709</td>\n",
       "      <td>Newsweek</td>\n",
       "      <td>A winning animated feature that has something ...</td>\n",
       "      <td>2008-08-18</td>\n",
       "      <td>9559</td>\n",
       "      <td>Toy story</td>\n",
       "    </tr>\n",
       "    <tr>\n",
       "      <th>4</th>\n",
       "      <td>Leonard Klady</td>\n",
       "      <td>fresh</td>\n",
       "      <td>114709</td>\n",
       "      <td>Variety</td>\n",
       "      <td>The film sports a provocative and appealing st...</td>\n",
       "      <td>2008-06-09</td>\n",
       "      <td>9559</td>\n",
       "      <td>Toy story</td>\n",
       "    </tr>\n",
       "    <tr>\n",
       "      <th>5</th>\n",
       "      <td>Jonathan Rosenbaum</td>\n",
       "      <td>fresh</td>\n",
       "      <td>114709</td>\n",
       "      <td>Chicago Reader</td>\n",
       "      <td>An entertaining computer-generated, hyperreali...</td>\n",
       "      <td>2008-03-10</td>\n",
       "      <td>9559</td>\n",
       "      <td>Toy story</td>\n",
       "    </tr>\n",
       "  </tbody>\n",
       "</table>\n",
       "</div>"
      ],
      "text/plain": [
       "               critic  fresh    imdb     publication                                              quote review_date  rtid      title\n",
       "1         Derek Adams  fresh  114709        Time Out  So ingenious in concept, design and execution ...  2009-10-04  9559  Toy story\n",
       "2     Richard Corliss  fresh  114709   TIME Magazine                  The year's most inventive comedy.  2008-08-31  9559  Toy story\n",
       "3         David Ansen  fresh  114709        Newsweek  A winning animated feature that has something ...  2008-08-18  9559  Toy story\n",
       "4       Leonard Klady  fresh  114709         Variety  The film sports a provocative and appealing st...  2008-06-09  9559  Toy story\n",
       "5  Jonathan Rosenbaum  fresh  114709  Chicago Reader  An entertaining computer-generated, hyperreali...  2008-03-10  9559  Toy story"
      ]
     },
     "metadata": {},
     "output_type": "display_data"
    },
    {
     "name": "stdout",
     "output_type": "stream",
     "text": [
      "\"critics df shape: (15561, 8)\n"
     ]
    }
   ],
   "source": [
    "critics = pd.read_csv('critics.csv')\n",
    "# select all notnull() in critics.quote\n",
    "critics = critics[~critics.quote.isnull()] \n",
    "display(critics.head())\n",
    "print('\"critics df shape: {}'.format(critics.shape))"
   ]
  },
  {
   "cell_type": "markdown",
   "metadata": {},
   "source": [
    "## Explore"
   ]
  },
  {
   "cell_type": "code",
   "execution_count": 3,
   "metadata": {},
   "outputs": [
    {
     "name": "stdout",
     "output_type": "stream",
     "text": [
      "Number of reviews: 15561\n",
      "Number of critics: 623\n",
      "Number of movies:  1921\n"
     ]
    }
   ],
   "source": [
    "n_reviews = len(critics)\n",
    "n_movies = critics.rtid.unique().size\n",
    "n_critics = critics.critic.unique().size\n",
    "\n",
    "print(\"Number of reviews: {:d}\".format(n_reviews))\n",
    "print(\"Number of critics: {:d}\".format(n_critics))\n",
    "print(\"Number of movies:  {:d}\".format(n_movies))"
   ]
  },
  {
   "cell_type": "markdown",
   "metadata": {},
   "source": [
    "Below, I will create a copy of the critics dataframe and alter this copy. For the column \"fresh\" which represents essentially positive or negative review type left by the critic. I will set this column equal to ONLY\n",
    "the positive or \"fresh\" reviews as this si the data of interest at this particular phase. You could of course get the data of interest from fresh column without altering original \"fresh column, and in effect where no copy is needed. I choose to proceed with process in former description because i feel its more explicit and intuitive if I or someoene else down the road were to come to the code later."
   ]
  },
  {
   "cell_type": "code",
   "execution_count": 4,
   "metadata": {},
   "outputs": [
    {
     "name": "stdout",
     "output_type": "stream",
     "text": [
      "Categories in critics.fresh (original dataframe)\n",
      "\n",
      "['fresh' 'rotten' 'none']\n",
      "\n",
      "\n"
     ]
    }
   ],
   "source": [
    "print('Categories in critics.fresh (original dataframe)\\n\\n{}\\n\\n'.format(critics.fresh.unique()))\n",
    "df = critics.copy()\n",
    "df['fresh'] = df.fresh == 'fresh'  # select only positive reviews"
   ]
  },
  {
   "cell_type": "code",
   "execution_count": 5,
   "metadata": {},
   "outputs": [
    {
     "data": {
      "text/plain": [
       "fresh     9482\n",
       "rotten    6052\n",
       "none        27\n",
       "Name: fresh, dtype: int64"
      ]
     },
     "metadata": {},
     "output_type": "display_data"
    }
   ],
   "source": [
    "data = critics.copy()\n",
    "grp = data.groupby('critic') # groupby object, on critic column\n",
    "display(data.fresh.value_counts())\n",
    "# data.loc[data.fresh.values == 'none', ['fresh']] == np.nan\n",
    "# data.fresh.astype('category')\n",
    "grp_fromdf = df.groupby('critic') # groupby object, on critic column\n",
    "\n",
    "#for key, item in grp:\n",
    "    #print(grp.get_group(key), '\\n\\n') # this prints data per critic, for all critics"
   ]
  },
  {
   "cell_type": "code",
   "execution_count": 6,
   "metadata": {},
   "outputs": [
    {
     "name": "stdout",
     "output_type": "stream",
     "text": [
      "REVIEW-COUNT PER CRITIC:\n",
      "\n",
      "TOP 10:\n",
      "\n",
      "critic\n",
      "Roger Ebert           1132\n",
      "James Berardinelli     804\n",
      "Janet Maslin           515\n",
      "Variety Staff          430\n",
      "Jonathan Rosenbaum     412\n",
      "Desson Thomson         391\n",
      "Geoff Andrew           349\n",
      "Dave Kehr              338\n",
      "Kenneth Turan          279\n",
      "Mick LaSalle           273\n",
      "Name: critic, dtype: int64\n",
      "\n",
      "BOTTOM 10\n",
      "\n",
      "critic\n",
      "Vic Vogler              1\n",
      "Walter V. Addiego       2\n",
      "Whittaker Chambers      3\n",
      "William Goss            3\n",
      "Whitney Willaims        4\n",
      "William Brogdon         4\n",
      "Walter Goodman          7\n",
      "Wesley Morris          15\n",
      "Wally Hammond          34\n",
      "Vincent Canby         217\n",
      "Name: critic, dtype: int64\n",
      "\n",
      "\n"
     ]
    }
   ],
   "source": [
    "means = grp_fromdf.fresh.mean()     # average freshness for each critic\n",
    "counts = grp_fromdf.critic.count()  # number of reviews by each critic\n",
    "print('REVIEW-COUNT PER CRITIC:\\n\\nTOP 10:\\\n",
    "\\n\\n{}\\n\\nBOTTOM 10\\n\\n{}\\n\\n'.format(counts.sort_values(ascending=False)[:10],\n",
    "                                      counts.tail(10).sort_values(ascending=True)))"
   ]
  },
  {
   "cell_type": "code",
   "execution_count": 7,
   "metadata": {},
   "outputs": [
    {
     "data": {
      "image/png": "[encoded data removed]",
      "text/plain": [
       "<Figure size 936x576 with 1 Axes>"
      ]
     },
     "metadata": {},
     "output_type": "display_data"
    },
    {
     "data": {
      "image/png": "[encoded data removed]",
      "text/plain": [
       "<Figure size 936x576 with 1 Axes>"
      ]
     },
     "metadata": {},
     "output_type": "display_data"
    }
   ],
   "source": [
    "# review counts between 10 and 500: determined from top10/bottom 10 list above\n",
    "counts_subset=counts.loc[(counts > 10) & (counts < 500)]\n",
    "\n",
    "#plot trimmed data for better visualization of distribution\n",
    "plt.figure(facecolor='lightgrey', figsize=(13,8))\n",
    "plt.hist(counts_subset, bins=20)\n",
    "plt.title('distribution of critics review counts\\n(> 10, < 500)')\n",
    "plt.xlabel('number of reviews by critics')\n",
    "plt.ylabel('Frequency'); plt.show()\n",
    "\n",
    "plt.figure(facecolor='lightgrey', figsize=(13,8))\n",
    "chart = sns.distplot(counts_subset)\n",
    "plt.title('Review count for Critics\\n(reviews > 10, < 500)');"
   ]
  },
  {
   "cell_type": "markdown",
   "metadata": {},
   "source": [
    "We can see from the plot above, that some critics have a extreme number of movie reviews compared to the rest creating a right skew to the distribution."
   ]
  },
  {
   "cell_type": "code",
   "execution_count": 8,
   "metadata": {},
   "outputs": [
    {
     "name": "stdout",
     "output_type": "stream",
     "text": [
      "number of critics w/ > 100 movie reviews = 37\n",
      "\n",
      "AVERAGE RATINGS\n",
      "\n",
      "critic\n",
      "Joe Baltake           0.811404\n",
      "Kevin Thomas          0.806897\n",
      "Richard Schickel      0.737705\n",
      "Richard Corliss       0.728070\n",
      "Variety Staff         0.725581\n",
      "Janet Maslin          0.708738\n",
      "Geoff Andrew          0.707736\n",
      "Bosley Crowther       0.695035\n",
      "Todd McCarthy         0.683258\n",
      "Roger Ebert           0.673145\n",
      "Peter Travers         0.666667\n",
      "Michael Wilmington    0.660494\n",
      "John Hartl            0.655172\n",
      "Lisa Schwarzbaum      0.655172\n",
      "Vincent Canby         0.645161\n",
      "Edward Guthmann       0.638655\n",
      "Emanuel Levy          0.629630\n",
      "Peter Stack           0.620438\n",
      "Derek Adams           0.615894\n",
      "Susan Stark           0.611429\n",
      "Jay Carr              0.603604\n",
      "James Berardinelli    0.603234\n",
      "Kenneth Turan         0.602151\n",
      "Jonathan Rosenbaum    0.599515\n",
      "Owen Gleiberman       0.595142\n",
      "Dave Kehr             0.591716\n",
      "Desson Thomson        0.588235\n",
      "Jeff Millar           0.554878\n",
      "Mick LaSalle          0.538462\n",
      "Hal Hinson            0.530055\n",
      "Rita Kempley          0.516393\n",
      "Peter Rainer          0.495050\n",
      "Stephen Holden        0.491018\n",
      "Rick Groen            0.456000\n",
      "Mike Clark            0.445887\n",
      "Susan Wloszczyna      0.409091\n",
      "Liam Lacey            0.362069\n",
      "Name: fresh, dtype: float64\n"
     ]
    },
    {
     "data": {
      "image/png": "[encoded data removed]",
      "text/plain": [
       "<Figure size 720x540 with 1 Axes>"
      ]
     },
     "metadata": {},
     "output_type": "display_data"
    }
   ],
   "source": [
    "avg_rating = means[counts > 100]\n",
    "print('number of critics w/ > 100 movie reviews = {}\\n'.format(len(avg_rating)))\n",
    "print('AVERAGE RATINGS\\n\\n{}'.format(avg_rating.sort_values(ascending=False)))\n",
    "\n",
    "plt.figure(facecolor='lightgrey', figsize=(10,7.5))\n",
    "means[counts > 100].hist(bins=10, edgecolor='w', lw=1)\n",
    "plt.title(\"Average Rating per critic\")\n",
    "plt.xlabel(\"Rating\")\n",
    "plt.ylabel(\"Number of Critics\")\n",
    "plt.yticks([0, 2, 4, 6, 8, 10]);"
   ]
  },
  {
   "cell_type": "markdown",
   "metadata": {},
   "source": [
    "We see there are about as many critics who give more \"fresh\" ratings than \"rotten\" as there are who do the opposite. The distribution looks normal."
   ]
  },
  {
   "cell_type": "markdown",
   "metadata": {},
   "source": [
    "## Vector space model & search engine\n",
    "\n",
    ">A **vector space model** is an algebraic model, involving two steps, in first step we represent the text documents into vector of words and in second step we transform to numerical format so that we can apply any text mining techniques such as information retrieval, information extraction,information filtering etc.\" - [source](http://www.dataperspective.info/2017/11/information-retrieval-document-search-using-vector-space-model-in-r.html)\n",
    "\n",
    ">\"A **vector space search** involves converting documents into vectors. Each dimension within the vectors represents a term. If a document contains that term then the value within the vector is greater than zero.\" - [source](http://blog.josephwilk.net/projects/building-a-vector-space-search-engine-in-python.html)\n",
    "\n",
    ">\"**Vector-space search engines** use the notion of a term space, where each document is represented as a vector in a high-dimensional space. There are as many dimensions as there are unique words in the entire collection.\" - [source](http://blog.josephwilk.net/projects/building-a-vector-space-search-engine-in-python.html)"
   ]
  },
  {
   "cell_type": "markdown",
   "metadata": {},
   "source": [
    "**Define the vector**\n",
    "\n",
    "Let us define the vector derived from document $d$ as $\\bar V(d)$.\n",
    "\n",
    " - Each document is treated as a vector containing information about the words contained in it. \n",
    " \n",
    " - Each vector has the same length and each entry \"slot\" in the vector contains some kind of data about the words that appear in the document such as presence/absence (1/0), count (an integer) or some other statistic. \n",
    "  \n",
    " - Each vector has the same length because each document shared the same vocabulary across the full collection of documents -- this collection is called a *corpus*.\n",
    "\n",
    "**Define the vocabulary**\n",
    "\n",
    "The vocabulary is a union of words seen in all documents. We associate an array index with them. So \"hello\" may be at index 5 and \"world\" at index 99.\n",
    "\n",
    "Suppose we have the following corpus:\n",
    "\n",
    "`A Fox one day spied a beautiful bunch of ripe grapes hanging from a vine trained along the branches of a tree. The grapes seemed ready to burst with juice, and the Fox's mouth watered as he gazed longingly at them.`\n",
    "\n",
    "Suppose we treat each sentence as a document $d$. The vocabulary (often called the *lexicon*) is the following:\n",
    "\n",
    "$V = \\left\\{\\right.$ `a, along, and, as, at, beautiful, branches, bunch, burst, day, fox, fox's, from, gazed, grapes, hanging, he, juice, longingly, mouth, of, one, ready, ripe, seemed, spied, the, them, to, trained, tree, vine, watered, with`$\\left.\\right\\}$\n",
    "\n",
    "Then the document\n",
    "\n",
    "`A Fox one day spied a beautiful bunch of ripe grapes hanging from a vine trained along the branches of a tree`\n",
    "\n",
    "may be represented as the following sparse vector of word counts:\n",
    "\n",
    "$$\\bar V(d) = \\left( 4,1,0,0,0,1,1,1,0,1,1,0,1,0,1,1,0,0,0,0,2,1,0,1,0,0,1,0,0,1,1,1,0,0 \\right)$$\n",
    "\n",
    "or more succinctly as\n",
    "\n",
    "`[(0, 4), (1, 1), (5, 1), (6, 1), (7, 1), (9, 1), (10, 1), (12, 1), (14, 1), (15, 1), (20, 2), (21, 1), (23, 1),`\n",
    "`(26, 1), (29,1), (30, 1), (31, 1)]`\n",
    "\n",
    "along with a dictionary\n",
    "\n",
    "``{0: a, 1: along, 5: beautiful, 6: branches, 7: bunch, 9: day, 10: fox, 12: from, 14: grapes, 15: hanging, 19: mouth, 20: of, 21: one, 23: ripe, 24: seemed, 25: spied, 26: the, 29:trained, 30: tree, 31: vine}``\n",
    "\n",
    "Then, a set of documents becomes, in the usual `sklearn` style, a sparse matrix with rows being sparse arrays representing documents and columns representing the features/words in the vocabulary.\n",
    "\n",
    "Notice that this representation loses the relative ordering of the terms in the document. That is \"cat ate rat\" and \"rat ate cat\" are the same. Thus, this representation is also known as the Bag-Of-Words representation.\n",
    "\n",
    "Here is another example, from the book quoted above, although the matrix is transposed here so that documents are columns:\n",
    "\n",
    "![novel terms](terms.png)\n",
    "\n",
    "Such a matrix is also catted a Term-Document Matrix. Here, the terms being indexed could be stemmed before indexing; for instance, `jealous` and `jealousy` after stemming are the same feature. One could also make use of other \"Natural Language Processing\" transformations in constructing the vocabulary. We could use Lemmatization, which reduces words to lemmas: work, working, worked would all reduce to work. We could remove \"stopwords\" from our vocabulary, such as common words like \"the\". We could look for particular parts of speech, such as adjectives. This is often done in Sentiment Analysis. And so on. It all depends on our application.\n",
    "\n",
    "From the book:\n",
    ">The standard way of quantifying the similarity between two documents $d_1$ and $d_2$  is to compute the cosine similarity of their vector representations $\\bar V(d_1)$ and $\\bar V(d_2)$:\n",
    "\n",
    "$$S_{12} = \\frac{\\bar V(d_1) \\cdot \\bar V(d_2)}{|\\bar V(d_1)| \\times |\\bar V(d_2)|}$$\n",
    "\n",
    "![Vector Space Model](vsm.png)\n",
    "\n",
    "\n",
    ">There is a far more compelling reason to represent documents as vectors: we can also view a query as a vector. Consider the query q = jealous gossip. This query turns into the unit vector $\\bar V(q)$ = (0, 0.707, 0.707) on the three coordinates below. \n",
    "\n",
    "![novel terms](terms2.png)\n",
    "\n",
    ">The key idea now: to assign to each document d a score equal to the dot product:\n",
    "\n",
    "$$\\bar V(q) \\cdot \\bar V(d)$$\n",
    "\n",
    "Then we can use this simple Vector Model as a Search engine."
   ]
  },
  {
   "cell_type": "markdown",
   "metadata": {},
   "source": [
    "### Vector Space and Search Engine - In Code\n",
    "\n",
    "Text Analysis and classification is a major application field for machine learning algorithms. However the raw data or raw text documents, are a sequence of symbols with variable length. The raw data in this form cant be interpreted by a machine learning model. The algorithm is expecting feature vectors of numerical type of a fixed size. Because of this we need to **transform our raw text data into numerical data using CountVectorizer which converts our text into a matrix of token counts\n",
    "\n",
    "_considerations when working with scikit-learn_:\n",
    "- expects and assumes all values to have meaning\n",
    "- does not work with missing values\n",
    "- expects numerical feature vectors with a fixed size"
   ]
  },
  {
   "cell_type": "code",
   "execution_count": 9,
   "metadata": {},
   "outputs": [
    {
     "name": "stdout",
     "output_type": "stream",
     "text": [
      "Original text is\n",
      "Hop on pop\n",
      "Hop off pop\n",
      "Hop Hop hop\n",
      "\n",
      "(1). CountVectorizer().fit(raw_text) returns:\n",
      "\n",
      "    CountVectorizer(analyzer='word', binary=False, decode_error='strict',\n",
      "                dtype=<class 'numpy.int64'>, encoding='utf-8', input='content',\n",
      "                lowercase=True, max_df=1.0, max_features=None, min_df=0,\n",
      "                ngram_range=(1, 1), preprocessor=None, stop_words=None,\n",
      "                strip_accents=None, token_pattern='(?u)\\\\b\\\\w\\\\w+\\\\b',\n",
      "                tokenizer=None, vocabulary=None)\n",
      "\n",
      "\n",
      "(1.1) Can also return vocabulary of the raw text data with:\n",
      "\n",
      "    CountVectorizer().fit(raw_text).get_feature_names()\n",
      "\n",
      "    #output\n",
      "    ['hop', 'off', 'on', 'pop']\n",
      "\n",
      "\n",
      "(2) Transform text data into document-term matrix or bag-of-words:\n",
      "\n",
      "  #syntax\n",
      "  CountVectorizer().transform(raw_text)\n",
      "\n",
      "  #output\n",
      "  (0, 0)\t1\n",
      "  (0, 2)\t1\n",
      "  (0, 3)\t1\n",
      "  (1, 0)\t1\n",
      "  (1, 1)\t1\n",
      "  (1, 3)\t1\n",
      "  (2, 0)\t3\n"
     ]
    },
    {
     "data": {
      "text/plain": [
       "<3x4 sparse matrix of type '<class 'numpy.int64'>'\n",
       "\twith 7 stored elements in Compressed Sparse Row format>"
      ]
     },
     "metadata": {},
     "output_type": "display_data"
    },
    {
     "name": "stdout",
     "output_type": "stream",
     "text": [
      "Intuition for the document-term matrix (row-column matrix above).\n",
      " - documents == rows\n",
      " - terms == columns\n",
      " - 3 rows because there are 3 documents\n",
      " - 4 columns because we have 4 terms (words) learned from \"fit\" stage above\n",
      "\n",
      "\n",
      " ... you can check the type of the sparse matrix or document-term matrix by wrapping it with \"type\" function:\n",
      "\n",
      "\\  #syntax\n",
      "  type(x_as_doc_term_matrix)\n",
      "\n",
      "  #output\n",
      "  <class 'scipy.sparse.csr.csr_matrix'>\n",
      "\n",
      "\n"
     ]
    }
   ],
   "source": [
    "from sklearn.feature_extraction.text import CountVectorizer\n",
    "\n",
    "vectorizer = CountVectorizer(min_df=0)\n",
    "\n",
    "# example list of text data\n",
    "text = ['Hop on pop', 'Hop off pop', 'Hop Hop hop']\n",
    "print(\"Original text is\\n{}\\n\".format('\\n'.join(text)))\n",
    "\n",
    "# build the vocabulary with fit()\n",
    "vectorizer.fit(text)\n",
    "print('(1). CountVectorizer().fit(raw_text) returns:\\n\\n\\\n",
    "    {}\\n\\n'.format(vectorizer.fit(text)))\n",
    "\n",
    "# explore the vocabulary where each word of vocab reprented per column\n",
    "_='(1.1) Can also return vocabulary of the raw text data with:\\n\\n\\\n",
    "    CountVectorizer().fit(raw_text).get_feature_names()\\n\\n\\\n",
    "    #output\\n    {}\\n\\n'; print(_.format(vectorizer.get_feature_names()))\n",
    "\n",
    "# Transform text (train-set) into a \"document-term matrix\"\n",
    "# ... or \"bag of words\"\n",
    "x_as_doc_term_matrix = vectorizer.transform(text)\n",
    "_='(2) Transform text data into document-term matrix or bag-of-words:\\n\\n\\\n",
    "  #syntax\\n  CountVectorizer().transform(raw_text)\\n\\n\\\n",
    "  #output\\n{}'; print(_.format(x_as_doc_term_matrix))\n",
    "\n",
    "display(x_as_doc_term_matrix)\n",
    "\n",
    "# Intuition for display above\n",
    "print('Intuition for the document-term matrix (row-column matrix above).\\n\\\n",
    " - documents == rows\\n\\\n",
    " - terms == columns\\n\\\n",
    " - 3 rows because there are 3 documents\\n\\\n",
    " - 4 columns because we have 4 terms (words) learned from \"fit\" stage above\\n\\n')\n",
    "\n",
    "_=' ... you can check the type of the sparse matrix or document-term matrix by \\\n",
    "wrapping it with \"type\" function:\\n\\n\\  #syntax\\n  type(x_as_doc_term_matrix)\\n\\n  #output\\n  {}\\n\\n'\n",
    "print(_.format(type(x_as_doc_term_matrix)))"
   ]
  },
  {
   "cell_type": "markdown",
   "metadata": {},
   "source": [
    "**Quick summary of CountVectorizer** \n",
    "(_used in above example_)\n",
    "\n",
    "- **_CountVectorizer().fit(xtrain)_**: Tthe vectorizor will learn the vocabulary on training data\n",
    "\n",
    "- **_CountVectorizor().transform(xtrain)_**: The vectorizor builds the document-term matrix from training data (above line).\n",
    "\n",
    "- **_CountVectorizer().transform(test)_**: The vectorizer build the document-term matrix from the test data and ignores tokens or words it hasnt seen before."
   ]
  },
  {
   "cell_type": "code",
   "execution_count": 10,
   "metadata": {},
   "outputs": [
    {
     "name": "stdout",
     "output_type": "stream",
     "text": [
      "(3) Convert the document-term matrix to a dense matrix or text-vector:\n",
      "\n",
      " #syntax\n",
      " x_as_doc_term_matrix.toarray()\n",
      "\n",
      " #output\n",
      "   (0, 0)\t1\n",
      "  (1, 0)\t1\n",
      "  (2, 0)\t3\n",
      "  (1, 1)\t1\n",
      "  (0, 2)\t1\n",
      "  (0, 3)\t1\n",
      "  (1, 3)\t1\n",
      "\n",
      "\n"
     ]
    }
   ],
   "source": [
    "# Convert doc-term matrix (sparse matrix) into dense matrix or \"text-vector\"\n",
    "x = x_as_doc_term_matrix.tocsc() # Countvectorizer uses a sparse matrix to save memory\n",
    "                                 # some versions of sklearn return COO format\n",
    "                                 # ... .toarray(), or np.array(X), \n",
    "print(\"(3) Convert the document-term matrix to a dense matrix or text-vector:\\n\\n\\\n",
    " #syntax\\n x_as_doc_term_matrix.toarray()\\n\\n #output\\n {}\\n\\n\".format(x))"
   ]
  },
  {
   "cell_type": "markdown",
   "metadata": {},
   "source": [
    "**Vectorization**\n",
    " - Convert collection of text documents called a **Corpus** into numerical feature vectors. \n",
    " - Documents are described by word occurrences ignoring relative position of words in the document.\n",
    "\n",
    "**The strategy below** \n",
    " - (tokenization, counting and normalization) is called the Bag of Words or \"Bag of n-grams\" representation. "
   ]
  },
  {
   "cell_type": "code",
   "execution_count": 11,
   "metadata": {},
   "outputs": [
    {
     "name": "stdout",
     "output_type": "stream",
     "text": [
      "(4) CORPUS OF DOCUMENTS (below):\n",
      "  - represented by a matrix\n",
      "  - where one row or sample per one document\n",
      "  - where one column per token (e.g. word) occurring in the corpus.\n"
     ]
    },
    {
     "data": {
      "text/html": [
       "<div>\n",
       "<style scoped>\n",
       "    .dataframe tbody tr th:only-of-type {\n",
       "        vertical-align: middle;\n",
       "    }\n",
       "\n",
       "    .dataframe tbody tr th {\n",
       "        vertical-align: top;\n",
       "    }\n",
       "\n",
       "    .dataframe thead th {\n",
       "        text-align: right;\n",
       "    }\n",
       "</style>\n",
       "<table border=\"1\" class=\"dataframe\">\n",
       "  <thead>\n",
       "    <tr style=\"text-align: right;\">\n",
       "      <th></th>\n",
       "      <th>hop</th>\n",
       "      <th>off</th>\n",
       "      <th>on</th>\n",
       "      <th>pop</th>\n",
       "    </tr>\n",
       "  </thead>\n",
       "  <tbody>\n",
       "    <tr>\n",
       "      <th>0</th>\n",
       "      <td>1</td>\n",
       "      <td>0</td>\n",
       "      <td>1</td>\n",
       "      <td>1</td>\n",
       "    </tr>\n",
       "    <tr>\n",
       "      <th>1</th>\n",
       "      <td>1</td>\n",
       "      <td>1</td>\n",
       "      <td>0</td>\n",
       "      <td>1</td>\n",
       "    </tr>\n",
       "    <tr>\n",
       "      <th>2</th>\n",
       "      <td>3</td>\n",
       "      <td>0</td>\n",
       "      <td>0</td>\n",
       "      <td>0</td>\n",
       "    </tr>\n",
       "  </tbody>\n",
       "</table>\n",
       "</div>"
      ],
      "text/plain": [
       "   hop  off  on  pop\n",
       "0    1    0   1    1\n",
       "1    1    1   0    1\n",
       "2    3    0   0    0"
      ]
     },
     "metadata": {},
     "output_type": "display_data"
    },
    {
     "name": "stdout",
     "output_type": "stream",
     "text": [
      "  INTUITION: columns/features & row/samples:\n",
      "   - feature == individual token occurance frequency\n",
      "\n",
      "   - rows/samples are defined as documents where:\n",
      "     document == a vector of token frequencies (a multivariate sample)\n"
     ]
    }
   ],
   "source": [
    "# vocabulary and document-term matrix together\n",
    "print('(4) CORPUS OF DOCUMENTS (below):\\n\\\n",
    "  - represented by a matrix\\n\\\n",
    "  - where one row or sample per one document\\n\\\n",
    "  - where one column per token (e.g. word) occurring in the corpus.')\n",
    "\n",
    "display(pd.DataFrame(x_as_doc_term_matrix.toarray(),\n",
    "             columns=vectorizer.get_feature_names()))\n",
    "\n",
    "print('  INTUITION: columns/features & row/samples:\\n\\\n",
    "   - feature == individual token occurance frequency\\n\\n\\\n",
    "   - rows/samples are defined as documents where:\\n\\\n",
    "     document == a vector of token frequencies (a multivariate sample)')"
   ]
  },
  {
   "cell_type": "markdown",
   "metadata": {},
   "source": [
    "#) Manual vectorizer function for features and labels"
   ]
  },
  {
   "cell_type": "code",
   "execution_count": 12,
   "metadata": {},
   "outputs": [],
   "source": [
    "def VectorizeXY(critics, vectorizer=None):\n",
    "    #Your code here    \n",
    "    if vectorizer is None:\n",
    "        vectorizer = CountVectorizer()\n",
    "    X = vectorizer.fit_transform(critics.quote)\n",
    "    X = X.tocsc()  # some versions of sklearn return COO format\n",
    "    y = (critics.fresh == 'fresh').values.astype(np.int)\n",
    "    return X, y\n",
    "\n",
    "\"\"\"\n",
    "#Intuition for y:\n",
    "(critics.fresh == 'fresh')                         # returns pd.Series of TRUE/FALSE (discrete boolean) values\n",
    "(critics.fresh == 'fresh').astype(np.int)          # converts to 1/0 (int32)\n",
    "(critics.fresh == 'fresh').astype(np.int).values   # convert to array where .values == wrapping w/ array function \"\"\"\n",
    "\n",
    "vectorized_X, vectorized_y = VectorizeXY(critics)"
   ]
  },
  {
   "cell_type": "markdown",
   "metadata": {},
   "source": [
    "## **Naive Bayes** - (_Intuition_)\n",
    "\n",
    "From Bayes' Theorem, we have that\n",
    "\n",
    "$$P(c \\vert f) = \\frac{P(c \\cap f)}{P(f)}$$\n",
    "\n",
    "where $c$ represents a *class* or category, and $f$ represents a feature vector, such as $\\bar V(d)$ as above. **We are computing the probability that a document (or whatever we are classifying) belongs to category *c* given the features in the document.** $P(f)$ is really just a normalization constant, so the literature usually writes Bayes' Theorem in context of Naive Bayes as\n",
    "\n",
    "$$P(c \\vert f) \\propto P(f \\vert c) P(c) $$\n",
    "\n",
    "$P(c)$ is called the *prior* and is simply the probability of seeing class $c$. But what is $P(f \\vert c)$? This is the probability that we see feature set $f$ given that this document is actually in class $c$. This is called the *likelihood* and comes from the data. One of the major assumptions of the Naive Bayes model is that the features are *conditionally independent* given the class. While the presence of a particular discriminative word may uniquely identify the document as being part of class $c$ and thus violate general feature independence, conditional independence means that the presence of that term is independent of all the other words that appear *within that class*. This is a very important distinction. Recall that if two events are independent, then:\n",
    "\n",
    "$$P(A \\cap B) = P(A) \\cdot P(B)$$\n",
    "\n",
    "Thus, conditional independence implies\n",
    "\n",
    "$$P(f \\vert c)  = \\prod_i P(f_i | c) $$\n",
    "\n",
    "where $f_i$ is an individual feature (a word in this example).\n",
    "\n",
    "To make a classification, we then choose the class $c$ such that $P(c \\vert f)$ is maximal.\n",
    "\n",
    "There is a small caveat when computing these probabilities. For [floating point underflow](http://nlp.stanford.edu/IR-book/html/htmledition/naive-bayes-text-classification-1.html) we change the product into a sum by going into log space. This is called the LogSumExp trick. So:\n",
    "\n",
    "$$\\log P(f \\vert c)  = \\sum_i \\log P(f_i \\vert c) $$\n",
    "\n",
    "There is another caveat. What if we see a term that didn't exist in the training data? This means that $P(f_i \\vert c) = 0$ for that term, and thus $P(f \\vert c)  = \\prod_i P(f_i | c) = 0$, which doesn't help us at all. Instead of using zeros, we add a small negligible value called $\\alpha$ to each count. This is called Laplace Smoothing.\n",
    "\n",
    "$$P(f_i \\vert c) = \\frac{N_{ic}+\\alpha}{N_c + \\alpha N_i}$$\n",
    "\n",
    "where $N_{ic}$ is the number of times feature $i$ was seen in class $c$, $N_c$ is the number of times class $c$ was seen and $N_i$ is the number of times feature $i$ was seen globally. $\\alpha$ is sometimes called a regularization parameter.\n",
    "\n",
    "\n",
    "\n",
    "___\n",
    "### **Multinomial Baive Bayes and (other) Likelihood Functions**\n",
    "\n",
    "Since we are modeling word counts, we are using variation of Naive Bayes called Multinomial Naive Bayes. This is because the likelihood function actually takes the form of the multinomial distribution.\n",
    "\n",
    "$$P(f \\vert c) = \\frac{\\left( \\sum_i f_i \\right)!}{\\prod_i f_i!} \\prod_{f_i} P(f_i \\vert c)^{f_i} \\propto \\prod_{i} P(f_i \\vert c)$$\n",
    "\n",
    "where the nasty term out front is absorbed as a normalization constant such that probabilities sum to 1.\n",
    "\n",
    "There are many other variations of Naive Bayes, all which depend on what type of value $f_i$ takes. If $f_i$ is continuous, we may be able to use *Gaussian Naive Bayes*. First compute the mean and variance for each class $c$. Then the likelihood, $P(f \\vert c)$ is given as follows\n",
    "\n",
    "$$P(f_i = v \\vert c) = \\frac{1}{\\sqrt{2\\pi \\sigma^2_c}} e^{- \\frac{\\left( v - \\mu_c \\right)^2}{2 \\sigma^2_c}}$$"
   ]
  },
  {
   "cell_type": "markdown",
   "metadata": {},
   "source": [
    "## **Naive Bayes** (_in action_)\n",
    "1. split the data set into a training and test set\n",
    "2. Use `scikit-learn`'s `MultinomialNB()` classifier with default parameters.\n",
    "3. train the classifier over the training set and test on the test set\n",
    "4. print the accuracy scores for both the training and the test sets"
   ]
  },
  {
   "cell_type": "markdown",
   "metadata": {},
   "source": [
    "### **Data preperation** - _define x and y_"
   ]
  },
  {
   "cell_type": "code",
   "execution_count": 13,
   "metadata": {},
   "outputs": [
    {
     "name": "stdout",
     "output_type": "stream",
     "text": [
      "Calling, \".values.astype(np.int)\", on our target \"df.fresh\"converts original yes/no boolean values into 1/0 numerical type.\n",
      "null-value check:\n",
      "x    0\n",
      "y    0\n",
      "dtype: int64\n"
     ]
    },
    {
     "data": {
      "text/html": [
       "<div>\n",
       "<style scoped>\n",
       "    .dataframe tbody tr th:only-of-type {\n",
       "        vertical-align: middle;\n",
       "    }\n",
       "\n",
       "    .dataframe tbody tr th {\n",
       "        vertical-align: top;\n",
       "    }\n",
       "\n",
       "    .dataframe thead th {\n",
       "        text-align: right;\n",
       "    }\n",
       "</style>\n",
       "<table border=\"1\" class=\"dataframe\">\n",
       "  <thead>\n",
       "    <tr style=\"text-align: right;\">\n",
       "      <th></th>\n",
       "      <th>x</th>\n",
       "      <th>y</th>\n",
       "    </tr>\n",
       "  </thead>\n",
       "  <tbody>\n",
       "    <tr>\n",
       "      <th>1</th>\n",
       "      <td>So ingenious in concept, design and execution ...</td>\n",
       "      <td>1</td>\n",
       "    </tr>\n",
       "    <tr>\n",
       "      <th>2</th>\n",
       "      <td>The year's most inventive comedy.</td>\n",
       "      <td>1</td>\n",
       "    </tr>\n",
       "    <tr>\n",
       "      <th>3</th>\n",
       "      <td>A winning animated feature that has something ...</td>\n",
       "      <td>1</td>\n",
       "    </tr>\n",
       "    <tr>\n",
       "      <th>4</th>\n",
       "      <td>The film sports a provocative and appealing st...</td>\n",
       "      <td>1</td>\n",
       "    </tr>\n",
       "    <tr>\n",
       "      <th>5</th>\n",
       "      <td>An entertaining computer-generated, hyperreali...</td>\n",
       "      <td>1</td>\n",
       "    </tr>\n",
       "  </tbody>\n",
       "</table>\n",
       "</div>"
      ],
      "text/plain": [
       "                                                   x  y\n",
       "1  So ingenious in concept, design and execution ...  1\n",
       "2                  The year's most inventive comedy.  1\n",
       "3  A winning animated feature that has something ...  1\n",
       "4  The film sports a provocative and appealing st...  1\n",
       "5  An entertaining computer-generated, hyperreali...  1"
      ]
     },
     "execution_count": 13,
     "metadata": {},
     "output_type": "execute_result"
    }
   ],
   "source": [
    "print('Calling, \".values.astype(np.int)\", on our target \"df.fresh\"\\\n",
    "converts original yes/no boolean values into 1/0 numerical type.')\n",
    "\n",
    "train_df = pd.DataFrame()\n",
    "# Establish x: text features\n",
    "train_df['x'] = df['quote']\n",
    "# Establish y: target labels\n",
    "train_df['y'] = df['fresh'].values.astype(np.int)\n",
    "\n",
    "print('null-value check:\\n{}'.format(train_df.isnull().sum()))\n",
    "train_df.head()"
   ]
  },
  {
   "cell_type": "markdown",
   "metadata": {},
   "source": [
    "### **Train-test-split**\n",
    "\n",
    "- Split the dataset into training and validation sets so that we can train and test classifier.\n",
    "___\n",
    "**WRONG PROCESS: Vectorize before train-test-split**\n",
    "\n",
    " - If we vectorize our data before splitting our bag-of-words (document-term matrix) this would create a situation where every single word (feature) would be included in both training and testing sets. This would create a case of always seeing words/features that the model hasn't ever seen before. Remember the goal of the train-test-split is to establish a hold-out set we can validate models and evaluate their predictions on un-seen data and the goal of this evaluation essentially is to simulate future events. Therefore if the model is always seeing features it should not ever actually see, this is an inaccurate simulation of the real-world.\n",
    "\n",
    "___\n",
    "\n",
    "**CORRECT PROCESS: Split before using a vectorizer**\n",
    "\n",
    " - This will give us an accurate simulation of new, real-world data of the future and contain words un-seen by model previously.\n",
    "___\n",
    "**Maximize model learning**\n",
    "\n",
    " - After you train your data and chose the best model, you then train on all data prior to making predictions"
   ]
  },
  {
   "cell_type": "code",
   "execution_count": 14,
   "metadata": {},
   "outputs": [
    {
     "name": "stdout",
     "output_type": "stream",
     "text": [
      "TARGET BEFORE SPLIT:\n",
      "fresh == True (\"1\"):  total = 9482\n",
      "fresh == False (\"0\"): total = 6079\n",
      "\n",
      "AFTER SPLITTING:\n",
      "y-train label counts:\n",
      "1    7088\n",
      "0    4582\n",
      "Name: y, dtype: int64\n",
      "\n",
      "y-test label counts:\n",
      "1    2394\n",
      "0    1497\n",
      "Name: y, dtype: int64\n"
     ]
    }
   ],
   "source": [
    "pd.set_option('display.max_rows', 0)\n",
    "from sklearn.model_selection import train_test_split\n",
    "\n",
    "print('TARGET BEFORE SPLIT:\\nfresh == True (\"1\"):  total = {}'.format(train_df[train_df['y'] == 1].shape[0]))\n",
    "print('fresh == False (\"0\"): total = {}\\n'.format(train_df[train_df['y'] == 0].shape[0]))\n",
    "\n",
    "# split the dataset into training and validation datasets \n",
    "train_x, test_x, train_y, test_y = train_test_split(train_df['x'], train_df['y'])\n",
    "\n",
    "#print('After Splitting:\\n\\ny-train size: {}'.format(len(train_y)))\n",
    "print('AFTER SPLITTING:\\ny-train label counts:\\n{}\\n'.format(train_y.value_counts()))\n",
    "#print('y-test size: {}\\n'.format(len(test_y)))\n",
    "print('y-test label counts:\\n{}'.format(test_y.value_counts()))"
   ]
  },
  {
   "cell_type": "markdown",
   "metadata": {},
   "source": [
    "### **Encode target-labels with LabelEncoder**\n",
    "- Encode our target column so that it can be used in machine learning models.\n",
    "\n",
    " - _(as mentioned, we've already done so manually, below is for example only)_"
   ]
  },
  {
   "cell_type": "code",
   "execution_count": 15,
   "metadata": {},
   "outputs": [],
   "source": [
    "from sklearn.preprocessing import LabelEncoder\n",
    "\n",
    "# label encode the target variable w/ LabelEncoder()\n",
    "# encoder = LabelEncoder()\n",
    "# train_y_encoded = encoder.fit_transform(train_y)\n",
    "# test_y_encoded = encoder.fit_transform(test_y)\n",
    "# print('y-train after encoding: {}\\ny-test after encoding: {}'.format(train_y_encoded, test_y_encoded))"
   ]
  },
  {
   "cell_type": "markdown",
   "metadata": {},
   "source": [
    "### **Feature Engineering via Vectorization**\n",
    "Below will be multiple vecorization methods for transforming raw text data into feature vectors. As an effect, new features are created. Vectorization is **_only for the features (xtrain, and xtest sets), not the target (ytrain and ytest)._**\n",
    "\n",
    "#### _Count Vectors as features_\n",
    "#### _TF-IDF Vectors as features_\n",
    "#### Implementing Pipelines\n",
    "\n",
    "    FOR:\n",
    "    -Word level\n",
    "    -N-Gram level\n",
    "    -Character level"
   ]
  },
  {
   "cell_type": "markdown",
   "metadata": {},
   "source": [
    "**5.2.1** _**CountVectorizer()**_\n",
    "\n",
    "_Count Vectors as features. Count Vector is a matrix notation of the dataset in which every row represents a document from the corpus, every column represents a term from the corpus, and every cell represents the frequency count of a particular term in a particular document._"
   ]
  },
  {
   "cell_type": "code",
   "execution_count": 36,
   "metadata": {},
   "outputs": [],
   "source": [
    "from sklearn.feature_extraction.text import CountVectorizer\n",
    "from sklearn.naive_bayes import MultinomialNB\n",
    "from sklearn.metrics import accuracy_score\n",
    "\n",
    "# Create a count vectorizer object \n",
    "CountVect = CountVectorizer(analyzer='word', token_pattern=r'\\w{1,}')\n",
    "# Train Count Vectorizer on ALL of our text data: x\n",
    "CountVect.fit(train_df['x'])\n",
    "# A sparse matrix of [n_samples, n_features]: \"Document-term matrix\", or  \"bag-of-words\"\n",
    "xtrain_countVect =  CountVect.transform(train_x)\n",
    "xtest_countVect =  CountVect.transform(test_x)\n",
    "# Instantiate a Multi-Nomial Naive Bayes Classifier\n",
    "model = MultinomialNB()\n",
    "# Train model on train sets\n",
    "model.fit(xtrain_countVect, train_y)\n",
    "# predict\n",
    "predictions = model.predict(xtest_countVect)"
   ]
  },
  {
   "cell_type": "code",
   "execution_count": 32,
   "metadata": {},
   "outputs": [
    {
     "name": "stdout",
     "output_type": "stream",
     "text": [
      "Accuracy score w/ Count-Vectors as features: 0.781\n",
      "\n"
     ]
    },
    {
     "data": {
      "text/plain": [
       "0.781"
      ]
     },
     "execution_count": 32,
     "metadata": {},
     "output_type": "execute_result"
    }
   ],
   "source": [
    "# evaluate prediction accuracy of model\n",
    "model_acc_score = round(accuracy_score(test_y, predictions),4)\n",
    "print('Accuracy score w/ Count-Vectors as features: {}\\n'\\\n",
    "      .format(model_acc_score))\n",
    "model_acc_score"
   ]
  },
  {
   "cell_type": "code",
   "execution_count": 81,
   "metadata": {},
   "outputs": [
    {
     "data": {
      "text/plain": [
       "12       1\n",
       "14       1\n",
       "15       1\n",
       "41       1\n",
       "49       0\n",
       "52       1\n",
       "55       0\n",
       "76       1\n",
       "81       0\n",
       "85       1\n",
       "86       1\n",
       "91       1\n",
       "        ..\n",
       "27561    1\n",
       "27570    1\n",
       "27573    0\n",
       "27574    1\n",
       "27575    0\n",
       "27576    0\n",
       "27580    0\n",
       "27597    1\n",
       "27603    0\n",
       "27605    1\n",
       "27609    1\n",
       "27616    1\n",
       "Name: y, Length: 3891, dtype: int32"
      ]
     },
     "execution_count": 81,
     "metadata": {},
     "output_type": "execute_result"
    }
   ],
   "source": [
    "test_y.sort_index()"
   ]
  },
  {
   "cell_type": "code",
   "execution_count": null,
   "metadata": {},
   "outputs": [],
   "source": [
    "# a = pd.Series(test_y.sort_index().index)\n",
    "# #np.vstack(a.values)\n",
    "# # b = pd.Series(predictions).sort_index()\n",
    "# #b\n",
    "# c = pd.concat([a, b], axis=1)\n",
    "# c.columns = ['index', 'predictions']\n",
    "# d = np.vstack(test_y.sort_index().values)\n",
    "# d.reshape(3891,)\n",
    "# d.dtype\n",
    "# e = pd.concat([c.index,c.predictions, np.array(pd.Series(d).values)], axis=1)\n",
    "# e\n",
    "# #e.columns = ['index', 'true', 'predictions']"
   ]
  },
  {
   "cell_type": "code",
   "execution_count": 73,
   "metadata": {},
   "outputs": [
    {
     "name": "stdout",
     "output_type": "stream",
     "text": [
      "all reviews \"fresh col\"\n",
      "fresh     9482\n",
      "rotten    6052\n",
      "none        27\n",
      "Name: fresh, dtype: int64\n",
      "all reviews 15534\n",
      "\n",
      "test_y\n",
      "1    2394\n",
      "0    1497\n",
      "Name: y, dtype: int64\n",
      "test_y total 3891\n",
      "\n",
      "predictions results\n",
      "1    2580\n",
      "0    1311\n",
      "dtype: int64\n",
      "predictions total 3891\n",
      "accuracy 0.875751503006012\n"
     ]
    }
   ],
   "source": [
    "print('all reviews \"fresh col\"\\n{}'.format((critics['fresh'].value_counts())))\n",
    "print('all reviews {}\\n'.format(9482+6052))\n",
    "\n",
    "print('test_y\\n{}'.format((test_y.value_counts())))\n",
    "print('test_y total {}\\n'.format(2394+1497))\n",
    "\n",
    "print('predictions results\\n{}'.format(pd.Series(predictions).value_counts()))\n",
    "\n",
    "print('predictions total {}'.format(2580+1311))\n",
    "print('accuracy {}'.format(1311/1497))"
   ]
  },
  {
   "cell_type": "code",
   "execution_count": 18,
   "metadata": {},
   "outputs": [
    {
     "name": "stdout",
     "output_type": "stream",
     "text": [
      "Accuracy score w/ Count-Vectors as features: 0.781\n",
      "\n",
      "Check for Skewness of target distribution:\n",
      "  \"fresh\" count: 2394\n",
      " \"rotten\" count: 1497\n",
      "\n",
      "fresh (1) accuracy: 0.6153\n",
      "rotten (0) accuracy: 0.3847\n"
     ]
    }
   ],
   "source": [
    "# Understand class distribution and consider possible class skew\n",
    "fresh_ = test_y.value_counts().values[0]\n",
    "rotten_ = test_y.value_counts().values[1]\n",
    "print('Check for Skewness of target distribution:\\n\\\n",
    "  \"fresh\" count: {}\\n\\\n",
    " \"rotten\" count: {}\\n'.format(fresh_, rotten_))\n",
    "\n",
    "# for multi-class classification problems\n",
    "# evaluate model accuracy for always predicting \"fresh\"\n",
    "\n",
    "fresh_accuracy = round(fresh_ / len(test_y),4)\n",
    "print('fresh (1) accuracy:', fresh_accuracy)\n",
    "\n",
    "# evaluate model accuracy for always predicting \"rotten\"\n",
    "rotten_accuracy = round(rotten_ / len(test_y),4)\n",
    "print('rotten (0) accuracy:', rotten_accuracy)"
   ]
  },
  {
   "cell_type": "code",
   "execution_count": 19,
   "metadata": {},
   "outputs": [
    {
     "name": "stdout",
     "output_type": "stream",
     "text": [
      "Above, we see our accuracy (0.781) is higher than the \"fresh\" accuracy score of 0.6153\n"
     ]
    }
   ],
   "source": [
    "print('Above, we see our accuracy ({}) is higher than the \"fresh\" accuracy score of {}'.format(model_acc_score, fresh_accuracy))"
   ]
  },
  {
   "cell_type": "code",
   "execution_count": 31,
   "metadata": {},
   "outputs": [
    {
     "name": "stdout",
     "output_type": "stream",
     "text": [
      "train_df['y'] total number of rotten reviews = 12158\n",
      "train_df['y'] total number of fresh reviews = 18964\n",
      "1497 \"rotten\" and 2394 \"fresh\" reviews contained in y-validation set (\"test_y\")\n"
     ]
    },
    {
     "data": {
      "text/plain": [
       "2394"
      ]
     },
     "metadata": {},
     "output_type": "display_data"
    },
    {
     "data": {
      "text/plain": [
       "1497"
      ]
     },
     "metadata": {},
     "output_type": "display_data"
    }
   ],
   "source": [
    "print('train_df[\\'y\\'] total number of rotten reviews = {}'.format(train_df[train_df.y == 0].size))#head()#test_y\n",
    "print('train_df[\\'y\\'] total number of fresh reviews = {}'.format(train_df[train_df.y == 1].size))\n",
    "\n",
    "print('{} \"rotten\" and {} \"fresh\" reviews contained in y-validation set (\"test_y\")'.format(test_y.value_counts()[0], test_y.value_counts()[1]))\n",
    "# ... make note of the reverse order compared to above depending on executing of the query\n",
    "# ... run commented-out code below for demonstration\n",
    "display(test_y.value_counts().values[0]) # where \"[0]\" fresh reviews \n",
    "display(test_y.value_counts().values[1]) ##where \"[1]\" rotten reviews"
   ]
  },
  {
   "cell_type": "markdown",
   "metadata": {
    "code_folding": []
   },
   "source": [
    "#### evaluate and visualize model performance\n"
   ]
  },
  {
   "cell_type": "code",
   "execution_count": 21,
   "metadata": {},
   "outputs": [
    {
     "name": "stdout",
     "output_type": "stream",
     "text": [
      "Confusion or Error Matrix format (acronyms for labels):\n",
      "[['TN' 'FP']\n",
      " ['FN' 'TP']]\n"
     ]
    }
   ],
   "source": [
    "# Confusion matrix or error matrix format\n",
    "err_matrx_acronyms = np.array([['TN', 'FP', 'FN', 'TP']]).reshape(2,2)\n",
    "#print('initial dtype of np.array([[\"TN\", \"FP\", \"FN\", \"TP\"]] = {}'.format(str(confusion_matrix_labels.dtype).strip(\"\\'\\<\\'\")))\n",
    "print('Confusion or Error Matrix format (acronyms for labels):\\n{}'.format(err_matrx_acronyms))# print('reshape to,\\n',err_matrx_acronym)"
   ]
  },
  {
   "cell_type": "code",
   "execution_count": 30,
   "metadata": {},
   "outputs": [
    {
     "name": "stdout",
     "output_type": "stream",
     "text": [
      "\n",
      "\"Confusion or error matrix results:\n",
      "[[ 978  519]\n",
      " [ 333 2061]]\n"
     ]
    },
    {
     "data": {
      "text/html": [
       "<div>\n",
       "<style scoped>\n",
       "    .dataframe tbody tr th:only-of-type {\n",
       "        vertical-align: middle;\n",
       "    }\n",
       "\n",
       "    .dataframe tbody tr th {\n",
       "        vertical-align: top;\n",
       "    }\n",
       "\n",
       "    .dataframe thead th {\n",
       "        text-align: right;\n",
       "    }\n",
       "</style>\n",
       "<table border=\"1\" class=\"dataframe\">\n",
       "  <thead>\n",
       "    <tr style=\"text-align: right;\">\n",
       "      <th></th>\n",
       "      <th>TN_preds</th>\n",
       "      <th>FN_preds</th>\n",
       "    </tr>\n",
       "  </thead>\n",
       "  <tbody>\n",
       "    <tr>\n",
       "      <th>TP_preds</th>\n",
       "      <td>NaN</td>\n",
       "      <td>NaN</td>\n",
       "    </tr>\n",
       "    <tr>\n",
       "      <th>FP_preds</th>\n",
       "      <td>NaN</td>\n",
       "      <td>NaN</td>\n",
       "    </tr>\n",
       "  </tbody>\n",
       "</table>\n",
       "</div>"
      ],
      "text/plain": [
       "          TN_preds  FN_preds\n",
       "TP_preds       NaN       NaN\n",
       "FP_preds       NaN       NaN"
      ]
     },
     "execution_count": 30,
     "metadata": {},
     "output_type": "execute_result"
    }
   ],
   "source": [
    "from sklearn.metrics import confusion_matrix\n",
    "\n",
    "# tally total correct vs incorrect label predictions and print confusion or error matrix results (\"actual\" vs \"predicted\")\n",
    "error_matrix_results = confusion_matrix(test_y, predictions)\n",
    "print('\\n\"Confusion or error matrix results:\\n{}'.format(error_matrix_results))\n",
    "confusion_matrix(test_y, predictions)\n",
    "\n",
    "rotten_counts = pd.Series(error_matrix_results[0], name=\"rotten\")\n",
    "fresh_counts = pd.Series(error_matrix_results[1], name=\"fresh\")\n",
    "confusion_matrix_df = pd.DataFrame(data=pd.concat([fresh_counts, rotten_counts], axis=1), index=['TP_preds', 'FP_preds'], columns=['TN_preds', 'FN_preds'])\n",
    "confusion_matrix_df\n",
    "# print('h-stack: {}'.format(np.hstack(error_matrix_results)))\n",
    "# print('v-stack: {}'.format(display(np.vstack(error_matrix_results))))\n",
    "# print('\"pop\": {}\\n'error_matrix_results.pop())\n",
    "# print('\"ravel\": {}\\n'error_matrix_results.ravel())\n",
    "# print('\"swapaxes\": {}\\n'.format(error_matrix_results.swapaxes()))\n",
    "# print('T {}\\n'.format(error_matrix_results.T))"
   ]
  },
  {
   "cell_type": "code",
   "execution_count": 29,
   "metadata": {},
   "outputs": [
    {
     "data": {
      "text/plain": [
       "[<generator object <genexpr> at 0x000000AE1C2AFE08>]"
      ]
     },
     "execution_count": 29,
     "metadata": {},
     "output_type": "execute_result"
    }
   ],
   "source": [
    "# confusion matrix annotation: pred-counts + acronym (\"valAndAcronym\")\n",
    "confusion_matrix_outcomes0 = [(str(total)+' ('+ err_matrx_acronym +')' for total in error_matrix_results)] # needs 2-b array-like or str for correct matrix-func execution\n",
    "# confusion_matrix_outcomes0 = np.diagonal(np.matrix(confusion_matrix_outcomes0))#, (2,2))#.reshape(2,2)\n",
    "#plt.plot(np.ndarray(str(confusion_matrix_outcomes0)))\n",
    "#confusion_matrix_outcomes = confusion_matrix_valAndAcronym.reshape(2,2)\n",
    "#print('\\n\\nThe Object of interest (for heatmap annotation): Results alongside the acronyms:\\n{}'.format(confusion_matrix_valAndAcronym))"
   ]
  },
  {
   "cell_type": "code",
   "execution_count": 192,
   "metadata": {},
   "outputs": [
    {
     "data": {
      "text/plain": [
       "array([ 185, 2221], dtype=int64)"
      ]
     },
     "execution_count": 192,
     "metadata": {},
     "output_type": "execute_result"
    }
   ],
   "source": [
    "# totals = [total for total in error_matrix_results]\n",
    "# totals\n",
    "#str(total)+' ('+ err_matrx_acronym +')' for total in error_matrix_results\n",
    "\n",
    "total\n",
    "#total err_matrx_acronym for total in error_matrix_results\n",
    "\n",
    "# # we need to deal with dtype displayed earlier for our array of confusion-matrix annotations we want\n",
    "# print('initial dtype of np.array([[\"TN\", \"FP\", \"FN\", \"TP\"]] = {}'.format(str(confusion_matrix_labels.dtype).strip(\"\\'\\<\\'\")))\n",
    "\n",
    "# dt = np.dtype('>i4')\n",
    "# dt.byteorder\n",
    "# dt.itemsize\n",
    "# dt.name\n",
    "#dt.type is np.int32\n",
    "\n",
    "#confusion_matrix_outcomes1 = \n",
    "# display(confusion_matrix_outcomes1)\n",
    "\n",
    "# confusion_matrix_valAndAcronym = np.diagonal(np.matrix(confusion_matrix_outcomes1))\n",
    "# confusion_matrix_valAndAcronym = confusion_matrix_valAndAcronym.reshape(2,2)\n",
    "# print('...\\n\\nThe Object of interest (for heatmap annotation): Result alongside the acronym:\\n{}'.format(confusion_matrix_valAndAcronym))"
   ]
  },
  {
   "cell_type": "code",
   "execution_count": null,
   "metadata": {},
   "outputs": [],
   "source": [
    "# confusion_matrix_labels[0] = 'TN'; confusion_matrix_labels[1] = 'FP'\n",
    "# confusion_matrix_labels[2] = 'FN'; confusion_matrix_labels[3] = 'TP'\n",
    "# err_matrx_acronym = confusion_matrix_labels.reshape(2,2)\n"
   ]
  },
  {
   "cell_type": "code",
   "execution_count": null,
   "metadata": {},
   "outputs": [],
   "source": [
    "tn, fp, fn, tp = confusion_matrix(test_y, predictions).ravel() \n",
    "results = [tn, fp, fn, tp]\n",
    "results = pd.Series(results, index=['True Negative','False Positive',\n",
    "                                    'False Negative','True Positive'])\n",
    "print('\\nResults with \"labels\" (index-labels):\\n{}\\n'.format(results))"
   ]
  },
  {
   "cell_type": "code",
   "execution_count": 113,
   "metadata": {},
   "outputs": [
    {
     "ename": "NameError",
     "evalue": "name 'confusionMatrix_idxlabels' is not defined",
     "output_type": "error",
     "traceback": [
      "\u001b[1;31m---------------------------------------------------------------------------\u001b[0m",
      "\u001b[1;31mNameError\u001b[0m                                 Traceback (most recent call last)",
      "\u001b[1;32m<ipython-input-113-74da66a453d0>\u001b[0m in \u001b[0;36m<module>\u001b[1;34m()\u001b[0m\n\u001b[0;32m      1\u001b[0m \u001b[1;31m# confusion matrix annotation: labels + acronym (\"fullLabels\")\u001b[0m\u001b[1;33m\u001b[0m\u001b[1;33m\u001b[0m\u001b[0m\n\u001b[1;32m----> 2\u001b[1;33m \u001b[0mconf_matrix_fullLabels\u001b[0m \u001b[1;33m=\u001b[0m \u001b[0mconfusionMatrix_idxlabels\u001b[0m\u001b[1;33m+\u001b[0m\u001b[1;34m' ('\u001b[0m\u001b[1;33m+\u001b[0m \u001b[0merr_matrx_acronym\u001b[0m \u001b[1;33m+\u001b[0m\u001b[1;34m')'\u001b[0m\u001b[1;33m\u001b[0m\u001b[0m\n\u001b[0m\u001b[0;32m      3\u001b[0m \u001b[0mprint\u001b[0m\u001b[1;33m(\u001b[0m\u001b[1;34m'(index) labels + acronyms:\\n{}\\n'\u001b[0m\u001b[1;33m.\u001b[0m\u001b[0mformat\u001b[0m\u001b[1;33m(\u001b[0m\u001b[0mconf_matrix_fullLabels\u001b[0m\u001b[1;33m)\u001b[0m\u001b[1;33m)\u001b[0m\u001b[1;33m\u001b[0m\u001b[0m\n\u001b[0;32m      4\u001b[0m \u001b[1;33m\u001b[0m\u001b[0m\n\u001b[0;32m      5\u001b[0m \u001b[0mintuition\u001b[0m \u001b[1;33m=\u001b[0m \u001b[0mresults\u001b[0m\u001b[1;33m.\u001b[0m\u001b[0mindex\u001b[0m\u001b[1;33m\u001b[0m\u001b[0m\n",
      "\u001b[1;31mNameError\u001b[0m: name 'confusionMatrix_idxlabels' is not defined"
     ]
    }
   ],
   "source": [
    "# confusion matrix annotation: labels + acronym (\"fullLabels\")\n",
    "conf_matrix_fullLabels = confusionMatrix_idxlabels+' ('+ err_matrx_acronym +')'\n",
    "print('(index) labels + acronyms:\\n{}\\n'.format(conf_matrix_fullLabels))\n",
    "\n",
    "intuition = results.index\n",
    "print('Intuition:\\n\\\n",
    "{} = correct prediction of the negative class (0: \"rotten\")\\n\\\n",
    "{} = incorrect prediction of the positive class (1: \"fresh\")\\n\\\n",
    "{} = incorrect prediction of the negative class (0: \"rotten\")\\n\\\n",
    "{} = correctl prediction of the positive class (1: \"fresh\")\\n'.format(definitions[0], definitions[1], \n",
    "                                                                    definitions[2], definitions[3]))"
   ]
  },
  {
   "cell_type": "code",
   "execution_count": 483,
   "metadata": {
    "collapsed": true
   },
   "outputs": [
    {
     "name": "stdout",
     "output_type": "stream",
     "text": [
      "confusion matrix data:\n",
      " [[ 962  549]\n",
      " [ 342 2038]]\n"
     ]
    },
    {
     "data": {
      "image/png": "[encoded data removed]",
      "text/plain": [
       "<Figure size 432x288 with 2 Axes>"
      ]
     },
     "metadata": {},
     "output_type": "display_data"
    }
   ],
   "source": [
    "print('confusion matrix data:\\n',data_)\n",
    "data_.\n",
    "# ax.invert_xaxis(), ax.invert_yaxis() # invert for clean look\n",
    "# ax.xaxis.tick_top()         # move x-axis labels above chart\n",
    "# ax.yaxis.tick_right()     # move y-axis labels to right side\n",
    "# ax.set_title('Correlations among variables', pad=65, loc='center', size=35)\n",
    "\n",
    "#figure and axes\n",
    "fig, ax = plt.subplots(nrows=1, ncols=2, sharex=False, sharey=False, frameon=False) # figsize=(7,7)\n",
    "\n",
    "# chart1\n",
    "ax[0] = sns.heatmap(data_, cbar=False, square=True, annot=True, cmap=\"Blues\") #xticklabels=results[2:4].index, yticklabels=results[0:2].index))\n",
    "ax[0].set_title('Error Matrix1')#, color='lightgrey')#, pad=30)\n",
    "# x axis adjustments\n",
    "ax[0].set_xlabel('True Labels', color='lightgrey', fontdict={'size':17})\n",
    "ax[0].set_xticklabels(chart.get_yticklabels(), color='lightgrey', \n",
    "                      fontdict={'fontsize': 12,'fontweight': 5,'ha': 'center', 'rotation':35}) #, labelpad=20\n",
    "# y axis adjustments\n",
    "ax[0].set_ylabel('Predicted Labels', color='lightgrey', fontdict={'size':17}) #  labelpad=20,\n",
    "ax[0].set_yticklabels(chart.get_yticklabels(), color='lightgrey',\n",
    "                      fontdict={'fontsize': 12,'fontweight': 5, 'va': 'center'})\n",
    "\n",
    "\"\"\" fix scientific annotation and resize heatmap in chart 2 below:\n",
    "     -if annot=True, then fmt='.2g' is default. To rid scientific vals set fmt='g' \"\"\"\n",
    "\n",
    "# chart2\n",
    "ax[1] = sns.heatmap(data_, cbar=False, square=True, annot=True, fmt='g', cmap=\"Blues\")\n",
    "                            #xticklabels=results[2:4].index, yticklabels=results[0:2].index))\n",
    "#chart2.axis('auto')\n",
    "ax[1].set_title('Error Matrix2')#, color='lightgrey')#, pad=30)\n",
    "# x axis adjustments\n",
    "ax[1].set_xlabel('True Labels', color='lightgrey')#, labelpad=40)\n",
    "ax[1].set_xticklabels(chart.get_yticklabels(), color='lightgrey', fontdict={'ha': 'center'}) # 'fontsize': 12,'fontweight': 10,\n",
    "# y axis adjustments\n",
    "ax[1].set_ylabel('Predicted Labels')#, color='lightgrey', labelpad=40)\n",
    "ax[1].set_yticklabels(chart.get_yticklabels(), color='lightgrey',fontdict={'va': 'center'}); #'fontsize': 17.5,'fontweight': 10,"
   ]
  },
  {
   "cell_type": "code",
   "execution_count": 25,
   "metadata": {
    "code_folding": [],
    "collapsed": true
   },
   "outputs": [
    {
     "ename": "NameError",
     "evalue": "name 'confusionMatrix_valsObjFlat' is not defined",
     "output_type": "error",
     "traceback": [
      "\u001b[1;31m---------------------------------------------------------------------------\u001b[0m",
      "\u001b[1;31mNameError\u001b[0m                                 Traceback (most recent call last)",
      "\u001b[1;32m<ipython-input-25-588a130812c7>\u001b[0m in \u001b[0;36m<module>\u001b[1;34m()\u001b[0m\n\u001b[0;32m     10\u001b[0m     \u001b[1;36m8\u001b[0m\u001b[0;31m \u001b[0m\u001b[0;31m\\\u001b[0m\u001b[0mn\u001b[0m\u001b[1;33m{\u001b[0m\u001b[1;33m}\u001b[0m\u001b[0;31m\\\u001b[0m\u001b[0mn\u001b[0m\u001b[0;31m\\\u001b[0m\u001b[1;33m\u001b[0m\u001b[0m\n\u001b[0;32m     11\u001b[0m     '.format(\n\u001b[1;32m---> 12\u001b[1;33m     \u001b[0mconfusionMatrix_valsObjFlat\u001b[0m\u001b[1;33m,\u001b[0m\u001b[1;33m\u001b[0m\u001b[0m\n\u001b[0m\u001b[0;32m     13\u001b[0m     \u001b[0mconfusionMatrix_vals\u001b[0m\u001b[1;33m,\u001b[0m\u001b[0mconfusionMatrix_vals\u001b[0m\u001b[1;33m.\u001b[0m\u001b[0mdtype\u001b[0m\u001b[1;33m,\u001b[0m\u001b[1;33m\u001b[0m\u001b[0m\n\u001b[0;32m     14\u001b[0m     \u001b[0mconfusionMatrix_valsObj\u001b[0m\u001b[1;33m,\u001b[0m\u001b[0mconfusionMatrix_valsObj\u001b[0m\u001b[1;33m.\u001b[0m\u001b[0mdtype\u001b[0m\u001b[1;33m,\u001b[0m\u001b[1;33m\u001b[0m\u001b[0m\n",
      "\u001b[1;31mNameError\u001b[0m: name 'confusionMatrix_valsObjFlat' is not defined"
     ]
    }
   ],
   "source": [
    "# formatting styles for heatmap (2,2 matrix value and labels)\n",
    "print(\n",
    "    '1 \\n{}\\n\\n\\\n",
    "    2 \\n{}\\n{}\\n\\\n",
    "    3 \\n{}\\n{}\\n\\\n",
    "    4 \\n{}\\n\\n\\\n",
    "    5 \\n{}\\n\\n\\\n",
    "    6 \\n{}\\n{}\\n\\\n",
    "    7 \\n{}\\n\\n\\\n",
    "    8 \\n{}\\n\\\n",
    "    '.format(\n",
    "    confusionMatrix_valsObjFlat,\n",
    "    confusionMatrix_vals,confusionMatrix_vals.dtype,\n",
    "    confusionMatrix_valsObj,confusionMatrix_valsObj.dtype,\n",
    "    confusion_matrix_labels,\n",
    "    confusionMatrix_acronymFlat,\n",
    "    confusionMatrix_acronym,confusionMatrix_acronym.dtype,\n",
    "    results.index.values,\n",
    "    results.index.value_counts()))"
   ]
  },
  {
   "cell_type": "code",
   "execution_count": 551,
   "metadata": {
    "code_folding": []
   },
   "outputs": [
    {
     "data": {
      "image/png": "[encoded data removed]",
      "text/plain": [
       "<Figure size 432x288 with 1 Axes>"
      ]
     },
     "metadata": {},
     "output_type": "display_data"
    },
    {
     "data": {
      "image/png": "[encoded data removed]",
      "text/plain": [
       "<Figure size 504x504 with 2 Axes>"
      ]
     },
     "metadata": {},
     "output_type": "display_data"
    }
   ],
   "source": [
    "# mask redundancy if many classes/features\n",
    "#mask_lower = np.triu(collinear_search) w/ \"mask=mask_lower\" in heatmap\n",
    "fig, ax = plt.subplots(frameon=False)\n",
    "chart1 = sns.heatmap(data_, cbar=False, annot=True, annot_kws={'size':20}, cmap=\"Blues\",\n",
    "                     linewidths=.5, linecolor= '#212946',\n",
    "                     xticklabels=results[2:4].index, yticklabels=results[0:2].index)\n",
    "chart1.set_title('Error Matrix', color='lightgrey', pad=30)\n",
    "# x axis adjustments\n",
    "chart1.set_xlabel('True Labels', color='lightgrey', labelpad=20, fontdict={'size':17})\n",
    "chart1.set_xticklabels(chart.get_yticklabels(), color='lightgrey', \n",
    "                      fontdict={'fontsize': 12,'fontweight': 5,'ha': 'center', 'rotation':0})\n",
    "# y axis adjustments\n",
    "chart1.set_ylabel('Predicted Labels', color='lightgrey', labelpad=20)# fontdict={'size':17})\n",
    "chart1.set_yticklabels(chart.get_yticklabels(), color='lightgrey', rotation=90,\n",
    "                      fontdict={'fontsize': 12,'fontweight': 5, 'va': 'center'})\n",
    "plt.show()\n",
    "\n",
    "\n",
    "\n",
    "# for param in ['figure.facecolor', 'axes.facecolor', 'savefig.facecolor']:\n",
    "#     plt.rcParams[param] = '#212946'\n",
    "\n",
    "# -----------------------CHART2--------------------------------------\n",
    "fig, ax = plt.subplots(figsize=(7,7), frameon=False)\n",
    "# manual color adjustments\n",
    "color = sns.diverging_palette(220, 276, s=99, l=70, sep=14, n=10, center=\"dark\")\n",
    "text = np.array([confusion_matrix_valAndAcronym[0,0], confusion_matrix_valAndAcronym[0,1],\n",
    "        confusion_matrix_valAndAcronym[1,0], confusion_matrix_valAndAcronym[1,1]])\n",
    "text\n",
    "chart2 = sns.heatmap(data_, annot=True, annot_kws={'size':18, 'alpha' : 2, 'text': text},\n",
    "                     fmt='g', square=True, cmap=color, cbar=True, cbar_kws={'pad' : .07, 'shrink' : .8},\n",
    "                     vmin=200, vmax=2000, xticklabels=results[2:4].index, yticklabels=results[0:2].index)\n",
    "#chart2.axis('auto')\n",
    "chart2.set_title('Error Matrix', color='lightgrey', pad=20, loc='center', fontdict={'va':'baseline'})\n",
    "# x axis adjustments\n",
    "chart2.set_xlabel('True Labels', color='lightgrey', labelpad=20)\n",
    "chart2.set_xticklabels(chart.get_yticklabels(), color='lightgrey', \n",
    "                      fontdict={'fontsize': 13.5,'fontweight': 10,'ha': 'center', 'rotation':0})\n",
    "# y axis adjustments\n",
    "chart2.set_ylabel('Predicted Labels', color='lightgrey', labelpad=20, alpha=1)\n",
    "chart2.set_yticklabels(chart.get_yticklabels(), alpha=.7, size=17, color='lightgrey', \n",
    "                      fontdict={'fontsize': 13.5, 'va': 'center'}); # 'weight': 10"
   ]
  },
  {
   "cell_type": "code",
   "execution_count": 625,
   "metadata": {
    "collapsed": true
   },
   "outputs": [
    {
     "data": {
      "text/plain": [
       "array([['962 (TN)', '549 (FP)'],\n",
       "       ['342 (FN)', '2038 (TP)']], dtype=object)"
      ]
     },
     "metadata": {},
     "output_type": "display_data"
    },
    {
     "data": {
      "text/plain": [
       "array([[ 962,  549],\n",
       "       [ 342, 2038]], dtype=int64)"
      ]
     },
     "metadata": {},
     "output_type": "display_data"
    },
    {
     "data": {
      "image/png": "[encoded data removed]",
      "text/plain": [
       "<Figure size 432x288 with 2 Axes>"
      ]
     },
     "metadata": {},
     "output_type": "display_data"
    },
    {
     "data": {
      "image/png": "[encoded data removed]",
      "text/plain": [
       "<Figure size 432x288 with 2 Axes>"
      ]
     },
     "metadata": {},
     "output_type": "display_data"
    },
    {
     "data": {
      "image/png": "[encoded data removed]",
      "text/plain": [
       "<Figure size 432x288 with 2 Axes>"
      ]
     },
     "metadata": {},
     "output_type": "display_data"
    },
    {
     "data": {
      "image/png": "[encoded data removed]",
      "text/plain": [
       "<Figure size 432x288 with 2 Axes>"
      ]
     },
     "metadata": {},
     "output_type": "display_data"
    },
    {
     "data": {
      "text/plain": [
       "<matplotlib.colorbar.Colorbar at 0xee89a54320>"
      ]
     },
     "execution_count": 625,
     "metadata": {},
     "output_type": "execute_result"
    },
    {
     "data": {
      "image/png": "[encoded data removed]",
      "text/plain": [
       "<Figure size 432x288 with 2 Axes>"
      ]
     },
     "metadata": {},
     "output_type": "display_data"
    }
   ],
   "source": [
    "import matplotlib.pyplot as plt\n",
    "import numpy as np\n",
    "\n",
    "#ddata = np.random.rand(5, 4)\n",
    "# display(type(ddata), ddata.dtype)\n",
    "display(confusion_matrix_valAndAcronym)\n",
    "# display(type(confusionMatrix_vals), confusionMatrix_vals.dtype)\n",
    "\n",
    "display(confusionMatrix_vals)#confusionMatrix_vals.dtype,\n",
    "confusionMatrix_valsObj#,confusionMatrix_valsObj.dtype,\n",
    "confusionMatrix_acronym#,confusionMatrix_acronym.dtype,\n",
    "\n",
    "array([[ 962,  549],\n",
    "       [ 342, 2038]]\n",
    "heatmap = plt.pcolor(confusionMatrix_vals)\n",
    "for y in range(confusionMatrix_vals.shape[0]):\n",
    "    for x in range(confusionMatrix_vals.shape[1]):\n",
    "        #print('confusionMatrix_vals[y, x] returns: {}'.format(confusionMatrix_vals[y, x]))#, x]))\n",
    "        \"\"\"Add the text *s* to the axes at location *x*, *y* in data coordinates.\"\"\"\n",
    "        txt_obj = plt.text(x, y, '%f' % confusionMatrix_vals[y, x],\n",
    "                           horizontalalignment='center', verticalalignment='center') #  \n",
    "        #print(txt_obj)\n",
    "        #sns.set_palette(heatmap)\n",
    "        plt.colorbar(heatmap)\n",
    "        plt.show()\n",
    "\n",
    "\n",
    "ddata = np.random.rand(5, 4)\n",
    "heatmap1 = plt.pcolor(ddata)\n",
    "\n",
    "for y in range(ddata.shape[0]):\n",
    "    for x in range(ddata.shape[1]):\n",
    "        plt.text(x + 0.5, y + 0.5, '%.4f' % ddata[y, x],\n",
    "                 horizontalalignment='center',\n",
    "                 verticalalignment='center',\n",
    "                 )\n",
    "\n",
    "plt.colorbar(heatmap1)\n",
    "\n",
    "#plt.show()"
   ]
  },
  {
   "cell_type": "markdown",
   "metadata": {},
   "source": [
    "**5.2.2** _**TfidVectorizer()**_"
   ]
  },
  {
   "cell_type": "code",
   "execution_count": 29,
   "metadata": {
    "collapsed": true
   },
   "outputs": [
    {
     "name": "stdout",
     "output_type": "stream",
     "text": [
      "Accuracy score w/ word weighted TF-IDF vectors for features: 0.76\n"
     ]
    }
   ],
   "source": [
    "from sklearn.feature_extraction.text import TfidfVectorizer\n",
    "\n",
    "# word level tf-idf\n",
    "tfidfVect = TfidfVectorizer(analyzer='word', \n",
    "                            token_pattern=r'\\w{1,}',\n",
    "                            max_features=5000)\n",
    "\n",
    "# Train Vectorizer on ALL text features\n",
    "tfidfVect.fit(train_df['x'])\n",
    "\n",
    "# Transform training AND validation/test data \n",
    "# A sparse matrix of [n_samples, n_features]\n",
    "# A Tf-idf-weighted document-term matrix is returned\n",
    "xtrain_tfidfVect = tfidfVect.transform(train_x)\n",
    "xtest_tfidfVect = tfidfVect.transform(test_x)\n",
    "\n",
    "# Instantiate a Multi-Nomial Naive Bayes Classifier\n",
    "model = MultinomialNB()\n",
    "# Train model on train sets\n",
    "model.fit(xtrain_tfidfVect, train_y)\n",
    "# predict\n",
    "predictions = model.predict(xtest_tfidfVect)\n",
    "# evaluate prediction accuracy of model\n",
    "print('Accuracy score w/ word weighted TF-IDF vectors for features: {}'\\\n",
    "      .format(round(accuracy_score(test_y,predictions),4)))"
   ]
  },
  {
   "cell_type": "code",
   "execution_count": 30,
   "metadata": {
    "collapsed": true
   },
   "outputs": [
    {
     "name": "stdout",
     "output_type": "stream",
     "text": [
      "Accuracy score w/ ngram weighted Tf-idf vectors for features: 0.6937\n"
     ]
    }
   ],
   "source": [
    "# ngram level tf-idf \n",
    "tfidfVect_ngram = TfidfVectorizer(analyzer='word',\n",
    "                                  token_pattern=r'\\w{1,}', \n",
    "                                  ngram_range=(2,3),\n",
    "                                  max_features=5000)\n",
    "\n",
    "# Train Vectorizer on ALL text features\n",
    "tfidfVect_ngram.fit(train_df['x'])\n",
    "\n",
    "# Transform training AND validation/test data into sparse matrices\n",
    "# Returns A ngram-weighted Tf-idf document-term matrix of of [n_samples, n_features]\n",
    "xtrain_ngramVect = tfidfVect_ngram.transform(train_x)\n",
    "xtest_ngramVect = tfidfVect_ngram.transform(test_x)\n",
    "\n",
    "# Instantiate Naive Bayes classifier\n",
    "model = MultinomialNB()\n",
    "# Train\n",
    "model.fit(xtrain_ngramVect, train_y)\n",
    "# predict\n",
    "predictions = model.predict(xtest_ngramVect)\n",
    "# evaluate model accuracy\n",
    "print('Accuracy score w/ ngram weighted Tf-idf vectors for features: {}'\\\n",
    "      .format(round(accuracy_score(test_y, predictions),4)))"
   ]
  },
  {
   "cell_type": "code",
   "execution_count": 31,
   "metadata": {},
   "outputs": [
    {
     "name": "stdout",
     "output_type": "stream",
     "text": [
      "Accuracy score: character weighted Tf-idf vectors for features:0.6916\n",
      "\n",
      "\n"
     ]
    }
   ],
   "source": [
    "# characters level tf-idf\n",
    "tfidfVect_NgramChars = TfidfVectorizer(analyzer='char',\n",
    "                                        token_pattern=r'\\w{1,}',\n",
    "                                        ngram_range=(2,3),\n",
    "                                        max_features=5000)\n",
    "# Train Vectorizer on ALL text features\n",
    "tfidfVect_NgramChars.fit(train_df['x'])\n",
    "\n",
    "# Transform train/test data into sparse matrices\n",
    "# Returns char-weighted Tf-idf doc-term matrix: [n_samples, n_features]\n",
    "xtrain_ngramCharVect = tfidfVect_NgramChars.transform(train_x) \n",
    "xtest_ngramCharVect = tfidfVect_NgramChars.transform(test_x) \n",
    "\n",
    "# Instantiate Naive Bayes classifier\n",
    "model = MultinomialNB()\n",
    "# Train\n",
    "model.fit(xtrain_ngramCharVect, train_y)\n",
    "# predict\n",
    "predictions = model.predict(xtest_ngramCharVect)\n",
    "# evaluate model accuracy\n",
    "print('Accuracy score: character weighted Tf-idf vectors for features:\\\n",
    "{}\\n\\n'.format(round(accuracy_score(test_y, predictions),4)))"
   ]
  },
  {
   "cell_type": "markdown",
   "metadata": {},
   "source": [
    "**5.2.2** _**TfidVectorizer() using Pipeline**_"
   ]
  },
  {
   "cell_type": "code",
   "execution_count": 26,
   "metadata": {
    "code_folding": []
   },
   "outputs": [
    {
     "ename": "NameError",
     "evalue": "name 'TfidfVectorizer' is not defined",
     "output_type": "error",
     "traceback": [
      "\u001b[1;31m---------------------------------------------------------------------------\u001b[0m",
      "\u001b[1;31mNameError\u001b[0m                                 Traceback (most recent call last)",
      "\u001b[1;32m<ipython-input-26-df386c101458>\u001b[0m in \u001b[0;36m<module>\u001b[1;34m()\u001b[0m\n\u001b[0;32m      3\u001b[0m \u001b[1;33m\u001b[0m\u001b[0m\n\u001b[0;32m      4\u001b[0m \u001b[1;31m# Example #0: Using a pipeline w/ TF-IDF and MultiNomial Naive Bayes\u001b[0m\u001b[1;33m\u001b[0m\u001b[1;33m\u001b[0m\u001b[0m\n\u001b[1;32m----> 5\u001b[1;33m \u001b[0mpiped_multiNomNB0_0\u001b[0m \u001b[1;33m=\u001b[0m \u001b[0mmake_pipeline\u001b[0m\u001b[1;33m(\u001b[0m\u001b[0mTfidfVectorizer\u001b[0m\u001b[1;33m(\u001b[0m\u001b[1;33m)\u001b[0m\u001b[1;33m,\u001b[0m \u001b[0mMultinomialNB\u001b[0m\u001b[1;33m(\u001b[0m\u001b[1;33m)\u001b[0m\u001b[1;33m)\u001b[0m\u001b[1;33m\u001b[0m\u001b[0m\n\u001b[0m\u001b[0;32m      6\u001b[0m \u001b[0mmodel0_0_label_preds\u001b[0m \u001b[1;33m=\u001b[0m \u001b[0mpiped_multiNomNB0_0\u001b[0m\u001b[1;33m.\u001b[0m\u001b[0mfit\u001b[0m\u001b[1;33m(\u001b[0m\u001b[0mtrain_x\u001b[0m\u001b[1;33m,\u001b[0m \u001b[0mtrain_y\u001b[0m\u001b[1;33m)\u001b[0m\u001b[1;33m.\u001b[0m\u001b[0mpredict\u001b[0m\u001b[1;33m(\u001b[0m\u001b[0mtest_x\u001b[0m\u001b[1;33m)\u001b[0m\u001b[1;33m\u001b[0m\u001b[0m\n\u001b[0;32m      7\u001b[0m \u001b[0mprint\u001b[0m\u001b[1;33m(\u001b[0m\u001b[1;34m'model \"0_0\"\\n\\n'\u001b[0m\u001b[1;33m)\u001b[0m\u001b[1;33m\u001b[0m\u001b[0m\n",
      "\u001b[1;31mNameError\u001b[0m: name 'TfidfVectorizer' is not defined"
     ]
    }
   ],
   "source": [
    "from sklearn.pipeline import make_pipeline\n",
    "from sklearn.metrics import confusion_matrix\n",
    "\n",
    "# Example #0: Using a pipeline w/ TF-IDF and MultiNomial Naive Bayes\n",
    "piped_multiNomNB0_0 = make_pipeline(TfidfVectorizer(), MultinomialNB())\n",
    "model0_0_label_preds = piped_multiNomNB0_0.fit(train_x, train_y).predict(test_x)\n",
    "print('model \"0_0\"\\n\\n')\n",
    "#print(_.format(round(accuracy_score(test_y, model0_0_label_preds),4)))\n",
    "\n",
    "# Now w/ manual cross-validation (2 folds) on model0_0 seen above\n",
    "piped_multiNomNB0_0 = make_pipeline(TfidfVectorizer(), MultinomialNB())\n",
    "model0_1_label_preds = piped_multiNomNB0_0.fit(train_x, train_y).predict(test_x)\n",
    "model0_2_label_preds = piped_multiNomNB0_0.fit(test_x, test_y).predict(train_x)\n",
    "_ = 'Accuracy score after cross-validation (2-folds):\\n\\\n",
    "model \"0_1\" score: %.4f\\n\\\n",
    "model \"0_2\" score: %.4f'\n",
    "print(_%(accuracy_score(test_y, model0_1_label_preds), \n",
    "         accuracy_score(train_y, model0_2_label_preds)))\n",
    "\n",
    "print('Avg score of folds: %.4f\\n\\n' % round(((((accuracy_score(test_y,model0_1_label_preds)*100)+\\\n",
    "                                                (accuracy_score(train_y, model0_2_label_preds)*100))/2)*.01),4))\n",
    "\n",
    "# model1_0  w/ manual cross-validation (2 folds)\n",
    "piped_multiNomNB1_0 = make_pipeline(TfidfVectorizer(analyzer='word',token_pattern=r'\\w{1,}'),\n",
    "                                    MultinomialNB())\n",
    "model1_1_label_preds = piped_multiNomNB1_0.fit(train_x, train_y).predict(test_x)\n",
    "model1_2_label_preds = piped_multiNomNB1_0.fit(test_x, test_y).predict(train_x)\n",
    "_ = 'model \"1_0\"\\n\\nAccuracy score after Cross-Validation (2-folds):\\n\\\n",
    "model \"1_1\" score: %.4f\\n\\\n",
    "model \"1_2\" score: %.4f'\n",
    "print(_%(accuracy_score(test_y, model1_1_label_preds), \n",
    "         accuracy_score(train_y, model1_2_label_preds)))\n",
    "\n",
    "print('Avg score of folds: %.4f' % round(((((accuracy_score(test_y, model1_1_label_preds)*100)+\\\n",
    "                                            (accuracy_score(train_y, model1_2_label_preds)*100))/2)*.01),4))"
   ]
  },
  {
   "cell_type": "markdown",
   "metadata": {
    "code_folding": []
   },
   "source": [
    "___\n",
    "**Visualize model performance with error matrix**\n",
    "___\n",
    "#Evaluate performance given predictions w/ error matrix\n",
    "\n",
    "model1_1_error_matrix = confusion_matrix(test_y,\n",
    "                                         model1_1_label_preds)\n",
    "                                         \n",
    "sns.heatmap(model1_1_error_matrix.T, square=True, annot=True, fmt='d',\n",
    "            cbar=False, xticklabels=train_y.values, yticklabels=train_y.values)\n",
    "            \n",
    "plt.xlabel('true label'); plt.ylabel('predicted label (model(1_1))'); plt.show()\n",
    "\n",
    "model1_2_error_matrix = confusion_matrix(test_y,\n",
    "                                         model1_2_label_preds)\n",
    "                                         \n",
    "sns.heatmap(model1_2_error_matrix.T, square=True, annot=True, fmt='d',\n",
    "            cbar=False,xticklabels=train_y.values, yticklabels=train_y.values)\n",
    "            \n",
    "plt.xlabel('true label'); plt.ylabel('predicted label (model1_2)');\n",
    "\n",
    "print('The matrix displays the true labels and the model's label predictions.')\n",
    "____"
   ]
  },
  {
   "cell_type": "code",
   "execution_count": null,
   "metadata": {
    "collapsed": true
   },
   "outputs": [],
   "source": [
    "# simple function to build/evaluate model(s)\n",
    "def BuildModelandScore(model, xtrain_vector, y_train, xtest_vector):\n",
    "    model.fit(xtrain_vector, y_train)   \n",
    "    predictions = model.predict(xtest_vector)\n",
    "    return accuracy_score(test_y, predictions)"
   ]
  },
  {
   "cell_type": "code",
   "execution_count": null,
   "metadata": {
    "collapsed": true
   },
   "outputs": [],
   "source": [
    "# Naive Bayes on Count Vectors  -----------------\n",
    "# Naive Bayes on Word Level TF IDF Vectors      |\n",
    "# Naive Bayes on Ngram Level TF IDF Vectors     |----> \"outcomes\" \n",
    "# NB on Character Level TF IDF Vectors ---------|\n",
    "\n",
    "outcomes_dict = {'NBcountVect_accuracy' : BuildModelandScore(MultinomialNB(), xtrain_countVect, train_y, xtest_countVect),\n",
    "                 'NBwordLevel_accuracy' : BuildModelandScore(MultinomialNB(), xtrain_tfidfVect, train_y, xtest_tfidfVect),\n",
    "                 'NBnGramLevel_accuracy' : BuildModelandScore(MultinomialNB(), xtrain_ngramVect, train_y, xtest_ngramVect),\n",
    "                 'NBCharLevel_accuracy' : BuildModelandScore(MultinomialNB(), xtrain_ngramCharVect, train_y, xtest_ngramCharVect)}\n",
    "outcomes = pd.Series(outcomes_dict)\n",
    "display(outcomes)\n",
    "plt.figure(facecolor='lightgrey', figsize=(9,6))\n",
    "chart = outcomes.plot.bar()\n",
    "plt.title('Accuracy Scores for Multinomial NB Classifiers')\n",
    "plt.xlabel('models'), plt.ylabel('Accuracy Score')\n",
    "chart.set_xticklabels(chart.get_xticklabels(), rotation=45, horizontalalignment='right');"
   ]
  },
  {
   "cell_type": "markdown",
   "metadata": {},
   "source": [
    "### Hyperparameter tuning for Naive Bayes (and text maintenance)\n",
    "\n",
    "- We need to know what value to use for $\\alpha$\n",
    "- We also need to know which words to include in the vocabulary. As mentioned earlier ... for example:\n",
    "    - Some words are obvious stopwords.\n",
    "    - (in addition to stopwords) Some words appear so frequently that they may also serve as noise.\n",
    "    - Other words appear so infrequently that they serve as noise.    \n",
    "\n",
    "#### Finding \"min_df\" for CountVectorizer()\n",
    "`min_df` can be either an integer or a float/decimal, therefor, \n",
    " - If it is an integer, `min_df` represents the minimum number of documents a word must appear in for it to be included in the vocabulary.\n",
    "  - If it is a float, it represents the minimum *percentage* of documents a word must appear in to be included in the vocabulary:\n",
    "\n",
    ">\"min_df: When building the vocabulary ignore terms that have a document frequency strictly lower than the given threshold. This value is also called cut-off in the literature. If float, the parameter represents a proportion of documents, integer absolute counts. This parameter is ignored if vocabulary is not None.\" - Docs"
   ]
  },
  {
   "cell_type": "markdown",
   "metadata": {},
   "source": [
    "### Construct the CDF for document frequencies (df)\n",
    "\n",
    "**_For Example_**: The $x$-axis is a document count $x_i$ and the $y$-axis is the percentage of words that appear less than $x_i$ times. For instance: $x=5$. Below I will at plot a point representing the percentage (float) or number (as an integer) of words that appear in 5 or fewer documents.\n",
    "   \n",
    "   >>>**Find the point at which the curve begins climbing steeply ... This may be a good value for `min_df`.**\n",
    "\n",
    "#### **\"max_df\"**\n",
    "   - If we were interested in also picking `max_df`, our task is to pick the value where the curve starts to plateau."
   ]
  },
  {
   "cell_type": "code",
   "execution_count": null,
   "metadata": {
    "collapsed": true
   },
   "outputs": [],
   "source": [
    "#CountVect = CountVectorizer(analyzer='word', token_pattern=r'\\w{1,}')\n",
    "#vect.fit(train_df['x'])\n",
    "#xtrain_countVect =  CountVect.transform(train_x)\n",
    "#xtest_countVect =  CountVect.transform(test_x)\n",
    "\n",
    "\"\"\" vect = CountVectorizer(min_df=0., max_df=1.0)\n",
    "X = vect.fit_transform(docs)\n",
    "print(DataFrame(X.A, columns=vect.get_feature_names()).to_string())\"\"\"\n",
    "\n",
    "train_df['x'].values\n",
    "train_x_list = list(train_x.values)"
   ]
  },
  {
   "cell_type": "code",
   "execution_count": null,
   "metadata": {
    "collapsed": true
   },
   "outputs": [],
   "source": [
    "print('train_x size=', train_x.size)\n",
    "train_x_list_ = train_x.to_list()\n",
    "print('train_x_list length= {}'.format(len(train_x_list)))\n",
    "\n",
    "# trainXlist_tostring = str(train_x_list).split(\", '\")\n",
    "# print('train_x_list_tostring= {}'.format(len(trainXlist_tostring)))\n",
    "\n",
    "# str_snip = xtrainlist_string[0:4]\n",
    "# str_snip\n",
    "# display(str_snip)\n",
    "# len(str_snip.split(\", '\"))\n",
    "# xtrain_list[0]\n",
    "# xtrainlist_string[0:64]"
   ]
  },
  {
   "cell_type": "code",
   "execution_count": null,
   "metadata": {
    "collapsed": true
   },
   "outputs": [],
   "source": [
    "\"\"\"example\"\"\"\n",
    "# texts = ['hi there', 'hello there', 'hello there you are']\n",
    "# len(texts)\n",
    "# vect = CountVectorizer(min_df=0., max_df=1.0)\n",
    "# X = vect.fit_transform(train_x_list) #train_df['x']\n",
    "# display(X.A)\n",
    "# feature_names = vect.get_feature_names()\n",
    "print(pd.DataFrame(X.A, columns=feature_names).to_string()[5])\n",
    "# print(pd.DataFrame(X.A, columns=vect.get_feature_names()).to_string())\n",
    "\n"
   ]
  },
  {
   "cell_type": "code",
   "execution_count": null,
   "metadata": {
    "collapsed": true
   },
   "outputs": [],
   "source": []
  },
  {
   "cell_type": "code",
   "execution_count": null,
   "metadata": {
    "collapsed": true
   },
   "outputs": [],
   "source": [
    "import nltk\n",
    "from nltk import FreqDist\n",
    "\n",
    "texts = 'hi there hello there'\n",
    "words = nltk.tokenize.word_tokenize(texts)\n",
    "fdist = FreqDist(words)"
   ]
  },
  {
   "cell_type": "code",
   "execution_count": null,
   "metadata": {
    "collapsed": true
   },
   "outputs": [],
   "source": [
    "texts = ['hi there', 'hello there', 'hello here you are']\n",
    "vectorizer = CountVectorizer()\n",
    "X = vectorizer.fit_transform(texts)\n",
    "freq = np.ravel(X.sum(axis=0)) # sum each columns to get total counts for each word\n",
    "\n",
    "import operator\n",
    "# get vocabulary keys, sorted by value\n",
    "vocab = [v[0] for v in sorted(vectorizer.vocabulary_.items(), key=operator.itemgetter(1))]\n",
    "fdist = dict(zip(vocab, freq)) # return same format as nltk"
   ]
  },
  {
   "cell_type": "markdown",
   "metadata": {},
   "source": [
    "The parameter $\\alpha$ is chosen to be a small value that simply avoids having zeros in the probability computations. This value can sometimes be chosen arbitrarily with domain expertise, but we will use K-fold cross validation. In K-fold cross-validation, we divide the data into $K$ non-overlapping parts. We train on $K-1$ of the folds and test on the remaining fold. We then iterate, so that each fold serves as the test fold exactly once. The function `cv_score` performs the K-fold cross-validation algorithm for us, but we need to pass a function that measures the performance of the algorithm on each fold. "
   ]
  },
  {
   "cell_type": "code",
   "execution_count": null,
   "metadata": {
    "collapsed": true
   },
   "outputs": [],
   "source": [
    "from sklearn.model_selection import KFold\n",
    "def cv_score(clf, X, y, scorefunc):\n",
    "    result = 0.\n",
    "    nfold = 5\n",
    "    for train, test in KFold(nfold).split(X): # split data into train/test groups, 5 times\n",
    "        clf.fit(X[train], y[train]) # fit the classifier, passed is as clf.\n",
    "        result += scorefunc(clf, X[test], y[test]) # evaluate score function on held-out data\n",
    "    return result / nfold # average"
   ]
  },
  {
   "cell_type": "markdown",
   "metadata": {},
   "source": [
    "We use the log-likelihood as the score here in `scorefunc`. The higher the log-likelihood, the better. Indeed, what we do in `cv_score` above is to implement the cross-validation part of `GridSearchCV`.\n",
    "\n",
    "The custom scoring function `scorefunc` allows us to use different metrics depending on the decision risk we care about (precision, accuracy, profit etc.) directly on the validation set. You will often find people using `roc_auc`, precision, recall, or `F1-score` as the scoring function."
   ]
  },
  {
   "cell_type": "code",
   "execution_count": null,
   "metadata": {
    "collapsed": true
   },
   "outputs": [],
   "source": [
    "def log_likelihood(clf, x, y):\n",
    "    prob = clf.predict_log_proba(x)\n",
    "    rotten = y == 0\n",
    "    fresh = ~rotten\n",
    "    return prob[rotten, 0].sum() + prob[fresh, 1].sum()"
   ]
  },
  {
   "cell_type": "code",
   "execution_count": null,
   "metadata": {
    "collapsed": true
   },
   "outputs": [],
   "source": [
    "log_likelihood(MultinomialNB(), )"
   ]
  },
  {
   "cell_type": "markdown",
   "metadata": {},
   "source": [
    "We'll cross-validate over the regularization parameter $\\alpha$."
   ]
  },
  {
   "cell_type": "markdown",
   "metadata": {},
   "source": [
    "Let's set up the train and test masks first, and then we can run the cross-validation procedure."
   ]
  },
  {
   "cell_type": "code",
   "execution_count": null,
   "metadata": {
    "collapsed": true
   },
   "outputs": [],
   "source": [
    "from sklearn.model_selection import train_test_split\n",
    "_, itest = train_test_split(range(critics.shape[0]), train_size=0.7)\n",
    "mask = np.zeros(critics.shape[0], dtype=np.bool)\n",
    "mask[itest] = True"
   ]
  },
  {
   "cell_type": "markdown",
   "metadata": {},
   "source": [
    "<div class=\"span5 alert alert-info\">\n",
    "<h3>Exercise Set IV</h3>\n",
    "\n",
    "<p><b>Exercise:</b> What does using the function `log_likelihood` as the score mean? What are we trying to optimize for?</p>\n",
    "\n",
    "<p><b>Exercise:</b> Without writing any code, what do you think would happen if you choose a value of $\\alpha$ that is too high?</p>\n",
    "\n",
    "<p><b>Exercise:</b> Using the skeleton code below, find the best values of the parameter `alpha`, and use the value of `min_df` you chose in the previous exercise set. Use the `cv_score` function above with the `log_likelihood` function for scoring.</p>\n",
    "</div>"
   ]
  },
  {
   "cell_type": "code",
   "execution_count": null,
   "metadata": {
    "collapsed": true
   },
   "outputs": [],
   "source": [
    "from sklearn.naive_bayes import MultinomialNB\n",
    "\n",
    "#the grid of parameters to search over\n",
    "alphas = [.1, 1, 5, 10, 50]\n",
    "best_min_df = None # YOUR TURN: put your value of min_df here.\n",
    "\n",
    "#Find the best value for alpha and min_df, and the best classifier\n",
    "best_alpha = None\n",
    "maxscore=-np.inf\n",
    "for alpha in alphas:        \n",
    "    vectorizer = CountVectorizer(min_df=best_min_df)       \n",
    "    Xthis, ythis = make_xy(critics, vectorizer)\n",
    "    Xtrainthis = Xthis[mask]\n",
    "    ytrainthis = ythis[mask]\n",
    "    # your turn"
   ]
  },
  {
   "cell_type": "code",
   "execution_count": null,
   "metadata": {
    "collapsed": true
   },
   "outputs": [],
   "source": [
    "print(\"alpha: {}\".format(best_alpha))"
   ]
  },
  {
   "cell_type": "markdown",
   "metadata": {},
   "source": [
    "<div class=\"span5 alert alert-info\">\n",
    "<h3>Exercise Set V: Working with the Best Parameters</h3>\n",
    "\n",
    "<p><b>Exercise:</b> Using the best value of  `alpha` you just found, calculate the accuracy on the training and test sets. Is this classifier better? Why (not)?</p>\n",
    "\n",
    "</div>"
   ]
  },
  {
   "cell_type": "code",
   "execution_count": null,
   "metadata": {
    "collapsed": true
   },
   "outputs": [],
   "source": [
    "vectorizer = CountVectorizer(min_df=best_min_df)\n",
    "X, y = make_xy(critics, vectorizer)\n",
    "xtrain=X[mask]\n",
    "ytrain=y[mask]\n",
    "xtest=X[~mask]\n",
    "ytest=y[~mask]\n",
    "\n",
    "clf = MultinomialNB(alpha=best_alpha).fit(xtrain, ytrain)\n",
    "\n",
    "#your turn. Print the accuracy on the test and training dataset\n",
    "training_accuracy = clf.score(xtrain, ytrain)\n",
    "test_accuracy = clf.score(xtest, ytest)\n",
    "\n",
    "print(\"Accuracy on training data: {:2f}\".format(training_accuracy))\n",
    "print(\"Accuracy on test data:     {:2f}\".format(test_accuracy))"
   ]
  },
  {
   "cell_type": "code",
   "execution_count": null,
   "metadata": {
    "collapsed": true
   },
   "outputs": [],
   "source": [
    "from sklearn.metrics import confusion_matrix\n",
    "print(confusion_matrix(ytest, clf.predict(xtest)))"
   ]
  },
  {
   "cell_type": "markdown",
   "metadata": {},
   "source": [
    "## Interpretation"
   ]
  },
  {
   "cell_type": "markdown",
   "metadata": {},
   "source": [
    "### What are the strongly predictive features?\n",
    "\n",
    "We use a neat trick to identify strongly predictive features (i.e. words). \n",
    "\n",
    "* first, create a data set such that each row has exactly one feature. This is represented by the identity matrix.\n",
    "* use the trained classifier to make predictions on this matrix\n",
    "* sort the rows by predicted probabilities, and pick the top and bottom $K$ rows"
   ]
  },
  {
   "cell_type": "code",
   "execution_count": null,
   "metadata": {
    "collapsed": true
   },
   "outputs": [],
   "source": [
    "words = np.array(vectorizer.get_feature_names())\n",
    "\n",
    "x = np.eye(xtest.shape[1])\n",
    "probs = clf.predict_log_proba(x)[:, 0]\n",
    "ind = np.argsort(probs)\n",
    "\n",
    "good_words = words[ind[:10]]\n",
    "bad_words = words[ind[-10:]]\n",
    "\n",
    "good_prob = probs[ind[:10]]\n",
    "bad_prob = probs[ind[-10:]]\n",
    "\n",
    "print(\"Good words\\t     P(fresh | word)\")\n",
    "for w, p in zip(good_words, good_prob):\n",
    "    print(\"{:>20}\".format(w), \"{:.2f}\".format(1 - np.exp(p)))\n",
    "    \n",
    "print(\"Bad words\\t     P(fresh | word)\")\n",
    "for w, p in zip(bad_words, bad_prob):\n",
    "    print(\"{:>20}\".format(w), \"{:.2f}\".format(1 - np.exp(p)))"
   ]
  },
  {
   "cell_type": "markdown",
   "metadata": {},
   "source": [
    "<div class=\"span5 alert alert-info\">\n",
    "<h3>Exercise Set VI</h3>\n",
    "\n",
    "<p><b>Exercise:</b> Why does this method work? What does the probability for each row in the identity matrix represent</p>\n",
    "\n",
    "</div>"
   ]
  },
  {
   "cell_type": "markdown",
   "metadata": {},
   "source": [
    "The above exercise is an example of *feature selection*. There are many other feature selection methods. A list of feature selection methods available in `sklearn` is [here](http://scikit-learn.org/stable/modules/classes.html#module-sklearn.feature_selection). The most common feature selection technique for text mining is the chi-squared $\\left( \\chi^2 \\right)$ [method](http://nlp.stanford.edu/IR-book/html/htmledition/feature-selectionchi2-feature-selection-1.html)."
   ]
  },
  {
   "cell_type": "markdown",
   "metadata": {},
   "source": [
    "### Prediction Errors\n",
    "\n",
    "We can see mis-predictions as well."
   ]
  },
  {
   "cell_type": "code",
   "execution_count": null,
   "metadata": {
    "collapsed": true
   },
   "outputs": [],
   "source": [
    "x, y = make_xy(critics, vectorizer)\n",
    "\n",
    "prob = clf.predict_proba(x)[:, 0]\n",
    "predict = clf.predict(x)\n",
    "\n",
    "bad_rotten = np.argsort(prob[y == 0])[:5]\n",
    "bad_fresh = np.argsort(prob[y == 1])[-5:]\n",
    "\n",
    "print(\"Mis-predicted Rotten quotes\")\n",
    "print('---------------------------')\n",
    "for row in bad_rotten:\n",
    "    print(critics[y == 0].quote.iloc[row])\n",
    "    print(\"\")\n",
    "\n",
    "print(\"Mis-predicted Fresh quotes\")\n",
    "print('--------------------------')\n",
    "for row in bad_fresh:\n",
    "    print(critics[y == 1].quote.iloc[row])\n",
    "    print(\"\")"
   ]
  },
  {
   "cell_type": "markdown",
   "metadata": {},
   "source": [
    "<div class=\"span5 alert alert-info\">\n",
    "<h3>Exercise Set VII: Predicting the Freshness for a New Review</h3>\n",
    "<br/>\n",
    "<div>\n",
    "<b>Exercise:</b>\n",
    "<ul>\n",
    "<li> Using your best trained classifier, predict the freshness of the following sentence: *'This movie is not remarkable, touching, or superb in any way'*\n",
    "<li> Is the result what you'd expect? Why (not)?\n",
    "</ul>\n",
    "</div>\n",
    "</div>"
   ]
  },
  {
   "cell_type": "code",
   "execution_count": null,
   "metadata": {
    "collapsed": true
   },
   "outputs": [],
   "source": [
    "#your turn"
   ]
  },
  {
   "cell_type": "markdown",
   "metadata": {},
   "source": [
    "### Aside: TF-IDF Weighting for Term Importance\n",
    "\n",
    "TF-IDF stands for \n",
    "\n",
    "`Term-Frequency X Inverse Document Frequency`.\n",
    "\n",
    "In the standard `CountVectorizer` model above, we used just the term frequency in a document of words in our vocabulary. In TF-IDF, we weight this term frequency by the inverse of its popularity in all documents. For example, if the word \"movie\" showed up in all the documents, it would not have much predictive value. It could actually be considered a stopword. By weighing its counts by 1 divided by its overall frequency, we downweight it. We can then use this TF-IDF weighted features as inputs to any classifier. **TF-IDF is essentially a measure of term importance, and of how discriminative a word is in a corpus.** There are a variety of nuances involved in computing TF-IDF, mainly involving where to add the smoothing term to avoid division by 0, or log of 0 errors. The formula for TF-IDF in `scikit-learn` differs from that of most textbooks: \n",
    "\n",
    "$$\\mbox{TF-IDF}(t, d) = \\mbox{TF}(t, d)\\times \\mbox{IDF}(t) = n_{td} \\log{\\left( \\frac{\\vert D \\vert}{\\vert d : t \\in d \\vert} + 1 \\right)}$$\n",
    "\n",
    "where $n_{td}$ is the number of times term $t$ occurs in document $d$, $\\vert D \\vert$ is the number of documents, and $\\vert d : t \\in d \\vert$ is the number of documents that contain $t$"
   ]
  },
  {
   "cell_type": "code",
   "execution_count": null,
   "metadata": {
    "collapsed": true
   },
   "outputs": [],
   "source": [
    "# http://scikit-learn.org/dev/modules/feature_extraction.html#text-feature-extraction\n",
    "# http://scikit-learn.org/dev/modules/classes.html#text-feature-extraction-ref\n",
    "from sklearn.feature_extraction.text import TfidfVectorizer\n",
    "tfidfvectorizer = TfidfVectorizer(min_df=1, stop_words='english')\n",
    "Xtfidf=tfidfvectorizer.fit_transform(critics.quote)"
   ]
  },
  {
   "cell_type": "markdown",
   "metadata": {},
   "source": [
    "<div class=\"span5 alert alert-info\">\n",
    "<h3>Exercise Set VIII: Enrichment <b>(Optional)</b></h3>\n",
    "\n",
    "<p>\n",
    "There are several additional things we could try. Try some of these as exercises:\n",
    "<ol>\n",
    "<li> Build a Naive Bayes model where the features are n-grams instead of words. N-grams are phrases containing n words next to each other: a bigram contains 2 words, a trigram contains 3 words, and 6-gram contains 6 words. This is useful because \"not good\" and \"so good\" mean very different things. On the other hand, as n increases, the model does not scale well since the feature set becomes more sparse.\n",
    "<li> Try a model besides Naive Bayes, one that would allow for interactions between words -- for example, a Random Forest classifier.\n",
    "<li> Try adding supplemental features -- information about genre, director, cast, etc.\n",
    "<li> Use word2vec or [Latent Dirichlet Allocation](https://en.wikipedia.org/wiki/Latent_Dirichlet_allocation) to group words into topics and use those topics for prediction.\n",
    "<li> Use TF-IDF weighting instead of word counts.\n",
    "</ol>\n",
    "</p>\n",
    "\n",
    "<b>Exercise:</b> Try at least one of these ideas to improve the model (or any other ideas of your own). Implement here and report on the result. \n",
    "</div>"
   ]
  },
  {
   "cell_type": "code",
   "execution_count": null,
   "metadata": {
    "collapsed": true
   },
   "outputs": [],
   "source": [
    "# Your turn"
   ]
  }
 ],
 "metadata": {
  "hide_input": false,
  "kernelspec": {
   "display_name": "Python 3",
   "language": "python",
   "name": "python3"
  },
  "language_info": {
   "codemirror_mode": {
    "name": "ipython",
    "version": 3
   },
   "file_extension": ".py",
   "mimetype": "text/x-python",
   "name": "python",
   "nbconvert_exporter": "python",
   "pygments_lexer": "ipython3",
   "version": "3.6.6"
  },
  "toc": {
   "base_numbering": 1,
   "nav_menu": {},
   "number_sections": true,
   "sideBar": true,
   "skip_h1_title": false,
   "title_cell": "Table of Contents",
   "title_sidebar": "Contents",
   "toc_cell": false,
   "toc_position": {},
   "toc_section_display": true,
   "toc_window_display": false
  },
  "varInspector": {
   "cols": {
    "lenName": 16,
    "lenType": 16,
    "lenVar": 40
   },
   "kernels_config": {
    "python": {
     "delete_cmd_postfix": "",
     "delete_cmd_prefix": "del ",
     "library": "var_list.py",
     "varRefreshCmd": "print(var_dic_list())"
    },
    "r": {
     "delete_cmd_postfix": ") ",
     "delete_cmd_prefix": "rm(",
     "library": "var_list.r",
     "varRefreshCmd": "cat(var_dic_list()) "
    }
   },
   "position": {
    "height": "548.416px",
    "left": "1360.45px",
    "right": "20px",
    "top": "730.865px",
    "width": "675.902px"
   },
   "types_to_exclude": [
    "module",
    "function",
    "builtin_function_or_method",
    "instance",
    "_Feature"
   ],
   "window_display": true
  }
 },
 "nbformat": 4,
 "nbformat_minor": 1
}
