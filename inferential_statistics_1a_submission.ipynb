{
 "cells": [
  {
   "cell_type": "markdown",
   "metadata": {},
   "source": [
    "# Inferential Statistics 1a - Frequentism"
   ]
  },
  {
   "cell_type": "markdown",
   "metadata": {},
   "source": [
    "## Learning objectives"
   ]
  },
  {
   "cell_type": "markdown",
   "metadata": {},
   "source": [
    "Welcome to the first Frequentist inference mini-project! Over the course of working on this mini-project and the next frequentist mini-project, you'll learn the fundamental concepts associated with frequentist inference. The following list includes the topics you will become familiar with as you work through these two mini-projects:\n",
    "* the _z_-statistic\n",
    "* the _t_-statistic\n",
    "* the difference and relationship between the two\n",
    "* the Central Limit Theorem, including its assumptions and consequences\n",
    "* how to estimate the population mean and standard deviation from a sample\n",
    "* the concept of a sampling distribution of a test statistic, particularly for the mean\n",
    "* how to combine these concepts to calculate a confidence interval"
   ]
  },
  {
   "cell_type": "markdown",
   "metadata": {},
   "source": [
    "## Prerequisites"
   ]
  },
  {
   "cell_type": "markdown",
   "metadata": {},
   "source": [
    "For working through this notebook, you are expected to have a very basic understanding of:\n",
    "* what a random variable is\n",
    "* what a probability density function (pdf) is\n",
    "* what the cumulative density function is\n",
    "* a high-level sense of what the Normal distribution\n",
    "\n",
    "If these concepts are new to you, please take a few moments to Google these topics in order to get a sense of what they are and how you might use them.\n",
    "\n",
    "While it's great if you have previous knowledge about sampling distributions, this assignment will introduce the concept and set you up to practice working using sampling distributions. This notebook was designed to bridge the gap between having a basic understanding of probability and random variables and being able to apply these concepts in Python. The second frequentist inference mini-project focuses on a real-world application of this type of inference to give you further practice using these concepts. "
   ]
  },
  {
   "cell_type": "markdown",
   "metadata": {},
   "source": [
    "For this notebook, we will use data sampled from a known normal distribution. This allows us to compare our results with theoretical expectations."
   ]
  },
  {
   "cell_type": "markdown",
   "metadata": {},
   "source": [
    "## I An introduction to sampling from the Normal distribution"
   ]
  },
  {
   "cell_type": "markdown",
   "metadata": {},
   "source": [
    "First, let's explore the ways we can generate the Normal distribution. While there's a fair amount of interest in [sklearn](https://scikit-learn.org/stable/) within the machine learning community, you're likely to have heard of [scipy](https://docs.scipy.org/doc/scipy-0.15.1/reference/index.html) if you're coming from the sciences. For this assignment, you'll use [scipy.stats](https://docs.scipy.org/doc/scipy-0.15.1/reference/tutorial/stats.html) to complete your work."
   ]
  },
  {
   "cell_type": "code",
   "execution_count": 1,
   "metadata": {},
   "outputs": [],
   "source": [
    "from scipy.stats import norm\n",
    "from scipy.stats import t\n",
    "import numpy as np\n",
    "import pandas as pd\n",
    "from numpy.random import seed\n",
    "import matplotlib.pyplot as plt"
   ]
  },
  {
   "cell_type": "markdown",
   "metadata": {},
   "source": [
    "__Q:__ Call up the documentation for the `norm` function imported above. What is the second listed method?"
   ]
  },
  {
   "cell_type": "markdown",
   "metadata": {},
   "source": [
    "norm.pdf"
   ]
  },
  {
   "cell_type": "markdown",
   "metadata": {},
   "source": [
    "__A:__ norm.pdf: Probability density function.\n",
    "\n",
    "``pdf(x, loc=0, scale=1)``"
   ]
  },
  {
   "cell_type": "markdown",
   "metadata": {},
   "source": [
    "__Q:__ Use the method that generates random variates to draw five samples from the standard normal distribution."
   ]
  },
  {
   "cell_type": "markdown",
   "metadata": {},
   "source": [
    "__A:__"
   ]
  },
  {
   "cell_type": "code",
   "execution_count": 2,
   "metadata": {},
   "outputs": [
    {
     "name": "stdout",
     "output_type": "stream",
     "text": [
      "Our random sample from population: [-0.84800948  1.30590636  0.92420797  0.6404118  -1.05473698]\n",
      "Sample Size: 5\n"
     ]
    },
    {
     "data": {
      "image/png": "[encoded data removed]",
      "text/plain": [
       "<Figure size 432x288 with 1 Axes>"
      ]
     },
     "metadata": {
      "needs_background": "light"
     },
     "output_type": "display_data"
    },
    {
     "data": {
      "image/png": "[encoded data removed]",
      "text/plain": [
       "<Figure size 432x288 with 1 Axes>"
      ]
     },
     "metadata": {
      "needs_background": "light"
     },
     "output_type": "display_data"
    }
   ],
   "source": [
    "seed(47)\n",
    "# draw five samples here\n",
    "random_sample  = norm.rvs(size=5)\n",
    "print('Our random sample from population: {}'.format(random_sample))\n",
    "\n",
    "sample_size = random_sample.size\n",
    "print('Sample Size: {}'.format(sample_size))\n",
    "\n",
    "# Plot for fun\n",
    "pd.Series(random_sample).plot.kde()\n",
    "plt.tight_layout()\n",
    "plt.show()\n",
    "plt.hist(random_sample, bins=5)\n",
    "plt.tight_layout()"
   ]
  },
  {
   "cell_type": "markdown",
   "metadata": {},
   "source": [
    "__Q:__ What is the mean of this sample? Is it exactly equal to the value you expected? Hint: the sample was drawn from the standard normal distribution."
   ]
  },
  {
   "cell_type": "code",
   "execution_count": 3,
   "metadata": {},
   "outputs": [
    {
     "name": "stdout",
     "output_type": "stream",
     "text": [
      "The mean of sample: 0.19355593334131074\n"
     ]
    }
   ],
   "source": [
    "# Calculate and print the mean here, hint: use np.mean()\n",
    "#sample_mean = random_sample.mean()\n",
    "sample_mean = np.mean(random_sample)\n",
    "print('The mean of sample: {}'.format(sample_mean))"
   ]
  },
  {
   "cell_type": "markdown",
   "metadata": {},
   "source": [
    "__A:__ Considering the tiny sample size, the mean value returned could be expected. As the sample size grows the avg/mean value would move closer to the central tendency. For example (below):"
   ]
  },
  {
   "cell_type": "code",
   "execution_count": 4,
   "metadata": {},
   "outputs": [
    {
     "name": "stdout",
     "output_type": "stream",
     "text": [
      "Sample Size: 20000\n",
      "Sample mean of 0.0012, much closer to zero.\n"
     ]
    },
    {
     "data": {
      "image/png": "[encoded data removed]",
      "text/plain": [
       "<Figure size 432x288 with 1 Axes>"
      ]
     },
     "metadata": {
      "needs_background": "light"
     },
     "output_type": "display_data"
    }
   ],
   "source": [
    "seed(20000)\n",
    "\n",
    "random_sample_20k  = norm.rvs(size=20000)\n",
    "sample_size_20k = random_sample_20k.size\n",
    "print('Sample Size: {}'.format(sample_size_20k))\n",
    "\n",
    "sample_mean_20k = random_sample_20k.mean()\n",
    "print('Sample mean of {}, much closer to zero.'.format(round(sample_mean_20k, 4)))\n",
    "\n",
    "# Plot Large sample of 20,000\n",
    "plt.hist(random_sample_20k, bins=80)\n",
    "plt.tight_layout()"
   ]
  },
  {
   "cell_type": "markdown",
   "metadata": {},
   "source": [
    "__Q:__ What is the standard deviation of these numbers? Calculate this manually here as $\\sqrt{\\frac{\\sum_i(x_i - \\bar{x})^2}{n}}$. Hint: np.sqrt() and np.sum() will be useful here and remember that numpy supports [broadcasting](https://docs.scipy.org/doc/numpy/user/basics.broadcasting.html)."
   ]
  },
  {
   "cell_type": "markdown",
   "metadata": {},
   "source": [
    "__A:__"
   ]
  },
  {
   "cell_type": "code",
   "execution_count": 5,
   "metadata": {},
   "outputs": [
    {
     "name": "stdout",
     "output_type": "stream",
     "text": [
      "Sample Sum of Squares: 4.613949733196923\n",
      "Sample variance: 0.9227899466393845\n",
      "Sample standard deviation: 0.9606195639478641\n"
     ]
    }
   ],
   "source": [
    "deviations_squared = (random_sample - sample_mean) ** 2\n",
    "ss = np.sum(deviations_squared)\n",
    "print('Sample Sum of Squares: {}'.format(ss))\n",
    "\n",
    "sample_variance = ss / sample_size\n",
    "print('Sample variance: {}'.format(sample_variance))\n",
    "\n",
    "sample_std = np.sqrt(sample_variance)\n",
    "print('Sample standard deviation: {}'.format(sample_std))"
   ]
  },
  {
   "cell_type": "markdown",
   "metadata": {},
   "source": [
    "Here we have calculated the actual standard deviation of a small (size 5) data set. But in this case, this small data set is actually a sample from our larger (infinite) population. In this case, the population is infinite because we could keep drawing our normal random variates until our computers die. In general, the sample mean we calculate will not be equal to the population mean (as we saw above). A consequence of this is that the sum of squares of the deviations from the _population_ mean will be bigger than the sum of squares of the deviations from the _sample_ mean. In other words, the sum of squares of the deviations from the _sample_ mean is too small to give an unbiased estimate of the _population_ variance. An example of this effect is given [here](https://en.wikipedia.org/wiki/Bessel%27s_correction#Source_of_bias). Scaling our estimate of the variance by the factor $n/(n-1)$ gives an unbiased estimator of the population variance. This factor is known as [Bessel's correction](https://en.wikipedia.org/wiki/Bessel%27s_correction). The consequence of this is that the $n$ in the denominator is replaced by $n-1$.\n",
    "\n",
    "__Q:__ If all we had to go on was our five samples, what would be our best estimate of the population standard deviation? Use Bessel's correction ($n-1$ in the denominator), thus $\\sqrt{\\frac{\\sum_i(x_i - \\bar{x})^2}{n-1}}$."
   ]
  },
  {
   "cell_type": "markdown",
   "metadata": {},
   "source": [
    "__A:__"
   ]
  },
  {
   "cell_type": "code",
   "execution_count": 6,
   "metadata": {},
   "outputs": [
    {
     "name": "stdout",
     "output_type": "stream",
     "text": [
      "population ss (population-size, 5): 4.613949733196923\n",
      "population variance (population-size, 5) : 1.1534874332992306\n",
      "Population std (population-size, 5) : 1.0740053227518152\n"
     ]
    }
   ],
   "source": [
    "deviations_squared = (random_sample - sample_mean) ** 2\n",
    "ss = np.sum(deviations_squared)\n",
    "print('population ss (population-size, 5): {}'.format(ss))\n",
    "\n",
    "population_variance = ss / (sample_size - 1)\n",
    "print('population variance (population-size, 5) : {}'.format(population_variance))\n",
    "\n",
    "population_std = np.sqrt(population_variance)\n",
    "print('Population std (population-size, 5) : {}'.format(population_std))"
   ]
  },
  {
   "cell_type": "markdown",
   "metadata": {},
   "source": [
    "__Q:__ Now use numpy's std function to calculate the standard deviation of our random samples. Which of the above standard deviations did it return?"
   ]
  },
  {
   "cell_type": "markdown",
   "metadata": {},
   "source": [
    "__A:__"
   ]
  },
  {
   "cell_type": "code",
   "execution_count": 7,
   "metadata": {},
   "outputs": [
    {
     "name": "stdout",
     "output_type": "stream",
     "text": [
      "Numpys std function for sample std:0.9606195639478641\n",
      "Numpys std function returned the sample Standard deviation\n"
     ]
    }
   ],
   "source": [
    "print('Numpys std function for sample std:{}'.format(np.std(random_sample)))\n",
    "\n",
    "print('Numpys std function returned the sample Standard deviation')"
   ]
  },
  {
   "cell_type": "markdown",
   "metadata": {},
   "source": [
    "__Q:__ Consult the documentation for np.std() to see how to apply the correction for estimating the population parameter and verify this produces the expected result."
   ]
  },
  {
   "cell_type": "markdown",
   "metadata": {},
   "source": [
    "__A:__"
   ]
  },
  {
   "cell_type": "code",
   "execution_count": 8,
   "metadata": {},
   "outputs": [
    {
     "name": "stdout",
     "output_type": "stream",
     "text": [
      "Numpys std function after correcting for the population std with degrees of freedom: 1.0740053227518152\n"
     ]
    }
   ],
   "source": [
    "string = 'Numpys std function after correcting for the population std with degrees of freedom: {}'\n",
    "print(string.format(np.std(random_sample, ddof=1)))"
   ]
  },
  {
   "cell_type": "markdown",
   "metadata": {},
   "source": [
    "### Summary of section"
   ]
  },
  {
   "cell_type": "markdown",
   "metadata": {},
   "source": [
    "In this section, you've been introduced to the scipy.stats package and used it to draw a small sample from the standard normal distribution. You've calculated the average (the mean) of this sample and seen that this is not exactly equal to the expected population parameter (which we know because we're generating the random variates from a specific, known distribution). You've been introduced to two ways of calculating the standard deviation; one uses $n$ in the denominator and the other uses $n-1$ (Bessel's correction). You've also seen which of these calculations np.std() performs by default and how to get it to generate the other."
   ]
  },
  {
   "cell_type": "markdown",
   "metadata": {},
   "source": [
    "You use $n$ as the denominator if you want to calculate the standard deviation of a sequence of numbers. You use $n-1$ if you are using this sequence of numbers to estimate the population parameter. This brings us to some terminology that can be a little confusing.\n",
    "\n",
    "The population parameter is traditionally written as $\\sigma$ and the sample statistic as $s$. Rather unhelpfully, $s$ is also called the sample standard deviation (using $n-1$) whereas the standard deviation of the sample uses $n$. That's right, we have the sample standard deviation and the standard deviation of the sample and they're not the same thing!\n",
    "\n",
    "The sample standard deviation\n",
    "\\begin{equation}\n",
    "s = \\sqrt{\\frac{\\sum_i(x_i - \\bar{x})^2}{n-1}} \\approx \\sigma,\n",
    "\\end{equation}\n",
    "is our best (unbiased) estimate of the population parameter ($\\sigma$).\n",
    "\n",
    "If your data set _is_ your entire population, you simply want to calculate the population parameter, $\\sigma$, via\n",
    "\\begin{equation}\n",
    "\\sigma = \\sqrt{\\frac{\\sum_i(x_i - \\bar{x})^2}{n}}\n",
    "\\end{equation}\n",
    "as you have complete, full knowledge of your population. In other words, your sample _is_ your population. It's worth noting at this point if your sample is your population then you know absolutely everything about your population, there are no probabilities really to calculate and no inference to be done.\n",
    "\n",
    "If, however, you have sampled _from_ your population, you only have partial knowledge of the state of your population and the standard deviation of your sample is not an unbiased estimate of the standard deviation of the population, in which case you seek to estimate that population parameter via the sample standard deviation, which uses the $n-1$ denominator."
   ]
  },
  {
   "cell_type": "markdown",
   "metadata": {},
   "source": [
    "You're now firmly in frequentist theory territory. Great work so far! Now let's dive deeper."
   ]
  },
  {
   "cell_type": "markdown",
   "metadata": {},
   "source": [
    "## II Sampling distributions"
   ]
  },
  {
   "cell_type": "markdown",
   "metadata": {},
   "source": [
    "So far we've been dealing with the concept of taking a sample from a population to infer the population parameters. One statistic we calculated for a sample was the mean. As our samples will be expected to vary from one draw to another, so will our sample statistics. If we were to perform repeat draws of size $n$ and calculate the mean of each, we would expect to obtain a distribution of values. This is the sampling distribution of the mean. The Central Limit Theorem (CLT) tells us that such a distribution will approach a normal distribution as $n$ increases. For the sampling distribution of the mean, the standard deviation of this distribution is given by\n",
    "\n",
    "\\begin{equation}\n",
    "\\sigma_{mean} = \\frac{\\sigma}{\\sqrt n}\n",
    "\\end{equation}\n",
    "\n",
    "where $\\sigma_{mean}$ is the standard deviation of the sampling distribution of the mean and $\\sigma$ is the standard deviation of the population (the population parameter)."
   ]
  },
  {
   "cell_type": "markdown",
   "metadata": {},
   "source": [
    "This is important because typically we are dealing with samples from populations and all we know about the population is what we see in the sample. From this sample, we want to make inferences about the population. We may do this, for example, by looking at the histogram of the values and by calculating the mean and standard deviation (as estimates of the population parameters), and so we are intrinsically interested in how these quantities vary across samples. In other words, now that we've taken one sample of size $n$ and made some claims about the general population, what if we were to take another sample of size $n$? Would we get the same result? Would we make the same claims about the general population? This brings us to a fundamental question: _when we make some inference about a population based on our sample, how confident can we be that we've got it 'right'?_"
   ]
  },
  {
   "cell_type": "markdown",
   "metadata": {},
   "source": [
    "Let's give our normal distribution a little flavor. Also, for didactic purposes, the standard normal distribution, with its variance equal to its standard deviation of one, would not be a great illustration of a key point. Let us imagine we live in a town of 50000 people and we know the height of everyone in this town. We will have 50000 numbers that tell us everything about our population. We'll simulate these numbers now and put ourselves in one particular town, called 'town 47', where the population mean height is 172 cm and population standard deviation is 5 cm."
   ]
  },
  {
   "cell_type": "code",
   "execution_count": 9,
   "metadata": {},
   "outputs": [],
   "source": [
    "seed(47)\n",
    "pop_heights = norm.rvs(172, 5, size=50000)"
   ]
  },
  {
   "cell_type": "code",
   "execution_count": 10,
   "metadata": {},
   "outputs": [
    {
     "data": {
      "image/png": "[encoded data removed]",
      "text/plain": [
       "<Figure size 432x288 with 1 Axes>"
      ]
     },
     "metadata": {
      "needs_background": "light"
     },
     "output_type": "display_data"
    }
   ],
   "source": [
    "_ = plt.hist(pop_heights, bins=30)\n",
    "_ = plt.xlabel('height (cm)')\n",
    "_ = plt.ylabel('number of people')\n",
    "_ = plt.title('Distribution of heights in entire town population')\n",
    "_ = plt.axvline(172, color='r')\n",
    "_ = plt.axvline(172+5, color='r', linestyle='--')\n",
    "_ = plt.axvline(172-5, color='r', linestyle='--')\n",
    "_ = plt.axvline(172+10, color='r', linestyle='-.')\n",
    "_ = plt.axvline(172-10, color='r', linestyle='-.')"
   ]
  },
  {
   "cell_type": "markdown",
   "metadata": {},
   "source": [
    "Now, 50000 people is rather a lot to chase after with a tape measure. If all you want to know is the average height of the townsfolk, then can you just go out and measure a sample to get a pretty good estimate of the average height?"
   ]
  },
  {
   "cell_type": "code",
   "execution_count": 11,
   "metadata": {},
   "outputs": [],
   "source": [
    "def townsfolk_sampler(n):\n",
    "    return np.random.choice(pop_heights, n)"
   ]
  },
  {
   "cell_type": "markdown",
   "metadata": {},
   "source": [
    "Let's say you go out one day and randomly sample 10 people to measure."
   ]
  },
  {
   "cell_type": "code",
   "execution_count": 12,
   "metadata": {},
   "outputs": [],
   "source": [
    "seed(47)\n",
    "daily_sample1 = townsfolk_sampler(10)"
   ]
  },
  {
   "cell_type": "code",
   "execution_count": 13,
   "metadata": {},
   "outputs": [
    {
     "data": {
      "image/png": "[encoded data removed]",
      "text/plain": [
       "<Figure size 432x288 with 1 Axes>"
      ]
     },
     "metadata": {
      "needs_background": "light"
     },
     "output_type": "display_data"
    }
   ],
   "source": [
    "_ = plt.hist(daily_sample1, bins=10)\n",
    "_ = plt.xlabel('height (cm)')\n",
    "_ = plt.ylabel('number of people')\n",
    "_ = plt.title('Distribution of heights in sample size 10')"
   ]
  },
  {
   "cell_type": "markdown",
   "metadata": {},
   "source": [
    "The sample distribution doesn't look much like what we know (but wouldn't know in real-life) the population distribution looks like. What do we get for the mean?"
   ]
  },
  {
   "cell_type": "code",
   "execution_count": 14,
   "metadata": {},
   "outputs": [
    {
     "data": {
      "text/plain": [
       "173.47911444163503"
      ]
     },
     "execution_count": 14,
     "metadata": {},
     "output_type": "execute_result"
    }
   ],
   "source": [
    "np.mean(daily_sample1)"
   ]
  },
  {
   "cell_type": "markdown",
   "metadata": {},
   "source": [
    "And if we went out and repeated this experiment?"
   ]
  },
  {
   "cell_type": "code",
   "execution_count": 15,
   "metadata": {},
   "outputs": [],
   "source": [
    "daily_sample2 = townsfolk_sampler(10)"
   ]
  },
  {
   "cell_type": "code",
   "execution_count": 16,
   "metadata": {},
   "outputs": [
    {
     "data": {
      "text/plain": [
       "173.7317666636263"
      ]
     },
     "execution_count": 16,
     "metadata": {},
     "output_type": "execute_result"
    }
   ],
   "source": [
    "np.mean(daily_sample2)"
   ]
  },
  {
   "cell_type": "markdown",
   "metadata": {},
   "source": [
    "__Q:__ Simulate performing this random trial every day for a year, calculating the mean of each daily sample of 10, and plot the resultant sampling distribution of the mean."
   ]
  },
  {
   "cell_type": "markdown",
   "metadata": {},
   "source": [
    "__A:__"
   ]
  },
  {
   "cell_type": "code",
   "execution_count": 17,
   "metadata": {},
   "outputs": [
    {
     "data": {
      "image/png": "[encoded data removed]",
      "text/plain": [
       "<Figure size 432x288 with 1 Axes>"
      ]
     },
     "metadata": {
      "needs_background": "light"
     },
     "output_type": "display_data"
    },
    {
     "data": {
      "image/png": "[encoded data removed]",
      "text/plain": [
       "<Figure size 432x288 with 1 Axes>"
      ]
     },
     "metadata": {
      "needs_background": "light"
     },
     "output_type": "display_data"
    }
   ],
   "source": [
    "seed(47)\n",
    "\n",
    "\n",
    "# take your samples here\n",
    "daily_sample_means = [np.mean(townsfolk_sampler(10)) for _ in range(365)]\n",
    "                      \n",
    "pd.Series(daily_sample_means).plot.kde()\n",
    "plt.tight_layout()\n",
    "plt.show()\n",
    "\n",
    "# Plot Sample Distribution\n",
    "_ = plt.hist(daily_sample_means, bins=15)\n",
    "_ = plt.xlabel('Daily Sample Mean')\n",
    "_ = plt.ylabel('')\n",
    "_ = plt.title('Mean Distribution of Daily Samples')"
   ]
  },
  {
   "cell_type": "markdown",
   "metadata": {},
   "source": [
    "The above is the distribution of the means of samples of size 10 taken from our population. The Central Limit Theorem tells us the expected mean of this distribution will be equal to the population mean, and standard deviation will be $\\sigma / \\sqrt n$, which, in this case, should be approximately 1.58."
   ]
  },
  {
   "cell_type": "markdown",
   "metadata": {},
   "source": [
    "__Q:__ Verify the above results from the CLT."
   ]
  },
  {
   "cell_type": "markdown",
   "metadata": {},
   "source": [
    "__A:__"
   ]
  },
  {
   "cell_type": "code",
   "execution_count": 18,
   "metadata": {},
   "outputs": [
    {
     "name": "stdout",
     "output_type": "stream",
     "text": [
      "Average Height of sample from population: 171.8660049358649\n"
     ]
    }
   ],
   "source": [
    "mean_samplesofmeans = np.mean(daily_sample_means)\n",
    "print('Average Height of sample from population: {}'.format(mean_samplesofmeans))"
   ]
  },
  {
   "cell_type": "code",
   "execution_count": 19,
   "metadata": {},
   "outputs": [
    {
     "name": "stdout",
     "output_type": "stream",
     "text": [
      "Standard Deviation for the sample:1.58\n"
     ]
    }
   ],
   "source": [
    "std_samplesofmeans = np.std(daily_sample_means)\n",
    "print('Standard Deviation for the sample:{}'.format(round(std_samplesofmeans, 2)))"
   ]
  },
  {
   "cell_type": "markdown",
   "metadata": {},
   "source": [
    "Remember, in this instance, we knew our population parameters, that the average height really is 172 cm and the standard deviation is 5 cm, and we see some of our daily estimates of the population mean were as low as around 168 and some as high as 176."
   ]
  },
  {
   "cell_type": "markdown",
   "metadata": {},
   "source": [
    "__Q:__ Repeat the above year's worth of samples but for a sample size of 50 (perhaps you had a bigger budget for conducting surveys that year!) Would you expect your distribution of sample means to be wider (more variable) or narrower (more consistent)? Compare your resultant summary statistics to those predicted by the CLT."
   ]
  },
  {
   "cell_type": "markdown",
   "metadata": {},
   "source": [
    "__A:__ I Would expect less variance with more daily samples of means (more consistant)"
   ]
  },
  {
   "cell_type": "code",
   "execution_count": 20,
   "metadata": {},
   "outputs": [
    {
     "data": {
      "image/png": "[encoded data removed]",
      "text/plain": [
       "<Figure size 432x288 with 1 Axes>"
      ]
     },
     "metadata": {
      "needs_background": "light"
     },
     "output_type": "display_data"
    },
    {
     "data": {
      "image/png": "[encoded data removed]",
      "text/plain": [
       "<Figure size 432x288 with 1 Axes>"
      ]
     },
     "metadata": {
      "needs_background": "light"
     },
     "output_type": "display_data"
    }
   ],
   "source": [
    "seed(47)\n",
    "# calculate daily means from the larger sample size here\n",
    "_50daily_sample_means = [np.mean(townsfolk_sampler(50)) for _ in range(365)]\n",
    "\n",
    "pd.Series(_50daily_sample_means).plot.kde()\n",
    "plt.tight_layout()\n",
    "plt.show()\n",
    "\n",
    "# Plot Sample Distribution\n",
    "_ = plt.hist(_50daily_sample_means, bins=15)\n",
    "_ = plt.xlabel('Daily Sample Mean')\n",
    "_ = plt.ylabel('')\n",
    "_ = plt.title('Mean Distribution of Daily Samples')"
   ]
  },
  {
   "cell_type": "code",
   "execution_count": 21,
   "metadata": {},
   "outputs": [
    {
     "name": "stdout",
     "output_type": "stream",
     "text": [
      "Average Height of Sampling Distribution: 171.94366080916114\n"
     ]
    }
   ],
   "source": [
    "mean_50samplesofmeans = np.mean(_50daily_sample_means)\n",
    "print('Average Height of Sampling Distribution: {}'.format(mean_50samplesofmeans))"
   ]
  },
  {
   "cell_type": "code",
   "execution_count": 22,
   "metadata": {},
   "outputs": [
    {
     "name": "stdout",
     "output_type": "stream",
     "text": [
      "Standard Deviation for the Sampling Distribution of Mean:1.58\n"
     ]
    }
   ],
   "source": [
    "std_50samplesofmeans = np.std(daily_sample_means)\n",
    "print('Standard Deviation for the Sampling Distribution of Mean:{}'.format(round(std_50samplesofmeans, 2)))"
   ]
  },
  {
   "cell_type": "markdown",
   "metadata": {},
   "source": [
    "What we've seen so far, then, is that we can estimate population parameters from a sample from the population, and that samples have their own distributions. Furthermore, the larger the sample size, the narrower are those sampling distributions."
   ]
  },
  {
   "cell_type": "markdown",
   "metadata": {},
   "source": [
    "### III Normally testing times!"
   ]
  },
  {
   "cell_type": "markdown",
   "metadata": {},
   "source": [
    "All of the above is well and good. We've been sampling from a population we know is normally distributed, we've come to understand when to use $n$ and when to use $n-1$ in the denominator to calculate the spread of a distribution, and we've  seen the Central Limit Theorem in action for a sampling distribution. All seems very well behaved in Frequentist land. But, well, why should we really care?"
   ]
  },
  {
   "cell_type": "markdown",
   "metadata": {},
   "source": [
    "Remember, we rarely (if ever) actually know our population parameters but you still have to estimate them somehow. If we want to make inferences such as \"is this observation unusual?\" or \"has my population mean changed?\" then you need to have some idea of what the underlying distribution is so you can calculate relevant probabilities. In frequentist inference, you use the formulas above to deduce these population parameters. Take a moment in the next part of this assignment to refresh your understanding of how these probabilities work."
   ]
  },
  {
   "cell_type": "markdown",
   "metadata": {},
   "source": [
    "Recall some basic properties of the standard Normal distribution, such as about 68% of observations being within plus or minus 1 standard deviation of the mean.\n",
    "\n",
    "__Q:__ Using this fact, calculate the probability of observing the value 1 or less in a single observation from the standard normal distribution. Hint: you may find it helpful to sketch the standard normal distribution (the familiar bell shape) and mark the number of standard deviations from the mean on the x-axis and shade the regions of the curve that contain certain percentages of the population."
   ]
  },
  {
   "cell_type": "code",
   "execution_count": 23,
   "metadata": {},
   "outputs": [
    {
     "name": "stdout",
     "output_type": "stream",
     "text": [
      "Population mean -0.014911765247969949, \n",
      "Population size 7000.\n",
      "Population variance: 0.9813948595372293\n",
      "Population Std: 0.9906537536078028\n",
      "Population skew: 0.0, Population kurtosis: 0.0\n"
     ]
    }
   ],
   "source": [
    "seed(7)\n",
    "data = norm.rvs(0, 1, size=7000)\n",
    "\n",
    "data_mean = np.mean(data)\n",
    "data_size = data.size\n",
    "print('Population mean {}, \\nPopulation size {}.'.format(data_mean, data_size))\n",
    "\n",
    "data_ss = np.sum((data - data_mean) ** 2)\n",
    "data_pop_var = data_ss / (data_size - 1)\n",
    "print('Population variance: {}'.format(data_pop_var))\n",
    "\n",
    "data_pop_std = np.sqrt(data_ss / (data_size - 1))         # Or, data_pop_std = np.std(data, ddof=1)\n",
    "print('Population Std: {}'.format(data_pop_std))\n",
    "\n",
    "# Calculate a few first moments\n",
    "skew, kurt = norm.stats(moments='sk')                  # can also pull mean ('m'), var ('v') w/ this method\n",
    "string = 'Population skew: {}, Population kurtosis: {}'\n",
    "print(string.format(skew, kurt)) "
   ]
  },
  {
   "cell_type": "markdown",
   "metadata": {},
   "source": [
    "*****\n",
    "Calculating by hand (for fun)"
   ]
  },
  {
   "cell_type": "code",
   "execution_count": 24,
   "metadata": {},
   "outputs": [
    {
     "name": "stdout",
     "output_type": "stream",
     "text": [
      "+1 std probability 0.34\n",
      "-1 std probability 0.34\n",
      "+2 std probability 0.135\n",
      "-2 std probability 0.135\n",
      "+/- 1 std probability 0.68\n",
      "+/- 2 std probability 0.95\n",
      "outlier probability 0.05\n",
      "\n",
      "probability of observing the value 1 or less in a single observation from a normal distribution, approximately: 0.84\n"
     ]
    }
   ],
   "source": [
    "entire_dist = 1.0\n",
    "central_tendancy = 0.5\n",
    "plus_1std_probability = .34\n",
    "print('+1 std probability {}'.format(plus_1std_probability))\n",
    "\n",
    "minus_1std_probability = .34\n",
    "print('-1 std probability {}'.format(minus_1std_probability))\n",
    "\n",
    "plus_2std_probability = .135\n",
    "print('+2 std probability {}'.format(plus_2std_probability))\n",
    "\n",
    "minus_2std_probability = .135\n",
    "print('-2 std probability {}'.format(minus_2std_probability))\n",
    "\n",
    "plus_minus_1std_probability = plus_1std_probability + minus_1std_probability\n",
    "print('+/- 1 std probability {}'.format(plus_minus_1std_probability))\n",
    "\n",
    "plus_minus_2std_probability = round(plus_1std_probability + minus_1std_probability + plus_2std_probability + minus_2std_probability, 2)\n",
    "print('+/- 2 std probability {}'.format(plus_minus_2std_probability))\n",
    "\n",
    "outlier_probability = round(entire_dist - plus_minus_2std_probability, 2)\n",
    "neg_outlier_probability = outlier_probability / 2\n",
    "pos_outlier_probability = outlier_probability / 2\n",
    "print('outlier probability {}'.format(outlier_probability))\n",
    "\n",
    "approximate_answer = round((plus_1std_probability + minus_1std_probability + minus_2std_probability + neg_outlier_probability), 2)\n",
    "string = '\\nprobability of observing the value 1 or less in a single observation from a normal distribution, approximately: {}'\n",
    "print(string.format(approximate_answer))"
   ]
  },
  {
   "cell_type": "code",
   "execution_count": 25,
   "metadata": {},
   "outputs": [
    {
     "data": {
      "image/png": "[encoded data removed]",
      "text/plain": [
       "<Figure size 1080x432 with 1 Axes>"
      ]
     },
     "metadata": {
      "needs_background": "light"
     },
     "output_type": "display_data"
    }
   ],
   "source": [
    "# Plot\n",
    "seed(7)\n",
    "fig, ax = plt.subplots(1, figsize=(15, 6))\n",
    "ax.hist(data, bins=45)\n",
    "# Central Tendancy\n",
    "ax.axvline(0, color='r')\n",
    "string = \"Central Tendancy\" \n",
    "ax.annotate(string, xy=(0, 400),\n",
    "            xytext=(0.1, 470), arrowprops=dict(facecolor='red', shrink=0.05))\n",
    "# 1 standard deviation\n",
    "ax.axvline(0+1, color='r', lw=0.5, ls='--')\n",
    "string = \"      +1 std range\\n    Probability: {}\" \n",
    "ax.annotate(string.format(plus_1std_probability), xy=(1, 350), xytext=(0.12, 200),\n",
    "            arrowprops=dict(facecolor='red', shrink=0.05))\n",
    "\n",
    "# -1 standard deviation\n",
    "ax.axvline(0-1, color='r', lw=0.5, ls='--')\n",
    "string = \"      -1 std range\\n    Probability: {}\" \n",
    "ax.annotate(string.format(minus_1std_probability), xy=(-1, 350), xytext=(-0.89, 200),\n",
    "            arrowprops=dict(facecolor='red', shrink=0.05))\n",
    "\n",
    "# +2 standard deviations\n",
    "ax.axvline(0+2, color='r', lw=0.5, ls='-.')\n",
    "string = \"      +2 std range\\n     Probability: {}\" \n",
    "ax.annotate(string.format(plus_2std_probability), xy=(2, 300), xytext=(1, 50),\n",
    "            arrowprops=dict(facecolor='red', shrink=0.05))\n",
    "\n",
    "# -2 standard deviations\n",
    "ax.axvline(0-2, color='r', lw=0.5, ls='-.')\n",
    "string = \"      -2 std range\\n    Probability: {}\" \n",
    "ax.annotate(string.format(minus_2std_probability), xy=(-2, 300), xytext=(-1.88, 50),\n",
    "            arrowprops=dict(facecolor='red', shrink=0.05))\n",
    "plt.tight_layout()\n",
    "\n",
    "# Positive Outlier range\n",
    "ax.axvline(0+3.74, color='r', lw=0.5, ls='-.')\n",
    "string = \" Positive outlier range\\n    Probability: {}\" \n",
    "ax.annotate(string.format(pos_outlier_probability), xy=(2.75, 300), xytext=(2.35, 200))#, arrowprops=dict(facecolor='red', shrink=0.05))\n",
    "plt.tight_layout()\n",
    "\n",
    "# Negative Outlier range\n",
    "ax.axvline(0-3.54, color='r', lw=0.5, ls='-.')\n",
    "string = \" Negative outlier range\\n    Probability: {}\" \n",
    "ax.annotate(string.format(neg_outlier_probability), xy=(-3.5, 300), xytext=(-3.2, 200))#, arrowprops=dict(facecolor='red', shrink=0.05))\n",
    "plt.tight_layout()"
   ]
  },
  {
   "cell_type": "markdown",
   "metadata": {},
   "source": [
    "Calculating this probability involved calculating the area under the pdf from the value of 1 and below. To put it another way, we need to integrate the pdf. We could just add together the known areas of chunks (from -Inf to 0 and then 0 to $+\\sigma$ in the example above. One way to do this is using look up tables (literally). Fortunately, scipy has this functionality built in with the cdf() function."
   ]
  },
  {
   "cell_type": "markdown",
   "metadata": {},
   "source": [
    "__Q:__ Use the cdf() function to answer the question above again and verify you get the same answer."
   ]
  },
  {
   "cell_type": "code",
   "execution_count": 26,
   "metadata": {},
   "outputs": [
    {
     "name": "stdout",
     "output_type": "stream",
     "text": [
      "mean: -0.014911765247969949\n",
      "stf: 0.9906537536078028\n",
      "Probability that a random height sample from population is <= 1: 0.23827376052975172\n",
      "Probability that a random height sample from population is <= 1: 0.8471973157782738\n"
     ]
    },
    {
     "data": {
      "image/png": "[encoded data removed]",
      "text/plain": [
       "<Figure size 1080x432 with 1 Axes>"
      ]
     },
     "metadata": {
      "needs_background": "light"
     },
     "output_type": "display_data"
    },
    {
     "data": {
      "image/png": "[encoded data removed]",
      "text/plain": [
       "<Figure size 1080x432 with 1 Axes>"
      ]
     },
     "metadata": {
      "needs_background": "light"
     },
     "output_type": "display_data"
    },
    {
     "data": {
      "image/png": "[encoded data removed]",
      "text/plain": [
       "<Figure size 1080x432 with 1 Axes>"
      ]
     },
     "metadata": {
      "needs_background": "light"
     },
     "output_type": "display_data"
    }
   ],
   "source": [
    "import seaborn as sns\n",
    "\n",
    "print('mean: {}'.format(data_mean))\n",
    "print('stf: {}'.format(data_pop_std))\n",
    "\n",
    "# PDF Calculation\n",
    "less_than_1_or_equal_pdf = norm.pdf(1, data_mean, data_pop_std)\n",
    "print('Probability that a random height sample from population is <= 1: {}'.format(less_than_1_or_equal_pdf))\n",
    "\n",
    "# CDF Calculation\n",
    "less_than_1_or_equal_cdf = norm.cdf(1, data_mean, data_pop_std)\n",
    "print('Probability that a random height sample from population is <= 1: {}'.format(less_than_1_or_equal_cdf))\n",
    "\n",
    "# Plot PDF\n",
    "norm_pdf = norm.pdf(data)\n",
    "fig, ax = plt.subplots(figsize=(15, 6))\n",
    "sns.lineplot(x=data, y=norm_pdf)\n",
    "plt.title('PDF')\n",
    "plt.axvline(1, color='r', lw=0.5, ls='--', ymax=0.6)\n",
    "plt.tight_layout()\n",
    "\n",
    "# Plot CDF\n",
    "norm_cdf = norm.cdf(data)\n",
    "fig, ax = plt.subplots(figsize=(15, 6))\n",
    "sns.lineplot(x=data, y=norm_cdf)\n",
    "plt.title('CDF')\n",
    "plt.axvline(1, color='r', lw=0.5, ls='--', ymax=1)\n",
    "plt.axhline(0.84, color='r', lw=0.5, ls='--', xmax=1)\n",
    "plt.tight_layout()\n",
    "\n",
    "# Plot PPF\n",
    "norm_ppf = norm.ppf(data)\n",
    "fig, ax = plt.subplots(figsize=(15, 6))\n",
    "sns.lineplot(x=data, y=norm_ppf)\n",
    "plt.title('PPF')\n",
    "plt.axvline(0.84, color='r', lw=0.5, ls='--', ymax=1)\n",
    "plt.axhline(1, color='r', lw=0.5, ls='--', xmax=1)\n",
    "plt.tight_layout()"
   ]
  },
  {
   "cell_type": "code",
   "execution_count": 27,
   "metadata": {},
   "outputs": [
    {
     "name": "stdout",
     "output_type": "stream",
     "text": [
      "least squares regression of CDF:\n",
      "\n",
      "slope; 0.281990902431803,\n",
      "intercept: 0.5013760671630806,\n",
      "r-val: 0.9764981130940719,\n",
      "p-val: 0.0,\n",
      "std_error: 0.0007440057430729417\n",
      "r-squared: 0.9535485648762828\n",
      "----------------------------\n",
      "\n",
      "least squares regression of PDF:\n",
      "\n",
      "slope; 0.004300585983953221,\n",
      "intercept: 0.28434436994973744,\n",
      "r-val: 0.03862059812023142,\n",
      "p-val: 0.0012298743743291904,\n",
      "std_error: 0.001330140578859259\n",
      "r-squared: 0.0014915505991644228\n"
     ]
    }
   ],
   "source": [
    "from scipy.stats import linregress\n",
    "print('least squares regression of CDF:\\n')\n",
    "slope, intercept, r_value, p_value, std_err = linregress(data,norm_cdf)\n",
    "string = \"slope; {},\\nintercept: {},\\nr-val: {},\\np-val: {},\\nstd_error: {}\"\n",
    "print(string.format(slope, intercept, r_value, p_value, std_err))\n",
    "print('r-squared: {}'.format(r_value**2))\n",
    "print('----------------------------\\n')\n",
    "\n",
    "print('least squares regression of PDF:\\n')\n",
    "slope, intercept, r_value, p_value, std_err = linregress(data,norm_pdf)\n",
    "string = \"slope; {},\\nintercept: {},\\nr-val: {},\\np-val: {},\\nstd_error: {}\"\n",
    "print(string.format(slope, intercept, r_value, p_value, std_err))\n",
    "print('r-squared: {}'.format(r_value**2))"
   ]
  },
  {
   "cell_type": "markdown",
   "metadata": {},
   "source": [
    "__Q:__ Using our knowledge of the population parameters for our townsfolk's heights, what is the probability of selecting one person at random and their height being 177 cm or less? Calculate this using both of the approaches given above."
   ]
  },
  {
   "cell_type": "code",
   "execution_count": 28,
   "metadata": {},
   "outputs": [
    {
     "name": "stdout",
     "output_type": "stream",
     "text": [
      "mean: 172.02\n",
      "std: 4.99\n"
     ]
    },
    {
     "data": {
      "image/png": "[encoded data removed]",
      "text/plain": [
       "<Figure size 432x288 with 1 Axes>"
      ]
     },
     "metadata": {
      "needs_background": "light"
     },
     "output_type": "display_data"
    }
   ],
   "source": [
    "seed(47)\n",
    "plt.hist(pop_heights, bins=30)\n",
    "plt.axvline(177, color='r', lw=1, ls='-')#, ymax=1)\n",
    "plt.tight_layout()\n",
    "print('mean: {}'.format(round(np.mean(pop_heights), 2)))\n",
    "print('std: {}'.format(round(np.std(pop_heights), 2)))"
   ]
  },
  {
   "cell_type": "code",
   "execution_count": 29,
   "metadata": {},
   "outputs": [
    {
     "name": "stdout",
     "output_type": "stream",
     "text": [
      "Probability that a random height sample from population is <= 177: 0.8408593489142486\n"
     ]
    }
   ],
   "source": [
    "norm.cdf(177, 172.02, 4.99)\n",
    "print('Probability that a random height sample from population is <= 177: {}'.format(norm.cdf(177, 172.02, 4.99)))"
   ]
  },
  {
   "cell_type": "markdown",
   "metadata": {},
   "source": [
    "__Q:__ Turning this question around. Let's say we randomly pick one person and measure their height and find they are 2.00 m tall? How surprised should we be at this result, given what we know about the population distribution? In other words, how likely would it be to obtain a value at least as extreme as this? Express this as a probability."
   ]
  },
  {
   "cell_type": "markdown",
   "metadata": {},
   "source": [
    "__A:__"
   ]
  },
  {
   "cell_type": "code",
   "execution_count": 30,
   "metadata": {},
   "outputs": [
    {
     "name": "stdout",
     "output_type": "stream",
     "text": [
      "mean: 172.02\n",
      "std: 4.99\n",
      "Likelihood to randomly sample a height of >= 2(m) or 200(cm): 1.028044333264163e-08\n"
     ]
    },
    {
     "data": {
      "image/png": "[encoded data removed]",
      "text/plain": [
       "<Figure size 432x288 with 1 Axes>"
      ]
     },
     "metadata": {
      "needs_background": "light"
     },
     "output_type": "display_data"
    }
   ],
   "source": [
    "seed(47)\n",
    "plt.hist(pop_heights, bins=30)\n",
    "plt.axvline(200, color='r', lw=1, ls='-')#, ymax=1)\n",
    "plt.tight_layout()\n",
    "print('mean: {}'.format(round(np.mean(pop_heights), 2)))\n",
    "print('std: {}'.format(round(np.std(pop_heights), 2)))\n",
    "\n",
    "#3 Survival function to find probability >= given random sample: 2m or 200 cm\n",
    "print('Likelihood to randomly sample a height of >= 2(m) or 200(cm): {}'.format(norm.sf(200, 172.02, 4.99)))"
   ]
  },
  {
   "cell_type": "markdown",
   "metadata": {},
   "source": [
    "We could calculate this probability by virtue of knowing the population parameters. We were then able to use the known properties of the relevant normal distribution to calculate the probability of observing a value at least as extreme as our test value. We have essentially just performed a z-test (albeit without having prespecified a threshold for our \"level of surprise\")!"
   ]
  },
  {
   "cell_type": "markdown",
   "metadata": {},
   "source": [
    "We're about to come to a pinch, though here. We've said a couple of times that we rarely, if ever, know the true population parameters; we have to estimate them from our sample and we cannot even begin to estimate the standard deviation from a single observation. This is very true and usually we have sample sizes larger than one. This means we can calculate the mean of the sample as our best estimate of the population mean and the standard deviation as our best estimate of the population standard deviation. In other words, we are now coming to deal with the sampling distributions we mentioned above as we are generally concerned with the properties of the sample means we obtain.\n",
    "\n",
    "Above, we highlighted one result from the CLT, whereby the sampling distribution (of the mean) becomes narrower and narrower with the square root of the sample size. We remind ourselves that another result from the CLT is that _even if the underlying population distribution is not normal, the sampling distribution will tend to become normal with sufficiently large sample size_. This is the key driver for us 'requiring' a certain sample size, for example you may frequently see a minimum sample size of 30 stated in many places. In reality this is simply a rule of thumb; if the underlying distribution is approximately normal then your sampling distribution will already be pretty normal, but if the underlying distribution is heavily skewed then you'd want to increase your sample size."
   ]
  },
  {
   "cell_type": "markdown",
   "metadata": {},
   "source": [
    "__Q:__ Let's now start from the position of knowing nothing about the heights of people in our town.\n",
    "* Use our favorite random seed of 47, to randomly sample the heights of 50 townsfolk\n",
    "* Estimate the population mean using np.mean\n",
    "* Estimate the population standard deviation using np.std (remember which denominator to use!)\n",
    "* Calculate the (95%) [margin of error](https://www.statisticshowto.datasciencecentral.com/probability-and-statistics/hypothesis-testing/margin-of-error/#WhatMofE) (use the exact critial z value to 2 decimal places - [look this up](https://www.statisticshowto.datasciencecentral.com/probability-and-statistics/find-critical-values/) or use norm.ppf())\n",
    "* Calculate the 95% Confidence Interval of the mean\n",
    "* Does this interval include the true population mean?"
   ]
  },
  {
   "cell_type": "markdown",
   "metadata": {},
   "source": [
    "__A:__"
   ]
  },
  {
   "cell_type": "code",
   "execution_count": 39,
   "metadata": {},
   "outputs": [],
   "source": [
    "seed(47)\n",
    "# if we know our population mean and std: \n",
    "pop_heights = norm.rvs(172, 5, size=50000)"
   ]
  },
  {
   "cell_type": "code",
   "execution_count": 46,
   "metadata": {},
   "outputs": [
    {
     "data": {
      "text/plain": [
       "172.0192602425845"
      ]
     },
     "execution_count": 46,
     "metadata": {},
     "output_type": "execute_result"
    }
   ],
   "source": [
    "# estimate pop mean\n",
    "seed(47)\n",
    "pop_mean = np.mean(pop_heights)\n",
    "pop_mean"
   ]
  },
  {
   "cell_type": "code",
   "execution_count": 47,
   "metadata": {},
   "outputs": [
    {
     "data": {
      "text/plain": [
       "4.990839139566387"
      ]
     },
     "execution_count": 47,
     "metadata": {},
     "output_type": "execute_result"
    }
   ],
   "source": [
    "# estimate poipulation std\n",
    "seed(47)\n",
    "pop_std = np.std(pop_heights)\n",
    "pop_std"
   ]
  },
  {
   "cell_type": "code",
   "execution_count": 42,
   "metadata": {},
   "outputs": [
    {
     "name": "stdout",
     "output_type": "stream",
     "text": [
      "P-value of <= 180cm: 9.586277943855013e-255\n",
      "P-value of Sample <= mean height : 1.2607423502983637e-259\n",
      "P-value of Sample <= 160cm: 1.4890826913592618e-264\n"
     ]
    }
   ],
   "source": [
    "print('P-value of <= 180cm: {}'.format(norm.cdf(1.64, 172, 5)))\n",
    "print('P-value of Sample <= mean height : {}'.format(norm.cdf(0, 172, 5)))\n",
    "print('P-value of Sample <= 160cm: {}'.format(norm.cdf(-1.64, 172, 5)))\n",
    "\n",
    "#print('P-value Calculation: {}'.format(round(norm.cdf(.95), 2)))\n",
    "\n",
    "#print('P-Value Calculation: {}'.format(round(norm.cdf(.05), 2)))"
   ]
  },
  {
   "cell_type": "code",
   "execution_count": 48,
   "metadata": {},
   "outputs": [
    {
     "name": "stdout",
     "output_type": "stream",
     "text": [
      "Z-score at 95% confidence: 1.64\n",
      "Critical Value high end: 180.0\n",
      "Z-score at 5% confidence: -1.64\n",
      "Critical Value low end: 164.0\n",
      "95% confidence Interval of the population mean:\n",
      "low end 163.81218040151217 - high end 180.22781959848786\n"
     ]
    },
    {
     "data": {
      "image/png": "[encoded data removed]",
      "text/plain": [
       "<Figure size 432x288 with 1 Axes>"
      ]
     },
     "metadata": {
      "needs_background": "light"
     },
     "output_type": "display_data"
    }
   ],
   "source": [
    "print('Z-score at 95% confidence: {}'.format(round(norm.ppf(.95), 2)))\n",
    "print('Critical Value high end: {}'.format(round(norm.ppf(.95, 172.02, 4.99))))\n",
    "print('Z-score at 5% confidence: {}'.format(round(norm.ppf(.05), 2)))\n",
    "print('Critical Value low end: {}'.format(round(norm.ppf(.05, 172.02, 4.99))))\n",
    "low_end = norm.ppf(.05, 172.02, 4.99)\n",
    "high_end = norm.ppf(.95, 172.02, 4.99)\n",
    "string = '95% confidence Interval of the population mean:\\nlow end {} - high end {}'\n",
    "\n",
    "print(string.format(low_end, high_end))\n",
    "\n",
    "plt.hist(pop_heights, bins=30)\n",
    "plt.axvline(180, color='r', lw=1, ls='-')\n",
    "plt.axvline(160, color='r', lw=1, ls='-')\n",
    "plt.tight_layout()"
   ]
  },
  {
   "cell_type": "code",
   "execution_count": 49,
   "metadata": {},
   "outputs": [
    {
     "data": {
      "text/plain": [
       "172.0192602425845"
      ]
     },
     "execution_count": 49,
     "metadata": {},
     "output_type": "execute_result"
    }
   ],
   "source": [
    "np.mean(pop_heights)"
   ]
  },
  {
   "cell_type": "markdown",
   "metadata": {},
   "source": [
    "Yes, the confidence interval for sample at 95% does contain true population mean."
   ]
  },
  {
   "cell_type": "markdown",
   "metadata": {},
   "source": [
    "__Q:__ Above we calculated the confidence interval using the critical z value. What is the problem with this? What requirement, or requirements, are we (strictly) failing?"
   ]
  },
  {
   "cell_type": "markdown",
   "metadata": {},
   "source": [
    "__A:__ Not taking into account many observations, therefore wider range. Need to divide the sample std by the square-root of the number of samples"
   ]
  },
  {
   "cell_type": "markdown",
   "metadata": {},
   "source": [
    "__Q:__ Calculate the 95% confidence interval for the mean using the _t_ distribution. Is this wider or narrower than that based on the normal distribution above? If you're unsure, you may find this [resource](https://www.statisticshowto.datasciencecentral.com/probability-and-statistics/confidence-interval/) useful. For calculating the critical value, remember how you could calculate this for the normal distribution using norm.ppf()."
   ]
  },
  {
   "cell_type": "code",
   "execution_count": 52,
   "metadata": {},
   "outputs": [
    {
     "name": "stdout",
     "output_type": "stream",
     "text": [
      "(164.5586302035272, 181.0043915118304)\n"
     ]
    }
   ],
   "source": [
    "pop_sample = np.random.choice(pop_heights, size=50)\n",
    "sample_mean = np.mean(pop_sample)\n",
    "sample_std = np.std(pop_sample, ddof=1)\n",
    "#The 95% confidence interval for population mean\n",
    "print(norm.interval(0.95, loc=sample_mean, scale=sample_std))"
   ]
  },
  {
   "cell_type": "markdown",
   "metadata": {},
   "source": [
    "This is slightly wider than the previous confidence interval. This reflects the greater uncertainty given that we are estimating population parameters from a sample."
   ]
  },
  {
   "cell_type": "markdown",
   "metadata": {},
   "source": [
    "## Learning outcomes"
   ]
  },
  {
   "cell_type": "markdown",
   "metadata": {},
   "source": [
    "Having completed this project notebook, you now have hands-on experience:\n",
    "* sampling and calculating probabilities from a normal distribution\n",
    "* the correct way to estimate the standard deviation of a population (the population parameter) from a sample\n",
    "* what a sampling distribution is and how the Central Limit Theorem applies\n",
    "* how to calculate critical values and confidence intervals"
   ]
  }
 ],
 "metadata": {
  "hide_input": false,
  "kernelspec": {
   "display_name": "Python 3",
   "language": "python",
   "name": "python3"
  },
  "language_info": {
   "codemirror_mode": {
    "name": "ipython",
    "version": 3
   },
   "file_extension": ".py",
   "mimetype": "text/x-python",
   "name": "python",
   "nbconvert_exporter": "python",
   "pygments_lexer": "ipython3",
   "version": "3.6.6"
  },
  "toc": {
   "base_numbering": 1,
   "nav_menu": {},
   "number_sections": true,
   "sideBar": true,
   "skip_h1_title": false,
   "title_cell": "Table of Contents",
   "title_sidebar": "Contents",
   "toc_cell": false,
   "toc_position": {},
   "toc_section_display": true,
   "toc_window_display": false
  },
  "varInspector": {
   "cols": {
    "lenName": 16,
    "lenType": 16,
    "lenVar": 40
   },
   "kernels_config": {
    "python": {
     "delete_cmd_postfix": "",
     "delete_cmd_prefix": "del ",
     "library": "var_list.py",
     "varRefreshCmd": "print(var_dic_list())"
    },
    "r": {
     "delete_cmd_postfix": ") ",
     "delete_cmd_prefix": "rm(",
     "library": "var_list.r",
     "varRefreshCmd": "cat(var_dic_list()) "
    }
   },
   "types_to_exclude": [
    "module",
    "function",
    "builtin_function_or_method",
    "instance",
    "_Feature"
   ],
   "window_display": false
  }
 },
 "nbformat": 4,
 "nbformat_minor": 2
}
